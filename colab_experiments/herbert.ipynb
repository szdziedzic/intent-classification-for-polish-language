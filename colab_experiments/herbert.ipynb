{
  "nbformat": 4,
  "nbformat_minor": 0,
  "metadata": {
    "colab": {
      "provenance": [],
      "authorship_tag": "ABX9TyN4rQNB+oK7QRGO2hf133Gj",
      "include_colab_link": true
    },
    "kernelspec": {
      "name": "python3",
      "display_name": "Python 3"
    },
    "language_info": {
      "name": "python"
    }
  },
  "cells": [
    {
      "cell_type": "markdown",
      "metadata": {
        "id": "view-in-github",
        "colab_type": "text"
      },
      "source": [
        "<a href=\"https://colab.research.google.com/github/szdziedzic/intent-classification-for-polish-language/blob/main/colab_experiments/herbert.ipynb\" target=\"_parent\"><img src=\"https://colab.research.google.com/assets/colab-badge.svg\" alt=\"Open In Colab\"/></a>"
      ]
    },
    {
      "cell_type": "code",
      "source": [
        "!pip install datasets"
      ],
      "metadata": {
        "colab": {
          "base_uri": "https://localhost:8080/"
        },
        "id": "-b686QGsYf8j",
        "outputId": "e7cef625-8b04-45cb-c9f3-f23ec0a20992"
      },
      "execution_count": 4,
      "outputs": [
        {
          "output_type": "stream",
          "name": "stdout",
          "text": [
            "Looking in indexes: https://pypi.org/simple, https://us-python.pkg.dev/colab-wheels/public/simple/\n",
            "Collecting datasets\n",
            "  Downloading datasets-2.13.0-py3-none-any.whl (485 kB)\n",
            "\u001b[2K     \u001b[90m━━━━━━━━━━━━━━━━━━━━━━━━━━━━━━━━━━━━━━\u001b[0m \u001b[32m485.6/485.6 kB\u001b[0m \u001b[31m10.0 MB/s\u001b[0m eta \u001b[36m0:00:00\u001b[0m\n",
            "\u001b[?25hRequirement already satisfied: numpy>=1.17 in /usr/local/lib/python3.10/dist-packages (from datasets) (1.22.4)\n",
            "Requirement already satisfied: pyarrow>=8.0.0 in /usr/local/lib/python3.10/dist-packages (from datasets) (9.0.0)\n",
            "Collecting dill<0.3.7,>=0.3.0 (from datasets)\n",
            "  Downloading dill-0.3.6-py3-none-any.whl (110 kB)\n",
            "\u001b[2K     \u001b[90m━━━━━━━━━━━━━━━━━━━━━━━━━━━━━━━━━━━━━━\u001b[0m \u001b[32m110.5/110.5 kB\u001b[0m \u001b[31m12.8 MB/s\u001b[0m eta \u001b[36m0:00:00\u001b[0m\n",
            "\u001b[?25hRequirement already satisfied: pandas in /usr/local/lib/python3.10/dist-packages (from datasets) (1.5.3)\n",
            "Requirement already satisfied: requests>=2.19.0 in /usr/local/lib/python3.10/dist-packages (from datasets) (2.27.1)\n",
            "Requirement already satisfied: tqdm>=4.62.1 in /usr/local/lib/python3.10/dist-packages (from datasets) (4.65.0)\n",
            "Collecting xxhash (from datasets)\n",
            "  Downloading xxhash-3.2.0-cp310-cp310-manylinux_2_17_x86_64.manylinux2014_x86_64.whl (212 kB)\n",
            "\u001b[2K     \u001b[90m━━━━━━━━━━━━━━━━━━━━━━━━━━━━━━━━━━━━━━\u001b[0m \u001b[32m212.5/212.5 kB\u001b[0m \u001b[31m27.8 MB/s\u001b[0m eta \u001b[36m0:00:00\u001b[0m\n",
            "\u001b[?25hCollecting multiprocess (from datasets)\n",
            "  Downloading multiprocess-0.70.14-py310-none-any.whl (134 kB)\n",
            "\u001b[2K     \u001b[90m━━━━━━━━━━━━━━━━━━━━━━━━━━━━━━━━━━━━━━\u001b[0m \u001b[32m134.3/134.3 kB\u001b[0m \u001b[31m16.0 MB/s\u001b[0m eta \u001b[36m0:00:00\u001b[0m\n",
            "\u001b[?25hRequirement already satisfied: fsspec[http]>=2021.11.1 in /usr/local/lib/python3.10/dist-packages (from datasets) (2023.4.0)\n",
            "Collecting aiohttp (from datasets)\n",
            "  Downloading aiohttp-3.8.4-cp310-cp310-manylinux_2_17_x86_64.manylinux2014_x86_64.whl (1.0 MB)\n",
            "\u001b[2K     \u001b[90m━━━━━━━━━━━━━━━━━━━━━━━━━━━━━━━━━━━━━━━━\u001b[0m \u001b[32m1.0/1.0 MB\u001b[0m \u001b[31m47.6 MB/s\u001b[0m eta \u001b[36m0:00:00\u001b[0m\n",
            "\u001b[?25hCollecting huggingface-hub<1.0.0,>=0.11.0 (from datasets)\n",
            "  Downloading huggingface_hub-0.15.1-py3-none-any.whl (236 kB)\n",
            "\u001b[2K     \u001b[90m━━━━━━━━━━━━━━━━━━━━━━━━━━━━━━━━━━━━━━\u001b[0m \u001b[32m236.8/236.8 kB\u001b[0m \u001b[31m27.6 MB/s\u001b[0m eta \u001b[36m0:00:00\u001b[0m\n",
            "\u001b[?25hRequirement already satisfied: packaging in /usr/local/lib/python3.10/dist-packages (from datasets) (23.1)\n",
            "Requirement already satisfied: pyyaml>=5.1 in /usr/local/lib/python3.10/dist-packages (from datasets) (6.0)\n",
            "Requirement already satisfied: attrs>=17.3.0 in /usr/local/lib/python3.10/dist-packages (from aiohttp->datasets) (23.1.0)\n",
            "Requirement already satisfied: charset-normalizer<4.0,>=2.0 in /usr/local/lib/python3.10/dist-packages (from aiohttp->datasets) (2.0.12)\n",
            "Collecting multidict<7.0,>=4.5 (from aiohttp->datasets)\n",
            "  Downloading multidict-6.0.4-cp310-cp310-manylinux_2_17_x86_64.manylinux2014_x86_64.whl (114 kB)\n",
            "\u001b[2K     \u001b[90m━━━━━━━━━━━━━━━━━━━━━━━━━━━━━━━━━━━━━━\u001b[0m \u001b[32m114.5/114.5 kB\u001b[0m \u001b[31m15.4 MB/s\u001b[0m eta \u001b[36m0:00:00\u001b[0m\n",
            "\u001b[?25hCollecting async-timeout<5.0,>=4.0.0a3 (from aiohttp->datasets)\n",
            "  Downloading async_timeout-4.0.2-py3-none-any.whl (5.8 kB)\n",
            "Collecting yarl<2.0,>=1.0 (from aiohttp->datasets)\n",
            "  Downloading yarl-1.9.2-cp310-cp310-manylinux_2_17_x86_64.manylinux2014_x86_64.whl (268 kB)\n",
            "\u001b[2K     \u001b[90m━━━━━━━━━━━━━━━━━━━━━━━━━━━━━━━━━━━━━━\u001b[0m \u001b[32m268.8/268.8 kB\u001b[0m \u001b[31m34.2 MB/s\u001b[0m eta \u001b[36m0:00:00\u001b[0m\n",
            "\u001b[?25hCollecting frozenlist>=1.1.1 (from aiohttp->datasets)\n",
            "  Downloading frozenlist-1.3.3-cp310-cp310-manylinux_2_5_x86_64.manylinux1_x86_64.manylinux_2_17_x86_64.manylinux2014_x86_64.whl (149 kB)\n",
            "\u001b[2K     \u001b[90m━━━━━━━━━━━━━━━━━━━━━━━━━━━━━━━━━━━━━━\u001b[0m \u001b[32m149.6/149.6 kB\u001b[0m \u001b[31m15.9 MB/s\u001b[0m eta \u001b[36m0:00:00\u001b[0m\n",
            "\u001b[?25hCollecting aiosignal>=1.1.2 (from aiohttp->datasets)\n",
            "  Downloading aiosignal-1.3.1-py3-none-any.whl (7.6 kB)\n",
            "Requirement already satisfied: filelock in /usr/local/lib/python3.10/dist-packages (from huggingface-hub<1.0.0,>=0.11.0->datasets) (3.12.0)\n",
            "Requirement already satisfied: typing-extensions>=3.7.4.3 in /usr/local/lib/python3.10/dist-packages (from huggingface-hub<1.0.0,>=0.11.0->datasets) (4.5.0)\n",
            "Requirement already satisfied: urllib3<1.27,>=1.21.1 in /usr/local/lib/python3.10/dist-packages (from requests>=2.19.0->datasets) (1.26.15)\n",
            "Requirement already satisfied: certifi>=2017.4.17 in /usr/local/lib/python3.10/dist-packages (from requests>=2.19.0->datasets) (2022.12.7)\n",
            "Requirement already satisfied: idna<4,>=2.5 in /usr/local/lib/python3.10/dist-packages (from requests>=2.19.0->datasets) (3.4)\n",
            "Requirement already satisfied: python-dateutil>=2.8.1 in /usr/local/lib/python3.10/dist-packages (from pandas->datasets) (2.8.2)\n",
            "Requirement already satisfied: pytz>=2020.1 in /usr/local/lib/python3.10/dist-packages (from pandas->datasets) (2022.7.1)\n",
            "Requirement already satisfied: six>=1.5 in /usr/local/lib/python3.10/dist-packages (from python-dateutil>=2.8.1->pandas->datasets) (1.16.0)\n",
            "Installing collected packages: xxhash, multidict, frozenlist, dill, async-timeout, yarl, multiprocess, huggingface-hub, aiosignal, aiohttp, datasets\n",
            "Successfully installed aiohttp-3.8.4 aiosignal-1.3.1 async-timeout-4.0.2 datasets-2.13.0 dill-0.3.6 frozenlist-1.3.3 huggingface-hub-0.15.1 multidict-6.0.4 multiprocess-0.70.14 xxhash-3.2.0 yarl-1.9.2\n"
          ]
        }
      ]
    },
    {
      "cell_type": "code",
      "source": [
        "!pip install transformers"
      ],
      "metadata": {
        "colab": {
          "base_uri": "https://localhost:8080/"
        },
        "id": "ttnWbJtSaH9c",
        "outputId": "5218e8c3-6a2e-453c-9a8e-15fb47b72718"
      },
      "execution_count": 16,
      "outputs": [
        {
          "output_type": "stream",
          "name": "stdout",
          "text": [
            "Looking in indexes: https://pypi.org/simple, https://us-python.pkg.dev/colab-wheels/public/simple/\n",
            "Collecting transformers\n",
            "  Downloading transformers-4.30.2-py3-none-any.whl (7.2 MB)\n",
            "\u001b[2K     \u001b[90m━━━━━━━━━━━━━━━━━━━━━━━━━━━━━━━━━━━━━━━━\u001b[0m \u001b[32m7.2/7.2 MB\u001b[0m \u001b[31m58.7 MB/s\u001b[0m eta \u001b[36m0:00:00\u001b[0m\n",
            "\u001b[?25hRequirement already satisfied: filelock in /usr/local/lib/python3.10/dist-packages (from transformers) (3.12.0)\n",
            "Requirement already satisfied: huggingface-hub<1.0,>=0.14.1 in /usr/local/lib/python3.10/dist-packages (from transformers) (0.15.1)\n",
            "Requirement already satisfied: numpy>=1.17 in /usr/local/lib/python3.10/dist-packages (from transformers) (1.22.4)\n",
            "Requirement already satisfied: packaging>=20.0 in /usr/local/lib/python3.10/dist-packages (from transformers) (23.1)\n",
            "Requirement already satisfied: pyyaml>=5.1 in /usr/local/lib/python3.10/dist-packages (from transformers) (6.0)\n",
            "Requirement already satisfied: regex!=2019.12.17 in /usr/local/lib/python3.10/dist-packages (from transformers) (2022.10.31)\n",
            "Requirement already satisfied: requests in /usr/local/lib/python3.10/dist-packages (from transformers) (2.27.1)\n",
            "Collecting tokenizers!=0.11.3,<0.14,>=0.11.1 (from transformers)\n",
            "  Downloading tokenizers-0.13.3-cp310-cp310-manylinux_2_17_x86_64.manylinux2014_x86_64.whl (7.8 MB)\n",
            "\u001b[2K     \u001b[90m━━━━━━━━━━━━━━━━━━━━━━━━━━━━━━━━━━━━━━━━\u001b[0m \u001b[32m7.8/7.8 MB\u001b[0m \u001b[31m109.8 MB/s\u001b[0m eta \u001b[36m0:00:00\u001b[0m\n",
            "\u001b[?25hCollecting safetensors>=0.3.1 (from transformers)\n",
            "  Downloading safetensors-0.3.1-cp310-cp310-manylinux_2_17_x86_64.manylinux2014_x86_64.whl (1.3 MB)\n",
            "\u001b[2K     \u001b[90m━━━━━━━━━━━━━━━━━━━━━━━━━━━━━━━━━━━━━━━━\u001b[0m \u001b[32m1.3/1.3 MB\u001b[0m \u001b[31m71.0 MB/s\u001b[0m eta \u001b[36m0:00:00\u001b[0m\n",
            "\u001b[?25hRequirement already satisfied: tqdm>=4.27 in /usr/local/lib/python3.10/dist-packages (from transformers) (4.65.0)\n",
            "Requirement already satisfied: fsspec in /usr/local/lib/python3.10/dist-packages (from huggingface-hub<1.0,>=0.14.1->transformers) (2023.4.0)\n",
            "Requirement already satisfied: typing-extensions>=3.7.4.3 in /usr/local/lib/python3.10/dist-packages (from huggingface-hub<1.0,>=0.14.1->transformers) (4.5.0)\n",
            "Requirement already satisfied: urllib3<1.27,>=1.21.1 in /usr/local/lib/python3.10/dist-packages (from requests->transformers) (1.26.15)\n",
            "Requirement already satisfied: certifi>=2017.4.17 in /usr/local/lib/python3.10/dist-packages (from requests->transformers) (2022.12.7)\n",
            "Requirement already satisfied: charset-normalizer~=2.0.0 in /usr/local/lib/python3.10/dist-packages (from requests->transformers) (2.0.12)\n",
            "Requirement already satisfied: idna<4,>=2.5 in /usr/local/lib/python3.10/dist-packages (from requests->transformers) (3.4)\n",
            "Installing collected packages: tokenizers, safetensors, transformers\n",
            "Successfully installed safetensors-0.3.1 tokenizers-0.13.3 transformers-4.30.2\n"
          ]
        }
      ]
    },
    {
      "cell_type": "code",
      "source": [
        "!pip install sacremoses"
      ],
      "metadata": {
        "colab": {
          "base_uri": "https://localhost:8080/"
        },
        "id": "OrKWyc1LaiiN",
        "outputId": "b2c6b586-1787-4b06-c5d6-ab8869631426"
      },
      "execution_count": 21,
      "outputs": [
        {
          "output_type": "stream",
          "name": "stdout",
          "text": [
            "Looking in indexes: https://pypi.org/simple, https://us-python.pkg.dev/colab-wheels/public/simple/\n",
            "Collecting sacremoses\n",
            "  Downloading sacremoses-0.0.53.tar.gz (880 kB)\n",
            "\u001b[2K     \u001b[90m━━━━━━━━━━━━━━━━━━━━━━━━━━━━━━━━━━━━━━\u001b[0m \u001b[32m880.6/880.6 kB\u001b[0m \u001b[31m13.7 MB/s\u001b[0m eta \u001b[36m0:00:00\u001b[0m\n",
            "\u001b[?25h  Preparing metadata (setup.py) ... \u001b[?25l\u001b[?25hdone\n",
            "Requirement already satisfied: regex in /usr/local/lib/python3.10/dist-packages (from sacremoses) (2022.10.31)\n",
            "Requirement already satisfied: six in /usr/local/lib/python3.10/dist-packages (from sacremoses) (1.16.0)\n",
            "Requirement already satisfied: click in /usr/local/lib/python3.10/dist-packages (from sacremoses) (8.1.3)\n",
            "Requirement already satisfied: joblib in /usr/local/lib/python3.10/dist-packages (from sacremoses) (1.2.0)\n",
            "Requirement already satisfied: tqdm in /usr/local/lib/python3.10/dist-packages (from sacremoses) (4.65.0)\n",
            "Building wheels for collected packages: sacremoses\n",
            "  Building wheel for sacremoses (setup.py) ... \u001b[?25l\u001b[?25hdone\n",
            "  Created wheel for sacremoses: filename=sacremoses-0.0.53-py3-none-any.whl size=895241 sha256=1c958fa364e498ad05b6acd17c1520692edc5c6aa08b1fee7c60353b6f12bfed\n",
            "  Stored in directory: /root/.cache/pip/wheels/00/24/97/a2ea5324f36bc626e1ea0267f33db6aa80d157ee977e9e42fb\n",
            "Successfully built sacremoses\n",
            "Installing collected packages: sacremoses\n",
            "Successfully installed sacremoses-0.0.53\n"
          ]
        }
      ]
    },
    {
      "cell_type": "code",
      "source": [
        "from datasets import load_dataset\n",
        "\n",
        "train_dataset = load_dataset(\"AmazonScience/massive\", \"pl-PL\", split='train')\n",
        "print(train_dataset[0])"
      ],
      "metadata": {
        "colab": {
          "base_uri": "https://localhost:8080/"
        },
        "id": "J9-kjdd9YtbT",
        "outputId": "14a32d2a-feb7-4ef0-9304-2af1980abd77"
      },
      "execution_count": 13,
      "outputs": [
        {
          "output_type": "stream",
          "name": "stderr",
          "text": [
            "WARNING:datasets.builder:Found cached dataset massive (/root/.cache/huggingface/datasets/AmazonScience___massive/pl-PL/1.0.0/71d360eb7d7a18565ff8c10609cebf714fce3cc390e173ba5b02ffd48543cdc1)\n"
          ]
        },
        {
          "output_type": "stream",
          "name": "stdout",
          "text": [
            "{'id': '1', 'locale': 'pl-PL', 'partition': 'train', 'scenario': 16, 'intent': 48, 'utt': 'obudź mnie o dziewiątej rano w piątek', 'annot_utt': 'obudź mnie o [time : dziewiątej rano] w [date : piątek]', 'worker_id': '9', 'slot_method': {'slot': ['time', 'date'], 'method': ['translation', 'translation']}, 'judgments': {'worker_id': ['21', '11', '5'], 'intent_score': [1, 1, 1], 'slots_score': [1, 1, 1], 'grammar_score': [4, 4, 4], 'spelling_score': [2, 2, 2], 'language_identification': ['target', 'target', 'target']}}\n"
          ]
        }
      ]
    },
    {
      "cell_type": "code",
      "source": [
        "val_dataset = load_dataset(\"AmazonScience/massive\", \"pl-PL\", split='validation')\n",
        "print(val_dataset[0])"
      ],
      "metadata": {
        "colab": {
          "base_uri": "https://localhost:8080/"
        },
        "id": "ufC6dm_UZrvb",
        "outputId": "b6bf654e-65ee-43b6-89ef-fe8fdf3c325d"
      },
      "execution_count": 14,
      "outputs": [
        {
          "output_type": "stream",
          "name": "stderr",
          "text": [
            "WARNING:datasets.builder:Found cached dataset massive (/root/.cache/huggingface/datasets/AmazonScience___massive/pl-PL/1.0.0/71d360eb7d7a18565ff8c10609cebf714fce3cc390e173ba5b02ffd48543cdc1)\n"
          ]
        },
        {
          "output_type": "stream",
          "name": "stdout",
          "text": [
            "{'id': '11', 'locale': 'pl-PL', 'partition': 'dev', 'scenario': 8, 'intent': 40, 'utt': 'wyłącz światła proszę', 'annot_utt': 'wyłącz światła proszę', 'worker_id': '6', 'slot_method': {'slot': [], 'method': []}, 'judgments': {'worker_id': ['2', '5'], 'intent_score': [1, 1], 'slots_score': [1, 1], 'grammar_score': [4, 4], 'spelling_score': [2, 2], 'language_identification': ['target', 'target']}}\n"
          ]
        }
      ]
    },
    {
      "cell_type": "code",
      "source": [
        "test_dataset = load_dataset(\"AmazonScience/massive\", \"pl-PL\", split='test')\n",
        "print(test_dataset[0])"
      ],
      "metadata": {
        "colab": {
          "base_uri": "https://localhost:8080/"
        },
        "id": "Xt9KLZSwZznu",
        "outputId": "1ab7582a-59cc-41b0-ed79-ffa6caf103c5"
      },
      "execution_count": 15,
      "outputs": [
        {
          "output_type": "stream",
          "name": "stderr",
          "text": [
            "WARNING:datasets.builder:Found cached dataset massive (/root/.cache/huggingface/datasets/AmazonScience___massive/pl-PL/1.0.0/71d360eb7d7a18565ff8c10609cebf714fce3cc390e173ba5b02ffd48543cdc1)\n"
          ]
        },
        {
          "output_type": "stream",
          "name": "stdout",
          "text": [
            "{'id': '0', 'locale': 'pl-PL', 'partition': 'test', 'scenario': 16, 'intent': 48, 'utt': 'obudź mnie o piątej rano w tym tygodniu', 'annot_utt': 'obudź mnie o [time : piątej rano] [date : w tym tygodniu]', 'worker_id': '14', 'slot_method': {'slot': ['time', 'date'], 'method': ['translation', 'translation']}, 'judgments': {'worker_id': ['5', '21', '11'], 'intent_score': [1, 1, 1], 'slots_score': [1, 1, 1], 'grammar_score': [4, 4, 4], 'spelling_score': [2, 2, 2], 'language_identification': ['target', 'target', 'target']}}\n"
          ]
        }
      ]
    },
    {
      "cell_type": "code",
      "execution_count": 52,
      "metadata": {
        "colab": {
          "base_uri": "https://localhost:8080/"
        },
        "id": "e40GjC3aWZpk",
        "outputId": "49d5c169-09c4-43f1-8348-9e9d95d24f2e"
      },
      "outputs": [
        {
          "output_type": "stream",
          "name": "stderr",
          "text": [
            "Some weights of the model checkpoint at allegro/herbert-base-cased were not used when initializing BertModel: ['cls.predictions.transform.LayerNorm.weight', 'cls.predictions.bias', 'cls.predictions.decoder.bias', 'cls.sso.sso_relationship.bias', 'cls.sso.sso_relationship.weight', 'cls.predictions.transform.dense.weight', 'cls.predictions.decoder.weight', 'cls.predictions.transform.dense.bias', 'cls.predictions.transform.LayerNorm.bias']\n",
            "- This IS expected if you are initializing BertModel from the checkpoint of a model trained on another task or with another architecture (e.g. initializing a BertForSequenceClassification model from a BertForPreTraining model).\n",
            "- This IS NOT expected if you are initializing BertModel from the checkpoint of a model that you expect to be exactly identical (initializing a BertForSequenceClassification model from a BertForSequenceClassification model).\n"
          ]
        }
      ],
      "source": [
        "from transformers import AutoTokenizer, AutoModel\n",
        "\n",
        "model_names = {\n",
        "    \"herbert-klej-cased-v1\": {\n",
        "        \"tokenizer\": \"allegro/herbert-klej-cased-tokenizer-v1\",\n",
        "        \"model\": \"allegro/herbert-klej-cased-v1\",\n",
        "    },\n",
        "    \"herbert-base-cased\": {\n",
        "        \"tokenizer\": \"allegro/herbert-base-cased\",\n",
        "        \"model\": \"allegro/herbert-base-cased\",\n",
        "    },\n",
        "    \"herbert-large-cased\": {\n",
        "        \"tokenizer\": \"allegro/herbert-large-cased\",\n",
        "        \"model\": \"allegro/herbert-large-cased\",\n",
        "    },\n",
        "}\n",
        "\n",
        "tokenizer = AutoTokenizer.from_pretrained(model_names[\"herbert-base-cased\"][\"tokenizer\"])\n",
        "model = AutoModel.from_pretrained(model_names[\"herbert-base-cased\"][\"model\"])"
      ]
    },
    {
      "cell_type": "code",
      "source": [
        "output = model(\n",
        "    **tokenizer.batch_encode_plus(\n",
        "        [\n",
        "            (\n",
        "                \"A potem szedł środkiem drogi w kurzawie, bo zamiatał nogami, ślepy dziad prowadzony przez tłustego kundla na sznurku.\",\n",
        "                \"A potem leciał od lasu chłopak z butelką, ale ten ujrzawszy księdza przy drodze okrążył go z dala i biegł na przełaj pól do karczmy.\"\n",
        "            )\n",
        "        ],\n",
        "        padding=\"longest\",\n",
        "        add_special_tokens=True,\n",
        "        return_tensors=\"pt\",\n",
        "    )\n",
        ")"
      ],
      "metadata": {
        "id": "qdKTbTsYWkeO"
      },
      "execution_count": 53,
      "outputs": []
    },
    {
      "cell_type": "code",
      "source": [
        "output"
      ],
      "metadata": {
        "colab": {
          "base_uri": "https://localhost:8080/"
        },
        "id": "NMp-oKM_a2OH",
        "outputId": "26fc9db4-13ea-497d-bdf8-5da4084189cf"
      },
      "execution_count": 40,
      "outputs": [
        {
          "output_type": "execute_result",
          "data": {
            "text/plain": [
              "BaseModelOutputWithPoolingAndCrossAttentions(last_hidden_state=tensor([[[-0.0156, -0.0107,  0.0548,  ..., -0.2931,  0.0463, -0.4071],\n",
              "         [-0.1879, -0.2544, -0.1516,  ..., -0.2208,  0.2126,  0.2200],\n",
              "         [-0.1579, -0.0876, -0.4259,  ...,  0.0314,  0.6145, -0.2184],\n",
              "         ...,\n",
              "         [ 0.0454, -0.2671, -0.1461,  ...,  0.3076,  0.8337,  0.3293],\n",
              "         [ 0.0229,  0.1212,  0.0126,  ..., -0.4731,  0.1688,  0.3738],\n",
              "         [-0.1684, -0.0869, -0.4155,  ...,  0.0268,  0.6186, -0.2000]]],\n",
              "       grad_fn=<NativeLayerNormBackward0>), pooler_output=tensor([[ 2.3978e-01,  7.7380e-02, -1.0388e-01,  9.9938e-01, -4.3555e-02,\n",
              "          1.6402e-01,  9.9964e-01, -9.9971e-01, -9.9978e-01,  6.9485e-01,\n",
              "          9.9686e-01,  8.6258e-02,  9.9989e-01, -7.4082e-01,  4.8495e-02,\n",
              "          6.2281e-02, -9.9989e-01,  2.9820e-03,  3.0078e-02,  9.9358e-01,\n",
              "          9.9906e-01, -9.3512e-01, -2.7758e-02, -1.6144e-01,  1.2141e-01,\n",
              "         -9.3916e-01, -8.6540e-01, -9.4444e-01, -3.4983e-02, -9.9463e-01,\n",
              "         -9.9907e-01,  5.8153e-02, -9.8206e-01,  9.9952e-01,  9.3814e-03,\n",
              "         -5.5937e-02,  9.9946e-01,  9.8992e-01, -1.4117e-01,  9.9983e-01,\n",
              "         -5.1420e-02,  2.0259e-01, -1.7737e-02,  1.6458e-01,  1.1397e-01,\n",
              "          1.1573e-03, -9.9987e-01,  6.1024e-02, -6.2177e-02, -9.9941e-01,\n",
              "          9.9989e-01, -9.9925e-01,  3.8437e-02,  6.8421e-02, -4.9726e-02,\n",
              "          1.2288e-01, -9.9973e-01, -1.9355e-02, -4.2136e-01,  2.7376e-02,\n",
              "         -1.4853e-02,  1.2233e-01,  9.8817e-01, -8.7261e-02,  9.9940e-01,\n",
              "         -9.1118e-02, -2.6530e-01,  7.0470e-02,  6.4726e-02, -6.3116e-02,\n",
              "          1.7003e-01,  9.8828e-01, -2.7719e-02,  2.4277e-03,  9.1014e-02,\n",
              "          5.1973e-01, -2.3139e-02,  2.1531e-01, -9.9946e-01, -8.1778e-02,\n",
              "         -9.2420e-01, -9.9944e-01,  9.7375e-04, -9.5330e-03, -1.1817e-01,\n",
              "         -6.3965e-01, -4.1537e-01,  9.9986e-01,  1.0122e-02,  9.9963e-01,\n",
              "          9.8990e-01,  4.5038e-02, -9.8899e-01,  9.8372e-01,  7.4767e-02,\n",
              "          2.8990e-02, -5.8159e-02, -9.9916e-01,  2.0022e-01,  8.5799e-01,\n",
              "          9.9748e-01, -5.9673e-03,  1.3369e-01,  3.0988e-03,  1.7382e-01,\n",
              "          1.7309e-01, -9.6101e-02, -1.7838e-02,  7.1373e-01,  5.8840e-02,\n",
              "         -1.8409e-01, -1.5084e-01,  1.2772e-01, -9.5972e-02, -9.9979e-01,\n",
              "         -2.0621e-01,  9.9987e-01,  6.7639e-02,  9.9104e-01, -1.5814e-01,\n",
              "         -9.9984e-01, -3.4081e-03, -9.9209e-01, -5.1722e-02, -4.5930e-02,\n",
              "         -2.9552e-02, -9.9988e-01,  9.9977e-01, -1.2093e-01, -9.9979e-01,\n",
              "         -6.7771e-02,  6.7267e-01, -9.8586e-01,  1.0734e-02,  9.9703e-01,\n",
              "          1.4573e-01,  9.9992e-01, -2.4065e-02, -1.3954e-02,  1.9687e-01,\n",
              "         -1.1069e-01,  1.5697e-02,  1.6023e-01,  6.1897e-03, -9.8710e-01,\n",
              "          9.9982e-01,  9.9976e-01, -1.3880e-01,  2.3667e-02, -1.8372e-01,\n",
              "          2.0237e-02,  9.9634e-01,  5.0658e-01, -1.1848e-01,  9.9936e-01,\n",
              "         -9.0738e-02, -3.9725e-02, -8.7162e-02,  1.8936e-02, -8.4696e-01,\n",
              "         -2.3159e-02, -8.7709e-02,  1.5139e-01, -9.9993e-01,  9.6210e-01,\n",
              "          1.3568e-01,  9.6035e-02,  9.4746e-01, -9.1259e-01,  2.5808e-01,\n",
              "         -9.9988e-01,  2.4818e-02, -4.3872e-02, -1.2635e-01, -9.8120e-02,\n",
              "         -8.0261e-03,  4.8842e-02, -2.7959e-01, -1.7810e-02,  1.9145e-01,\n",
              "         -9.9773e-01,  9.9265e-01,  9.9942e-01, -7.8396e-02,  9.9783e-01,\n",
              "         -5.2547e-02, -3.3204e-02,  9.9895e-01,  5.2497e-01,  4.8107e-02,\n",
              "         -9.9982e-01, -1.4864e-02,  2.3514e-01, -8.2981e-02,  4.3231e-02,\n",
              "         -1.5025e-01, -1.0205e-01, -1.5019e-01, -9.6384e-01,  8.4644e-01,\n",
              "          9.9981e-01,  1.0073e-01, -9.9993e-01,  8.9909e-02,  9.8600e-01,\n",
              "         -4.0373e-01, -9.9909e-01, -8.1055e-02,  9.9997e-01,  6.6062e-02,\n",
              "         -8.4559e-02,  3.5266e-02,  8.2326e-02,  1.5057e-01,  8.9158e-01,\n",
              "          3.3780e-02, -6.7783e-02,  9.9493e-01,  9.5691e-02,  6.4235e-02,\n",
              "         -9.9861e-01,  1.0853e-01,  8.0601e-02,  8.4594e-02, -4.8924e-01,\n",
              "          9.9910e-01,  9.9998e-01,  2.1217e-01,  1.6970e-01, -9.9934e-01,\n",
              "          5.3515e-01, -1.2941e-01, -1.1719e-01, -9.9938e-01, -9.9969e-01,\n",
              "         -9.9841e-01,  7.6115e-01, -1.2767e-02, -9.9927e-01,  1.8892e-01,\n",
              "          9.9965e-01, -8.5944e-01, -1.9095e-01, -9.9960e-01, -1.5648e-01,\n",
              "         -9.9990e-01, -8.4004e-01, -5.8825e-01, -6.1045e-03,  9.9977e-01,\n",
              "         -9.9994e-01,  8.1467e-02,  4.6604e-01, -8.4475e-02, -7.7642e-02,\n",
              "         -1.3695e-01, -1.2455e-01,  6.7057e-01, -9.9979e-01, -1.6774e-01,\n",
              "          1.6822e-01,  9.9988e-01,  1.0275e-01, -2.1068e-01, -1.2755e-01,\n",
              "          1.7543e-01, -9.9498e-01,  9.9609e-01, -9.9989e-01, -1.0302e-01,\n",
              "          9.9855e-01,  2.1835e-03, -8.9687e-02,  1.2471e-01, -1.3304e-01,\n",
              "          6.1033e-02,  2.4844e-01,  9.7634e-01,  3.6846e-02, -1.9613e-01,\n",
              "         -1.0360e-01,  9.8914e-01, -1.5990e-01, -1.9178e-02, -1.9335e-02,\n",
              "         -9.9867e-01,  1.2026e-01, -6.3387e-03, -9.9993e-01,  4.3823e-01,\n",
              "          4.4887e-02,  1.0564e-01,  5.1487e-02,  2.8379e-01, -9.9936e-01,\n",
              "         -1.3121e-01, -9.9092e-01, -1.1262e-01, -9.6130e-01, -1.7481e-02,\n",
              "          1.2298e-01, -9.9961e-01, -1.8613e-01,  1.2738e-01, -4.8185e-02,\n",
              "         -3.3632e-02, -9.9947e-01,  9.9365e-01,  9.6203e-02, -2.5674e-01,\n",
              "          9.9985e-01,  7.1682e-01,  5.8536e-02,  1.5351e-01, -9.9972e-01,\n",
              "          1.3809e-02, -9.9989e-01, -8.8433e-02,  5.6554e-02,  9.9995e-01,\n",
              "         -5.3778e-02,  9.7505e-01,  9.6145e-01,  9.9978e-01,  1.2151e-02,\n",
              "          2.9792e-02,  8.6131e-02, -7.1717e-02,  2.5010e-01,  9.9993e-01,\n",
              "         -1.0441e-01, -9.9980e-01,  9.7991e-01, -2.5286e-02,  6.2402e-03,\n",
              "          9.9977e-01,  1.1347e-01, -2.3836e-03, -8.4335e-01, -9.9778e-01,\n",
              "          9.9982e-01, -2.4128e-02,  1.0195e-01, -9.9029e-01,  9.9967e-01,\n",
              "          2.1240e-01,  1.7435e-01,  1.2000e-02, -9.9951e-01, -4.3928e-01,\n",
              "         -9.9550e-01, -1.9982e-01,  7.4136e-01, -9.9982e-01, -2.8498e-02,\n",
              "         -1.1059e-01, -1.2505e-01,  9.0617e-02,  9.4571e-01, -9.9944e-01,\n",
              "         -9.8294e-01,  6.6987e-03, -9.9976e-01, -9.9922e-01,  7.9477e-02,\n",
              "         -8.5761e-02,  1.1243e-01, -1.9154e-03,  2.3840e-02, -1.1428e-01,\n",
              "          6.0871e-02, -1.5394e-03,  1.2091e-01,  1.9184e-01,  9.9855e-01,\n",
              "          2.0693e-02, -2.2165e-01,  2.1784e-01, -9.6042e-01, -9.9993e-01,\n",
              "          9.9117e-01,  9.3838e-01, -1.3406e-01, -2.6299e-02,  9.9976e-01,\n",
              "         -8.2520e-01,  5.7995e-01, -9.9967e-01,  9.9988e-01, -9.6568e-02,\n",
              "         -3.4751e-02, -8.9529e-01,  9.9817e-01, -9.7104e-01, -1.3798e-01,\n",
              "          1.2979e-01,  2.7440e-01, -5.9288e-01,  7.0967e-01,  9.7115e-01,\n",
              "         -9.9985e-01,  6.0653e-02, -5.4244e-02,  9.9988e-01, -9.9565e-01,\n",
              "         -8.4812e-02,  9.9764e-01, -4.9786e-02, -9.9926e-01, -1.7795e-01,\n",
              "          4.2028e-02,  1.2780e-01,  8.0269e-02, -9.9983e-01, -1.8742e-01,\n",
              "         -7.2751e-03, -6.2670e-01,  3.1290e-01,  9.5027e-01, -9.9983e-01,\n",
              "          1.0244e-01, -9.9949e-01,  9.9984e-01,  9.9988e-01,  2.2179e-01,\n",
              "          1.4108e-01,  9.9808e-01, -8.6995e-02, -9.5501e-01,  2.7719e-01,\n",
              "          1.9933e-01,  3.7332e-01, -9.9976e-01,  9.9979e-01, -9.9950e-01,\n",
              "         -9.9885e-01, -2.7048e-02,  9.1732e-01, -1.0373e-01,  9.9990e-01,\n",
              "          1.6387e-01,  1.3649e-01,  2.3553e-01, -4.6832e-02,  8.0169e-02,\n",
              "          9.1039e-02,  6.4808e-02, -1.3561e-01,  9.9948e-01, -9.9994e-01,\n",
              "         -9.9671e-01,  9.6844e-01,  9.2713e-02,  9.8987e-01,  1.2612e-02,\n",
              "         -9.6869e-01, -7.2334e-01,  4.1353e-02, -9.9953e-01, -1.3159e-01,\n",
              "          6.5393e-02, -9.9988e-01, -2.6878e-01,  9.9853e-01, -8.1197e-01,\n",
              "         -9.9791e-01, -1.4111e-01,  8.3244e-02,  8.5637e-01,  9.1575e-02,\n",
              "         -8.6220e-02, -7.9916e-02,  9.9242e-01, -1.6774e-01,  7.1359e-01,\n",
              "         -9.9935e-01,  3.2724e-02, -1.7769e-01,  9.4552e-02, -4.3241e-01,\n",
              "          9.9998e-01,  1.1929e-01,  8.6486e-01,  6.0049e-01, -9.9592e-01,\n",
              "          9.9943e-01, -8.5506e-01, -9.6578e-02, -2.5907e-02,  1.3319e-01,\n",
              "          1.1876e-01, -6.0255e-03, -1.7297e-01,  2.9759e-01, -1.8382e-01,\n",
              "         -9.9948e-01, -9.9983e-01, -9.9980e-01,  9.2207e-01,  2.8243e-01,\n",
              "         -8.3849e-01, -1.9567e-01,  9.9664e-01,  9.5742e-02, -7.5306e-02,\n",
              "         -9.9928e-01, -9.9749e-01, -9.9567e-01,  4.0861e-02,  9.8915e-01,\n",
              "          5.2961e-02, -9.7555e-01,  9.6394e-03, -1.6841e-01,  8.1529e-02,\n",
              "          1.0649e-01,  7.4023e-02,  5.7358e-02,  9.9971e-01,  9.1633e-02,\n",
              "          9.9973e-01, -7.4080e-02, -9.1541e-01,  9.9976e-01,  1.9529e-01,\n",
              "          1.0472e-01, -9.0663e-02,  1.2544e-01,  1.7827e-01,  5.9379e-02,\n",
              "         -5.4646e-02, -9.9985e-01,  9.9741e-01, -1.5687e-01, -9.9228e-01,\n",
              "          9.8246e-01,  9.9983e-01, -5.3826e-02,  1.1734e-01,  9.7910e-01,\n",
              "          5.4051e-02,  9.9260e-01, -4.6753e-02, -9.9953e-01,  9.9980e-01,\n",
              "         -8.2311e-01, -9.9990e-01,  2.3358e-01, -8.2778e-01,  8.3944e-03,\n",
              "         -1.3433e-01,  7.5217e-01,  8.7649e-02, -6.7434e-02,  4.9053e-02,\n",
              "          8.7837e-02,  9.8300e-01,  3.8020e-02, -9.9973e-01,  4.7917e-02,\n",
              "          1.9108e-01,  9.9895e-01, -7.7515e-01,  5.2214e-02, -1.6309e-01,\n",
              "          6.7090e-01, -1.2136e-01, -6.6498e-03, -5.6501e-02, -6.4614e-02,\n",
              "          1.2091e-01, -2.8476e-02, -9.9862e-01, -5.4190e-02,  8.1365e-02,\n",
              "         -8.6443e-02,  9.2292e-01, -9.9953e-01, -9.9888e-01,  1.0840e-01,\n",
              "         -5.3465e-02, -5.5699e-02,  1.5517e-01, -1.0882e-03, -2.7572e-02,\n",
              "          9.7948e-01, -9.8530e-01, -5.7463e-01,  8.2396e-02, -8.5942e-01,\n",
              "         -7.8437e-02, -9.8986e-02,  9.9988e-01,  2.3544e-01,  7.6275e-02,\n",
              "         -9.7660e-01,  1.2935e-01, -9.9607e-01, -9.9486e-01, -9.9988e-01,\n",
              "         -9.3859e-01,  1.4152e-01, -5.1266e-02,  1.2733e-01, -1.5655e-01,\n",
              "         -9.9751e-01,  2.3104e-02,  9.9997e-01,  1.5084e-01, -9.9947e-01,\n",
              "         -1.1275e-01, -7.6583e-01, -2.7950e-02,  5.6937e-02, -9.9993e-01,\n",
              "         -9.2339e-02,  9.7825e-01, -1.5493e-01,  6.1996e-02, -1.9313e-02,\n",
              "          2.8060e-01,  4.2670e-02,  9.9980e-01, -9.9938e-01,  9.9967e-01,\n",
              "          9.9730e-01, -8.6916e-01, -9.9714e-01,  3.2098e-02,  9.7341e-02,\n",
              "         -3.0081e-01, -9.9958e-01, -9.9631e-01, -1.0934e-01, -7.2208e-02,\n",
              "          9.3956e-01,  9.9922e-01, -2.8522e-02, -2.4045e-02,  7.8637e-03,\n",
              "         -2.0993e-01,  1.6603e-01, -9.9953e-01, -9.9901e-01,  8.1622e-01,\n",
              "         -1.9561e-01,  9.0986e-02,  9.9988e-01,  1.4224e-01,  2.4926e-02,\n",
              "         -1.9239e-02,  1.1867e-01,  3.8320e-02,  9.9975e-01, -9.9769e-01,\n",
              "         -9.9989e-01,  9.9248e-01,  9.9737e-01, -4.0484e-02,  9.9931e-01,\n",
              "         -9.7092e-01, -9.9608e-01, -2.0219e-01,  9.8773e-01, -8.0676e-01,\n",
              "         -2.1413e-01, -9.9975e-01, -1.7474e-02, -8.7520e-01,  9.9984e-01,\n",
              "         -9.7893e-01, -4.5593e-03,  9.9983e-01,  9.4505e-01,  9.9991e-01,\n",
              "          5.4493e-01, -7.3763e-02,  2.0081e-01, -9.9989e-01,  1.3886e-01,\n",
              "         -5.6095e-01,  9.9983e-01,  2.8707e-01,  9.5939e-01, -5.6046e-04,\n",
              "          9.2667e-01,  9.9907e-01,  9.9994e-01,  9.9915e-01, -9.9973e-01,\n",
              "          1.9318e-01,  4.8683e-03,  2.1341e-01,  1.0973e-01,  8.6419e-02,\n",
              "          1.2397e-01, -9.0261e-01,  2.1690e-02,  4.7668e-02, -9.9996e-01,\n",
              "         -1.1019e-01,  9.9894e-01, -2.2234e-01, -9.0612e-01,  8.1833e-02,\n",
              "         -9.9910e-01, -9.9634e-01,  5.5381e-03, -4.8527e-02,  4.4682e-02,\n",
              "          2.3751e-03,  1.0823e-01, -2.2271e-01, -9.9876e-01, -9.9961e-01,\n",
              "         -9.9992e-01,  1.0910e-01,  2.7751e-01,  9.9976e-01,  9.8732e-01,\n",
              "          2.8935e-04, -3.5510e-04,  9.9914e-01,  9.9990e-01, -6.5657e-01,\n",
              "          1.2706e-01,  5.5134e-02,  9.9988e-01, -3.0163e-01, -2.5254e-01,\n",
              "         -9.9980e-01, -9.9951e-01,  8.6824e-02, -1.1400e-02, -8.9851e-02,\n",
              "         -3.2682e-01, -6.3419e-02,  9.4209e-01, -8.2886e-02, -1.3490e-01,\n",
              "          9.9984e-01, -9.4117e-03, -1.5780e-01, -4.4499e-02,  9.9970e-01,\n",
              "          3.1439e-02,  4.4576e-02, -5.5357e-02,  9.8009e-01, -1.0950e-02,\n",
              "          1.0718e-01, -9.9954e-01, -7.7036e-02,  5.0580e-01, -2.5305e-02,\n",
              "          1.7546e-01, -4.5442e-02,  3.4387e-02,  1.2372e-01,  1.0695e-01,\n",
              "          2.3440e-01,  6.0074e-01,  3.4668e-02,  8.1989e-01,  3.7472e-02,\n",
              "         -9.9750e-01, -1.3303e-02,  6.2826e-02]], grad_fn=<TanhBackward0>), hidden_states=None, past_key_values=None, attentions=None, cross_attentions=None)"
            ]
          },
          "metadata": {},
          "execution_count": 40
        }
      ]
    },
    {
      "cell_type": "code",
      "source": [
        "import torch\n",
        "import torch.nn as nn"
      ],
      "metadata": {
        "id": "yEF4PBeib5RP"
      },
      "execution_count": 55,
      "outputs": []
    },
    {
      "cell_type": "code",
      "source": [
        "MASSIVE_INTENTS = ['datetime_query', 'iot_hue_lightchange', 'transport_ticket', 'takeaway_query', 'qa_stock',\n",
        "            'general_greet', 'recommendation_events', 'music_dislikeness', 'iot_wemo_off', 'cooking_recipe',\n",
        "            'qa_currency', 'transport_traffic', 'general_quirky', 'weather_query', 'audio_volume_up',\n",
        "            'email_addcontact', 'takeaway_order', 'email_querycontact', 'iot_hue_lightup',\n",
        "            'recommendation_locations', 'play_audiobook', 'lists_createoradd', 'news_query',\n",
        "            'alarm_query', 'iot_wemo_on', 'general_joke', 'qa_definition', 'social_query',\n",
        "            'music_settings', 'audio_volume_other', 'calendar_remove', 'iot_hue_lightdim',\n",
        "            'calendar_query', 'email_sendemail', 'iot_cleaning', 'audio_volume_down',\n",
        "            'play_radio', 'cooking_query', 'datetime_convert', 'qa_maths', 'iot_hue_lightoff',\n",
        "            'iot_hue_lighton', 'transport_query', 'music_likeness', 'email_query', 'play_music',\n",
        "            'audio_volume_mute', 'social_post', 'alarm_set', 'qa_factoid', 'calendar_set',\n",
        "            'play_game', 'alarm_remove', 'lists_remove', 'transport_taxi', 'recommendation_movies',\n",
        "            'iot_coffee', 'music_query', 'play_podcasts', 'lists_query']"
      ],
      "metadata": {
        "id": "xfUOKUCChrni"
      },
      "execution_count": 56,
      "outputs": []
    },
    {
      "cell_type": "code",
      "source": [
        "linear_layer = nn.Linear(model.config.hidden_size, len(MASSIVE_INTENTS))"
      ],
      "metadata": {
        "id": "FjIapHIWiAte"
      },
      "execution_count": 57,
      "outputs": []
    },
    {
      "cell_type": "code",
      "source": [
        "logits = linear_layer(output.pooler_output)"
      ],
      "metadata": {
        "id": "k_KPcWu4iGkp"
      },
      "execution_count": 59,
      "outputs": []
    },
    {
      "cell_type": "code",
      "source": [
        "logits"
      ],
      "metadata": {
        "colab": {
          "base_uri": "https://localhost:8080/"
        },
        "id": "S10703RBiRdv",
        "outputId": "6757efee-83ef-495b-99ba-9b46cdaeecbb"
      },
      "execution_count": 60,
      "outputs": [
        {
          "output_type": "execute_result",
          "data": {
            "text/plain": [
              "tensor([[ 0.0513,  0.2590,  0.4785,  0.2153, -0.3287,  0.2298,  0.1300,  0.2410,\n",
              "         -0.0821, -0.3496,  0.0079,  0.0126,  0.5295, -0.3188,  0.3458,  0.1347,\n",
              "         -0.5338, -0.2103, -0.1380, -0.6404,  0.2775, -0.2658,  0.6319, -0.1121,\n",
              "          0.0081,  0.5669,  0.2138, -0.4720, -0.2965, -0.1812, -0.4321, -0.1897,\n",
              "         -0.0141, -0.2631,  0.5289,  0.0055,  0.1797,  0.1467,  0.1430,  0.1156,\n",
              "         -0.1846,  0.7018,  0.7268,  0.3304, -0.3989,  0.4837,  0.5781, -0.6308,\n",
              "         -0.0230,  0.4017, -0.4151, -0.3063, -0.3936, -0.0394, -0.1637, -0.2300,\n",
              "         -0.3218,  0.3032,  0.4132,  0.2812]], grad_fn=<AddmmBackward0>)"
            ]
          },
          "metadata": {},
          "execution_count": 60
        }
      ]
    },
    {
      "cell_type": "code",
      "source": [
        "probabilities = torch.softmax(logits, dim=-1)"
      ],
      "metadata": {
        "id": "x-UZJRNwiV4C"
      },
      "execution_count": 61,
      "outputs": []
    },
    {
      "cell_type": "code",
      "source": [
        "probabilities"
      ],
      "metadata": {
        "colab": {
          "base_uri": "https://localhost:8080/"
        },
        "id": "RGMdknlciWsp",
        "outputId": "2edfde45-bb03-4022-8575-fc535e5fe507"
      },
      "execution_count": 62,
      "outputs": [
        {
          "output_type": "execute_result",
          "data": {
            "text/plain": [
              "tensor([[0.0160, 0.0197, 0.0246, 0.0189, 0.0110, 0.0192, 0.0174, 0.0194, 0.0140,\n",
              "         0.0107, 0.0154, 0.0154, 0.0259, 0.0111, 0.0215, 0.0174, 0.0089, 0.0123,\n",
              "         0.0133, 0.0080, 0.0201, 0.0117, 0.0287, 0.0136, 0.0154, 0.0269, 0.0189,\n",
              "         0.0095, 0.0113, 0.0127, 0.0099, 0.0126, 0.0150, 0.0117, 0.0259, 0.0153,\n",
              "         0.0182, 0.0176, 0.0176, 0.0171, 0.0127, 0.0307, 0.0315, 0.0212, 0.0102,\n",
              "         0.0247, 0.0272, 0.0081, 0.0149, 0.0228, 0.0101, 0.0112, 0.0103, 0.0146,\n",
              "         0.0129, 0.0121, 0.0110, 0.0206, 0.0230, 0.0202]],\n",
              "       grad_fn=<SoftmaxBackward0>)"
            ]
          },
          "metadata": {},
          "execution_count": 62
        }
      ]
    },
    {
      "cell_type": "code",
      "source": [
        "predicted_intent_index = torch.argmax(probabilities, dim=-1)"
      ],
      "metadata": {
        "id": "XK94nLacigL1"
      },
      "execution_count": 63,
      "outputs": []
    },
    {
      "cell_type": "code",
      "source": [
        "predicted_intent_index"
      ],
      "metadata": {
        "colab": {
          "base_uri": "https://localhost:8080/"
        },
        "id": "EXQAZG8Iii1r",
        "outputId": "4d75039a-09d0-4026-c30a-f23d9d0afc7f"
      },
      "execution_count": 64,
      "outputs": [
        {
          "output_type": "execute_result",
          "data": {
            "text/plain": [
              "tensor([42])"
            ]
          },
          "metadata": {},
          "execution_count": 64
        }
      ]
    },
    {
      "cell_type": "code",
      "source": [
        "predicted_intent = MASSIVE_INTENTS[predicted_intent_index]"
      ],
      "metadata": {
        "id": "QD-7wpSniuXj"
      },
      "execution_count": 67,
      "outputs": []
    },
    {
      "cell_type": "code",
      "source": [
        "predicted_intent"
      ],
      "metadata": {
        "colab": {
          "base_uri": "https://localhost:8080/",
          "height": 35
        },
        "id": "RUBuF0u7i7sm",
        "outputId": "6575ebb4-f2af-40bb-b6d2-878f2569c528"
      },
      "execution_count": 68,
      "outputs": [
        {
          "output_type": "execute_result",
          "data": {
            "text/plain": [
              "'transport_query'"
            ],
            "application/vnd.google.colaboratory.intrinsic+json": {
              "type": "string"
            }
          },
          "metadata": {},
          "execution_count": 68
        }
      ]
    }
  ]
}