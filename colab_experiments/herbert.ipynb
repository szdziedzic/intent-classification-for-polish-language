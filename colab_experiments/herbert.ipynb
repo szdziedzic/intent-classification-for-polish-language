{
  "nbformat": 4,
  "nbformat_minor": 0,
  "metadata": {
    "colab": {
      "provenance": [],
      "gpuType": "T4",
      "authorship_tag": "ABX9TyMqX6DBryTrSs3TlSpqMHGK",
      "include_colab_link": true
    },
    "kernelspec": {
      "name": "python3",
      "display_name": "Python 3"
    },
    "language_info": {
      "name": "python"
    },
    "accelerator": "GPU",
    "widgets": {
      "application/vnd.jupyter.widget-state+json": {
        "42af3d9ac0ed41ad9068f6a266d10c4c": {
          "model_module": "@jupyter-widgets/controls",
          "model_name": "HBoxModel",
          "model_module_version": "1.5.0",
          "state": {
            "_dom_classes": [],
            "_model_module": "@jupyter-widgets/controls",
            "_model_module_version": "1.5.0",
            "_model_name": "HBoxModel",
            "_view_count": null,
            "_view_module": "@jupyter-widgets/controls",
            "_view_module_version": "1.5.0",
            "_view_name": "HBoxView",
            "box_style": "",
            "children": [
              "IPY_MODEL_04238e258ff043a9b818604d36916f7b",
              "IPY_MODEL_9f027eeb894f4f24a86b113df69c08a6",
              "IPY_MODEL_e5fe5cbbf3b5494bb87cebe9f234af08"
            ],
            "layout": "IPY_MODEL_8df537866710418fa26dc61df35f97ea"
          }
        },
        "04238e258ff043a9b818604d36916f7b": {
          "model_module": "@jupyter-widgets/controls",
          "model_name": "HTMLModel",
          "model_module_version": "1.5.0",
          "state": {
            "_dom_classes": [],
            "_model_module": "@jupyter-widgets/controls",
            "_model_module_version": "1.5.0",
            "_model_name": "HTMLModel",
            "_view_count": null,
            "_view_module": "@jupyter-widgets/controls",
            "_view_module_version": "1.5.0",
            "_view_name": "HTMLView",
            "description": "",
            "description_tooltip": null,
            "layout": "IPY_MODEL_3fbfd8a20e594808a244c42e850ca6ad",
            "placeholder": "​",
            "style": "IPY_MODEL_60d0a05d247143619bd5868659447a13",
            "value": "Downloading (…)okenizer_config.json: 100%"
          }
        },
        "9f027eeb894f4f24a86b113df69c08a6": {
          "model_module": "@jupyter-widgets/controls",
          "model_name": "FloatProgressModel",
          "model_module_version": "1.5.0",
          "state": {
            "_dom_classes": [],
            "_model_module": "@jupyter-widgets/controls",
            "_model_module_version": "1.5.0",
            "_model_name": "FloatProgressModel",
            "_view_count": null,
            "_view_module": "@jupyter-widgets/controls",
            "_view_module_version": "1.5.0",
            "_view_name": "ProgressView",
            "bar_style": "success",
            "description": "",
            "description_tooltip": null,
            "layout": "IPY_MODEL_33b83d75344d4ae4bdc7f2e431befc6b",
            "max": 229,
            "min": 0,
            "orientation": "horizontal",
            "style": "IPY_MODEL_8e43a969111e4084a61c988c75af00bf",
            "value": 229
          }
        },
        "e5fe5cbbf3b5494bb87cebe9f234af08": {
          "model_module": "@jupyter-widgets/controls",
          "model_name": "HTMLModel",
          "model_module_version": "1.5.0",
          "state": {
            "_dom_classes": [],
            "_model_module": "@jupyter-widgets/controls",
            "_model_module_version": "1.5.0",
            "_model_name": "HTMLModel",
            "_view_count": null,
            "_view_module": "@jupyter-widgets/controls",
            "_view_module_version": "1.5.0",
            "_view_name": "HTMLView",
            "description": "",
            "description_tooltip": null,
            "layout": "IPY_MODEL_b24fc2478ee949aa9a18b0f827b95bf9",
            "placeholder": "​",
            "style": "IPY_MODEL_40fef97bd50e4b6babf324eccb2934b4",
            "value": " 229/229 [00:00&lt;00:00, 13.7kB/s]"
          }
        },
        "8df537866710418fa26dc61df35f97ea": {
          "model_module": "@jupyter-widgets/base",
          "model_name": "LayoutModel",
          "model_module_version": "1.2.0",
          "state": {
            "_model_module": "@jupyter-widgets/base",
            "_model_module_version": "1.2.0",
            "_model_name": "LayoutModel",
            "_view_count": null,
            "_view_module": "@jupyter-widgets/base",
            "_view_module_version": "1.2.0",
            "_view_name": "LayoutView",
            "align_content": null,
            "align_items": null,
            "align_self": null,
            "border": null,
            "bottom": null,
            "display": null,
            "flex": null,
            "flex_flow": null,
            "grid_area": null,
            "grid_auto_columns": null,
            "grid_auto_flow": null,
            "grid_auto_rows": null,
            "grid_column": null,
            "grid_gap": null,
            "grid_row": null,
            "grid_template_areas": null,
            "grid_template_columns": null,
            "grid_template_rows": null,
            "height": null,
            "justify_content": null,
            "justify_items": null,
            "left": null,
            "margin": null,
            "max_height": null,
            "max_width": null,
            "min_height": null,
            "min_width": null,
            "object_fit": null,
            "object_position": null,
            "order": null,
            "overflow": null,
            "overflow_x": null,
            "overflow_y": null,
            "padding": null,
            "right": null,
            "top": null,
            "visibility": null,
            "width": null
          }
        },
        "3fbfd8a20e594808a244c42e850ca6ad": {
          "model_module": "@jupyter-widgets/base",
          "model_name": "LayoutModel",
          "model_module_version": "1.2.0",
          "state": {
            "_model_module": "@jupyter-widgets/base",
            "_model_module_version": "1.2.0",
            "_model_name": "LayoutModel",
            "_view_count": null,
            "_view_module": "@jupyter-widgets/base",
            "_view_module_version": "1.2.0",
            "_view_name": "LayoutView",
            "align_content": null,
            "align_items": null,
            "align_self": null,
            "border": null,
            "bottom": null,
            "display": null,
            "flex": null,
            "flex_flow": null,
            "grid_area": null,
            "grid_auto_columns": null,
            "grid_auto_flow": null,
            "grid_auto_rows": null,
            "grid_column": null,
            "grid_gap": null,
            "grid_row": null,
            "grid_template_areas": null,
            "grid_template_columns": null,
            "grid_template_rows": null,
            "height": null,
            "justify_content": null,
            "justify_items": null,
            "left": null,
            "margin": null,
            "max_height": null,
            "max_width": null,
            "min_height": null,
            "min_width": null,
            "object_fit": null,
            "object_position": null,
            "order": null,
            "overflow": null,
            "overflow_x": null,
            "overflow_y": null,
            "padding": null,
            "right": null,
            "top": null,
            "visibility": null,
            "width": null
          }
        },
        "60d0a05d247143619bd5868659447a13": {
          "model_module": "@jupyter-widgets/controls",
          "model_name": "DescriptionStyleModel",
          "model_module_version": "1.5.0",
          "state": {
            "_model_module": "@jupyter-widgets/controls",
            "_model_module_version": "1.5.0",
            "_model_name": "DescriptionStyleModel",
            "_view_count": null,
            "_view_module": "@jupyter-widgets/base",
            "_view_module_version": "1.2.0",
            "_view_name": "StyleView",
            "description_width": ""
          }
        },
        "33b83d75344d4ae4bdc7f2e431befc6b": {
          "model_module": "@jupyter-widgets/base",
          "model_name": "LayoutModel",
          "model_module_version": "1.2.0",
          "state": {
            "_model_module": "@jupyter-widgets/base",
            "_model_module_version": "1.2.0",
            "_model_name": "LayoutModel",
            "_view_count": null,
            "_view_module": "@jupyter-widgets/base",
            "_view_module_version": "1.2.0",
            "_view_name": "LayoutView",
            "align_content": null,
            "align_items": null,
            "align_self": null,
            "border": null,
            "bottom": null,
            "display": null,
            "flex": null,
            "flex_flow": null,
            "grid_area": null,
            "grid_auto_columns": null,
            "grid_auto_flow": null,
            "grid_auto_rows": null,
            "grid_column": null,
            "grid_gap": null,
            "grid_row": null,
            "grid_template_areas": null,
            "grid_template_columns": null,
            "grid_template_rows": null,
            "height": null,
            "justify_content": null,
            "justify_items": null,
            "left": null,
            "margin": null,
            "max_height": null,
            "max_width": null,
            "min_height": null,
            "min_width": null,
            "object_fit": null,
            "object_position": null,
            "order": null,
            "overflow": null,
            "overflow_x": null,
            "overflow_y": null,
            "padding": null,
            "right": null,
            "top": null,
            "visibility": null,
            "width": null
          }
        },
        "8e43a969111e4084a61c988c75af00bf": {
          "model_module": "@jupyter-widgets/controls",
          "model_name": "ProgressStyleModel",
          "model_module_version": "1.5.0",
          "state": {
            "_model_module": "@jupyter-widgets/controls",
            "_model_module_version": "1.5.0",
            "_model_name": "ProgressStyleModel",
            "_view_count": null,
            "_view_module": "@jupyter-widgets/base",
            "_view_module_version": "1.2.0",
            "_view_name": "StyleView",
            "bar_color": null,
            "description_width": ""
          }
        },
        "b24fc2478ee949aa9a18b0f827b95bf9": {
          "model_module": "@jupyter-widgets/base",
          "model_name": "LayoutModel",
          "model_module_version": "1.2.0",
          "state": {
            "_model_module": "@jupyter-widgets/base",
            "_model_module_version": "1.2.0",
            "_model_name": "LayoutModel",
            "_view_count": null,
            "_view_module": "@jupyter-widgets/base",
            "_view_module_version": "1.2.0",
            "_view_name": "LayoutView",
            "align_content": null,
            "align_items": null,
            "align_self": null,
            "border": null,
            "bottom": null,
            "display": null,
            "flex": null,
            "flex_flow": null,
            "grid_area": null,
            "grid_auto_columns": null,
            "grid_auto_flow": null,
            "grid_auto_rows": null,
            "grid_column": null,
            "grid_gap": null,
            "grid_row": null,
            "grid_template_areas": null,
            "grid_template_columns": null,
            "grid_template_rows": null,
            "height": null,
            "justify_content": null,
            "justify_items": null,
            "left": null,
            "margin": null,
            "max_height": null,
            "max_width": null,
            "min_height": null,
            "min_width": null,
            "object_fit": null,
            "object_position": null,
            "order": null,
            "overflow": null,
            "overflow_x": null,
            "overflow_y": null,
            "padding": null,
            "right": null,
            "top": null,
            "visibility": null,
            "width": null
          }
        },
        "40fef97bd50e4b6babf324eccb2934b4": {
          "model_module": "@jupyter-widgets/controls",
          "model_name": "DescriptionStyleModel",
          "model_module_version": "1.5.0",
          "state": {
            "_model_module": "@jupyter-widgets/controls",
            "_model_module_version": "1.5.0",
            "_model_name": "DescriptionStyleModel",
            "_view_count": null,
            "_view_module": "@jupyter-widgets/base",
            "_view_module_version": "1.2.0",
            "_view_name": "StyleView",
            "description_width": ""
          }
        },
        "1683422f5b9544038ae1481928713692": {
          "model_module": "@jupyter-widgets/controls",
          "model_name": "HBoxModel",
          "model_module_version": "1.5.0",
          "state": {
            "_dom_classes": [],
            "_model_module": "@jupyter-widgets/controls",
            "_model_module_version": "1.5.0",
            "_model_name": "HBoxModel",
            "_view_count": null,
            "_view_module": "@jupyter-widgets/controls",
            "_view_module_version": "1.5.0",
            "_view_name": "HBoxView",
            "box_style": "",
            "children": [
              "IPY_MODEL_7ede8d76b2d944af978db01fab7d694c",
              "IPY_MODEL_903b1e3dbbd2492da7c1aa30e424baa8",
              "IPY_MODEL_26d89f40a4374d8d899c3b89bf097bf8"
            ],
            "layout": "IPY_MODEL_df4c1ce7e29a42d0ab630fce7871dabe"
          }
        },
        "7ede8d76b2d944af978db01fab7d694c": {
          "model_module": "@jupyter-widgets/controls",
          "model_name": "HTMLModel",
          "model_module_version": "1.5.0",
          "state": {
            "_dom_classes": [],
            "_model_module": "@jupyter-widgets/controls",
            "_model_module_version": "1.5.0",
            "_model_name": "HTMLModel",
            "_view_count": null,
            "_view_module": "@jupyter-widgets/controls",
            "_view_module_version": "1.5.0",
            "_view_name": "HTMLView",
            "description": "",
            "description_tooltip": null,
            "layout": "IPY_MODEL_58202beeaac842ab88c52960f44d37b5",
            "placeholder": "​",
            "style": "IPY_MODEL_5488e67ecee845569b256ad644a2dbbe",
            "value": "Downloading (…)lve/main/config.json: 100%"
          }
        },
        "903b1e3dbbd2492da7c1aa30e424baa8": {
          "model_module": "@jupyter-widgets/controls",
          "model_name": "FloatProgressModel",
          "model_module_version": "1.5.0",
          "state": {
            "_dom_classes": [],
            "_model_module": "@jupyter-widgets/controls",
            "_model_module_version": "1.5.0",
            "_model_name": "FloatProgressModel",
            "_view_count": null,
            "_view_module": "@jupyter-widgets/controls",
            "_view_module_version": "1.5.0",
            "_view_name": "ProgressView",
            "bar_style": "success",
            "description": "",
            "description_tooltip": null,
            "layout": "IPY_MODEL_14ac0c3f79b04d43b73b2135150c559e",
            "max": 472,
            "min": 0,
            "orientation": "horizontal",
            "style": "IPY_MODEL_898fb6fb7ebc4e2b891db65bc4b84d41",
            "value": 472
          }
        },
        "26d89f40a4374d8d899c3b89bf097bf8": {
          "model_module": "@jupyter-widgets/controls",
          "model_name": "HTMLModel",
          "model_module_version": "1.5.0",
          "state": {
            "_dom_classes": [],
            "_model_module": "@jupyter-widgets/controls",
            "_model_module_version": "1.5.0",
            "_model_name": "HTMLModel",
            "_view_count": null,
            "_view_module": "@jupyter-widgets/controls",
            "_view_module_version": "1.5.0",
            "_view_name": "HTMLView",
            "description": "",
            "description_tooltip": null,
            "layout": "IPY_MODEL_020c2db451314f52972601a9fc52d114",
            "placeholder": "​",
            "style": "IPY_MODEL_ac90b412c4554424ab8c33d5759dfdae",
            "value": " 472/472 [00:00&lt;00:00, 38.3kB/s]"
          }
        },
        "df4c1ce7e29a42d0ab630fce7871dabe": {
          "model_module": "@jupyter-widgets/base",
          "model_name": "LayoutModel",
          "model_module_version": "1.2.0",
          "state": {
            "_model_module": "@jupyter-widgets/base",
            "_model_module_version": "1.2.0",
            "_model_name": "LayoutModel",
            "_view_count": null,
            "_view_module": "@jupyter-widgets/base",
            "_view_module_version": "1.2.0",
            "_view_name": "LayoutView",
            "align_content": null,
            "align_items": null,
            "align_self": null,
            "border": null,
            "bottom": null,
            "display": null,
            "flex": null,
            "flex_flow": null,
            "grid_area": null,
            "grid_auto_columns": null,
            "grid_auto_flow": null,
            "grid_auto_rows": null,
            "grid_column": null,
            "grid_gap": null,
            "grid_row": null,
            "grid_template_areas": null,
            "grid_template_columns": null,
            "grid_template_rows": null,
            "height": null,
            "justify_content": null,
            "justify_items": null,
            "left": null,
            "margin": null,
            "max_height": null,
            "max_width": null,
            "min_height": null,
            "min_width": null,
            "object_fit": null,
            "object_position": null,
            "order": null,
            "overflow": null,
            "overflow_x": null,
            "overflow_y": null,
            "padding": null,
            "right": null,
            "top": null,
            "visibility": null,
            "width": null
          }
        },
        "58202beeaac842ab88c52960f44d37b5": {
          "model_module": "@jupyter-widgets/base",
          "model_name": "LayoutModel",
          "model_module_version": "1.2.0",
          "state": {
            "_model_module": "@jupyter-widgets/base",
            "_model_module_version": "1.2.0",
            "_model_name": "LayoutModel",
            "_view_count": null,
            "_view_module": "@jupyter-widgets/base",
            "_view_module_version": "1.2.0",
            "_view_name": "LayoutView",
            "align_content": null,
            "align_items": null,
            "align_self": null,
            "border": null,
            "bottom": null,
            "display": null,
            "flex": null,
            "flex_flow": null,
            "grid_area": null,
            "grid_auto_columns": null,
            "grid_auto_flow": null,
            "grid_auto_rows": null,
            "grid_column": null,
            "grid_gap": null,
            "grid_row": null,
            "grid_template_areas": null,
            "grid_template_columns": null,
            "grid_template_rows": null,
            "height": null,
            "justify_content": null,
            "justify_items": null,
            "left": null,
            "margin": null,
            "max_height": null,
            "max_width": null,
            "min_height": null,
            "min_width": null,
            "object_fit": null,
            "object_position": null,
            "order": null,
            "overflow": null,
            "overflow_x": null,
            "overflow_y": null,
            "padding": null,
            "right": null,
            "top": null,
            "visibility": null,
            "width": null
          }
        },
        "5488e67ecee845569b256ad644a2dbbe": {
          "model_module": "@jupyter-widgets/controls",
          "model_name": "DescriptionStyleModel",
          "model_module_version": "1.5.0",
          "state": {
            "_model_module": "@jupyter-widgets/controls",
            "_model_module_version": "1.5.0",
            "_model_name": "DescriptionStyleModel",
            "_view_count": null,
            "_view_module": "@jupyter-widgets/base",
            "_view_module_version": "1.2.0",
            "_view_name": "StyleView",
            "description_width": ""
          }
        },
        "14ac0c3f79b04d43b73b2135150c559e": {
          "model_module": "@jupyter-widgets/base",
          "model_name": "LayoutModel",
          "model_module_version": "1.2.0",
          "state": {
            "_model_module": "@jupyter-widgets/base",
            "_model_module_version": "1.2.0",
            "_model_name": "LayoutModel",
            "_view_count": null,
            "_view_module": "@jupyter-widgets/base",
            "_view_module_version": "1.2.0",
            "_view_name": "LayoutView",
            "align_content": null,
            "align_items": null,
            "align_self": null,
            "border": null,
            "bottom": null,
            "display": null,
            "flex": null,
            "flex_flow": null,
            "grid_area": null,
            "grid_auto_columns": null,
            "grid_auto_flow": null,
            "grid_auto_rows": null,
            "grid_column": null,
            "grid_gap": null,
            "grid_row": null,
            "grid_template_areas": null,
            "grid_template_columns": null,
            "grid_template_rows": null,
            "height": null,
            "justify_content": null,
            "justify_items": null,
            "left": null,
            "margin": null,
            "max_height": null,
            "max_width": null,
            "min_height": null,
            "min_width": null,
            "object_fit": null,
            "object_position": null,
            "order": null,
            "overflow": null,
            "overflow_x": null,
            "overflow_y": null,
            "padding": null,
            "right": null,
            "top": null,
            "visibility": null,
            "width": null
          }
        },
        "898fb6fb7ebc4e2b891db65bc4b84d41": {
          "model_module": "@jupyter-widgets/controls",
          "model_name": "ProgressStyleModel",
          "model_module_version": "1.5.0",
          "state": {
            "_model_module": "@jupyter-widgets/controls",
            "_model_module_version": "1.5.0",
            "_model_name": "ProgressStyleModel",
            "_view_count": null,
            "_view_module": "@jupyter-widgets/base",
            "_view_module_version": "1.2.0",
            "_view_name": "StyleView",
            "bar_color": null,
            "description_width": ""
          }
        },
        "020c2db451314f52972601a9fc52d114": {
          "model_module": "@jupyter-widgets/base",
          "model_name": "LayoutModel",
          "model_module_version": "1.2.0",
          "state": {
            "_model_module": "@jupyter-widgets/base",
            "_model_module_version": "1.2.0",
            "_model_name": "LayoutModel",
            "_view_count": null,
            "_view_module": "@jupyter-widgets/base",
            "_view_module_version": "1.2.0",
            "_view_name": "LayoutView",
            "align_content": null,
            "align_items": null,
            "align_self": null,
            "border": null,
            "bottom": null,
            "display": null,
            "flex": null,
            "flex_flow": null,
            "grid_area": null,
            "grid_auto_columns": null,
            "grid_auto_flow": null,
            "grid_auto_rows": null,
            "grid_column": null,
            "grid_gap": null,
            "grid_row": null,
            "grid_template_areas": null,
            "grid_template_columns": null,
            "grid_template_rows": null,
            "height": null,
            "justify_content": null,
            "justify_items": null,
            "left": null,
            "margin": null,
            "max_height": null,
            "max_width": null,
            "min_height": null,
            "min_width": null,
            "object_fit": null,
            "object_position": null,
            "order": null,
            "overflow": null,
            "overflow_x": null,
            "overflow_y": null,
            "padding": null,
            "right": null,
            "top": null,
            "visibility": null,
            "width": null
          }
        },
        "ac90b412c4554424ab8c33d5759dfdae": {
          "model_module": "@jupyter-widgets/controls",
          "model_name": "DescriptionStyleModel",
          "model_module_version": "1.5.0",
          "state": {
            "_model_module": "@jupyter-widgets/controls",
            "_model_module_version": "1.5.0",
            "_model_name": "DescriptionStyleModel",
            "_view_count": null,
            "_view_module": "@jupyter-widgets/base",
            "_view_module_version": "1.2.0",
            "_view_name": "StyleView",
            "description_width": ""
          }
        },
        "adf9b38896d14a919196f793b81da559": {
          "model_module": "@jupyter-widgets/controls",
          "model_name": "HBoxModel",
          "model_module_version": "1.5.0",
          "state": {
            "_dom_classes": [],
            "_model_module": "@jupyter-widgets/controls",
            "_model_module_version": "1.5.0",
            "_model_name": "HBoxModel",
            "_view_count": null,
            "_view_module": "@jupyter-widgets/controls",
            "_view_module_version": "1.5.0",
            "_view_name": "HBoxView",
            "box_style": "",
            "children": [
              "IPY_MODEL_adcf3e1230c44659939f4660166f2c0c",
              "IPY_MODEL_f570348c95804f1588a06f72bd07ebd5",
              "IPY_MODEL_e6df99dda7c74a05be2fddcc6ffb96f1"
            ],
            "layout": "IPY_MODEL_aa83252dc2804e15bbfe7ad8801355c4"
          }
        },
        "adcf3e1230c44659939f4660166f2c0c": {
          "model_module": "@jupyter-widgets/controls",
          "model_name": "HTMLModel",
          "model_module_version": "1.5.0",
          "state": {
            "_dom_classes": [],
            "_model_module": "@jupyter-widgets/controls",
            "_model_module_version": "1.5.0",
            "_model_name": "HTMLModel",
            "_view_count": null,
            "_view_module": "@jupyter-widgets/controls",
            "_view_module_version": "1.5.0",
            "_view_name": "HTMLView",
            "description": "",
            "description_tooltip": null,
            "layout": "IPY_MODEL_84e71699a58e4d408ff07898d919f736",
            "placeholder": "​",
            "style": "IPY_MODEL_59cb5cd07a99426fb4ce77768a403a9c",
            "value": "Downloading (…)olve/main/vocab.json: 100%"
          }
        },
        "f570348c95804f1588a06f72bd07ebd5": {
          "model_module": "@jupyter-widgets/controls",
          "model_name": "FloatProgressModel",
          "model_module_version": "1.5.0",
          "state": {
            "_dom_classes": [],
            "_model_module": "@jupyter-widgets/controls",
            "_model_module_version": "1.5.0",
            "_model_name": "FloatProgressModel",
            "_view_count": null,
            "_view_module": "@jupyter-widgets/controls",
            "_view_module_version": "1.5.0",
            "_view_name": "ProgressView",
            "bar_style": "success",
            "description": "",
            "description_tooltip": null,
            "layout": "IPY_MODEL_87a5601141594a78be66ce5e842115e7",
            "max": 906984,
            "min": 0,
            "orientation": "horizontal",
            "style": "IPY_MODEL_7cc013fedf424689829f12bfa10397ad",
            "value": 906984
          }
        },
        "e6df99dda7c74a05be2fddcc6ffb96f1": {
          "model_module": "@jupyter-widgets/controls",
          "model_name": "HTMLModel",
          "model_module_version": "1.5.0",
          "state": {
            "_dom_classes": [],
            "_model_module": "@jupyter-widgets/controls",
            "_model_module_version": "1.5.0",
            "_model_name": "HTMLModel",
            "_view_count": null,
            "_view_module": "@jupyter-widgets/controls",
            "_view_module_version": "1.5.0",
            "_view_name": "HTMLView",
            "description": "",
            "description_tooltip": null,
            "layout": "IPY_MODEL_933e7bc72b3242acb781c5d5a73af21c",
            "placeholder": "​",
            "style": "IPY_MODEL_ede907e583ba4292a45ceeebcd3098bf",
            "value": " 907k/907k [00:00&lt;00:00, 31.5MB/s]"
          }
        },
        "aa83252dc2804e15bbfe7ad8801355c4": {
          "model_module": "@jupyter-widgets/base",
          "model_name": "LayoutModel",
          "model_module_version": "1.2.0",
          "state": {
            "_model_module": "@jupyter-widgets/base",
            "_model_module_version": "1.2.0",
            "_model_name": "LayoutModel",
            "_view_count": null,
            "_view_module": "@jupyter-widgets/base",
            "_view_module_version": "1.2.0",
            "_view_name": "LayoutView",
            "align_content": null,
            "align_items": null,
            "align_self": null,
            "border": null,
            "bottom": null,
            "display": null,
            "flex": null,
            "flex_flow": null,
            "grid_area": null,
            "grid_auto_columns": null,
            "grid_auto_flow": null,
            "grid_auto_rows": null,
            "grid_column": null,
            "grid_gap": null,
            "grid_row": null,
            "grid_template_areas": null,
            "grid_template_columns": null,
            "grid_template_rows": null,
            "height": null,
            "justify_content": null,
            "justify_items": null,
            "left": null,
            "margin": null,
            "max_height": null,
            "max_width": null,
            "min_height": null,
            "min_width": null,
            "object_fit": null,
            "object_position": null,
            "order": null,
            "overflow": null,
            "overflow_x": null,
            "overflow_y": null,
            "padding": null,
            "right": null,
            "top": null,
            "visibility": null,
            "width": null
          }
        },
        "84e71699a58e4d408ff07898d919f736": {
          "model_module": "@jupyter-widgets/base",
          "model_name": "LayoutModel",
          "model_module_version": "1.2.0",
          "state": {
            "_model_module": "@jupyter-widgets/base",
            "_model_module_version": "1.2.0",
            "_model_name": "LayoutModel",
            "_view_count": null,
            "_view_module": "@jupyter-widgets/base",
            "_view_module_version": "1.2.0",
            "_view_name": "LayoutView",
            "align_content": null,
            "align_items": null,
            "align_self": null,
            "border": null,
            "bottom": null,
            "display": null,
            "flex": null,
            "flex_flow": null,
            "grid_area": null,
            "grid_auto_columns": null,
            "grid_auto_flow": null,
            "grid_auto_rows": null,
            "grid_column": null,
            "grid_gap": null,
            "grid_row": null,
            "grid_template_areas": null,
            "grid_template_columns": null,
            "grid_template_rows": null,
            "height": null,
            "justify_content": null,
            "justify_items": null,
            "left": null,
            "margin": null,
            "max_height": null,
            "max_width": null,
            "min_height": null,
            "min_width": null,
            "object_fit": null,
            "object_position": null,
            "order": null,
            "overflow": null,
            "overflow_x": null,
            "overflow_y": null,
            "padding": null,
            "right": null,
            "top": null,
            "visibility": null,
            "width": null
          }
        },
        "59cb5cd07a99426fb4ce77768a403a9c": {
          "model_module": "@jupyter-widgets/controls",
          "model_name": "DescriptionStyleModel",
          "model_module_version": "1.5.0",
          "state": {
            "_model_module": "@jupyter-widgets/controls",
            "_model_module_version": "1.5.0",
            "_model_name": "DescriptionStyleModel",
            "_view_count": null,
            "_view_module": "@jupyter-widgets/base",
            "_view_module_version": "1.2.0",
            "_view_name": "StyleView",
            "description_width": ""
          }
        },
        "87a5601141594a78be66ce5e842115e7": {
          "model_module": "@jupyter-widgets/base",
          "model_name": "LayoutModel",
          "model_module_version": "1.2.0",
          "state": {
            "_model_module": "@jupyter-widgets/base",
            "_model_module_version": "1.2.0",
            "_model_name": "LayoutModel",
            "_view_count": null,
            "_view_module": "@jupyter-widgets/base",
            "_view_module_version": "1.2.0",
            "_view_name": "LayoutView",
            "align_content": null,
            "align_items": null,
            "align_self": null,
            "border": null,
            "bottom": null,
            "display": null,
            "flex": null,
            "flex_flow": null,
            "grid_area": null,
            "grid_auto_columns": null,
            "grid_auto_flow": null,
            "grid_auto_rows": null,
            "grid_column": null,
            "grid_gap": null,
            "grid_row": null,
            "grid_template_areas": null,
            "grid_template_columns": null,
            "grid_template_rows": null,
            "height": null,
            "justify_content": null,
            "justify_items": null,
            "left": null,
            "margin": null,
            "max_height": null,
            "max_width": null,
            "min_height": null,
            "min_width": null,
            "object_fit": null,
            "object_position": null,
            "order": null,
            "overflow": null,
            "overflow_x": null,
            "overflow_y": null,
            "padding": null,
            "right": null,
            "top": null,
            "visibility": null,
            "width": null
          }
        },
        "7cc013fedf424689829f12bfa10397ad": {
          "model_module": "@jupyter-widgets/controls",
          "model_name": "ProgressStyleModel",
          "model_module_version": "1.5.0",
          "state": {
            "_model_module": "@jupyter-widgets/controls",
            "_model_module_version": "1.5.0",
            "_model_name": "ProgressStyleModel",
            "_view_count": null,
            "_view_module": "@jupyter-widgets/base",
            "_view_module_version": "1.2.0",
            "_view_name": "StyleView",
            "bar_color": null,
            "description_width": ""
          }
        },
        "933e7bc72b3242acb781c5d5a73af21c": {
          "model_module": "@jupyter-widgets/base",
          "model_name": "LayoutModel",
          "model_module_version": "1.2.0",
          "state": {
            "_model_module": "@jupyter-widgets/base",
            "_model_module_version": "1.2.0",
            "_model_name": "LayoutModel",
            "_view_count": null,
            "_view_module": "@jupyter-widgets/base",
            "_view_module_version": "1.2.0",
            "_view_name": "LayoutView",
            "align_content": null,
            "align_items": null,
            "align_self": null,
            "border": null,
            "bottom": null,
            "display": null,
            "flex": null,
            "flex_flow": null,
            "grid_area": null,
            "grid_auto_columns": null,
            "grid_auto_flow": null,
            "grid_auto_rows": null,
            "grid_column": null,
            "grid_gap": null,
            "grid_row": null,
            "grid_template_areas": null,
            "grid_template_columns": null,
            "grid_template_rows": null,
            "height": null,
            "justify_content": null,
            "justify_items": null,
            "left": null,
            "margin": null,
            "max_height": null,
            "max_width": null,
            "min_height": null,
            "min_width": null,
            "object_fit": null,
            "object_position": null,
            "order": null,
            "overflow": null,
            "overflow_x": null,
            "overflow_y": null,
            "padding": null,
            "right": null,
            "top": null,
            "visibility": null,
            "width": null
          }
        },
        "ede907e583ba4292a45ceeebcd3098bf": {
          "model_module": "@jupyter-widgets/controls",
          "model_name": "DescriptionStyleModel",
          "model_module_version": "1.5.0",
          "state": {
            "_model_module": "@jupyter-widgets/controls",
            "_model_module_version": "1.5.0",
            "_model_name": "DescriptionStyleModel",
            "_view_count": null,
            "_view_module": "@jupyter-widgets/base",
            "_view_module_version": "1.2.0",
            "_view_name": "StyleView",
            "description_width": ""
          }
        },
        "9a1e595c6bba4b85bf2891168c22c477": {
          "model_module": "@jupyter-widgets/controls",
          "model_name": "HBoxModel",
          "model_module_version": "1.5.0",
          "state": {
            "_dom_classes": [],
            "_model_module": "@jupyter-widgets/controls",
            "_model_module_version": "1.5.0",
            "_model_name": "HBoxModel",
            "_view_count": null,
            "_view_module": "@jupyter-widgets/controls",
            "_view_module_version": "1.5.0",
            "_view_name": "HBoxView",
            "box_style": "",
            "children": [
              "IPY_MODEL_b2f2132f1e9e4ae58f9c0668946b205c",
              "IPY_MODEL_e181ee0c23da4e5ba5bd34133cc0b84b",
              "IPY_MODEL_38adb9eab72f4dd0beb4d2a8e1467759"
            ],
            "layout": "IPY_MODEL_3ad15fcbe56f450b95adb9361665fd37"
          }
        },
        "b2f2132f1e9e4ae58f9c0668946b205c": {
          "model_module": "@jupyter-widgets/controls",
          "model_name": "HTMLModel",
          "model_module_version": "1.5.0",
          "state": {
            "_dom_classes": [],
            "_model_module": "@jupyter-widgets/controls",
            "_model_module_version": "1.5.0",
            "_model_name": "HTMLModel",
            "_view_count": null,
            "_view_module": "@jupyter-widgets/controls",
            "_view_module_version": "1.5.0",
            "_view_name": "HTMLView",
            "description": "",
            "description_tooltip": null,
            "layout": "IPY_MODEL_8cabdb80424a4e06812a1b5cbdd522d5",
            "placeholder": "​",
            "style": "IPY_MODEL_990a2a967e244b86bba514acaffe694a",
            "value": "Downloading (…)olve/main/merges.txt: 100%"
          }
        },
        "e181ee0c23da4e5ba5bd34133cc0b84b": {
          "model_module": "@jupyter-widgets/controls",
          "model_name": "FloatProgressModel",
          "model_module_version": "1.5.0",
          "state": {
            "_dom_classes": [],
            "_model_module": "@jupyter-widgets/controls",
            "_model_module_version": "1.5.0",
            "_model_name": "FloatProgressModel",
            "_view_count": null,
            "_view_module": "@jupyter-widgets/controls",
            "_view_module_version": "1.5.0",
            "_view_name": "ProgressView",
            "bar_style": "success",
            "description": "",
            "description_tooltip": null,
            "layout": "IPY_MODEL_cf5e0a3ef3054b3ea3d8a7d8e6e37e5c",
            "max": 555571,
            "min": 0,
            "orientation": "horizontal",
            "style": "IPY_MODEL_dfb5c8c6b1c34d3e849b0d7c3d8ce187",
            "value": 555571
          }
        },
        "38adb9eab72f4dd0beb4d2a8e1467759": {
          "model_module": "@jupyter-widgets/controls",
          "model_name": "HTMLModel",
          "model_module_version": "1.5.0",
          "state": {
            "_dom_classes": [],
            "_model_module": "@jupyter-widgets/controls",
            "_model_module_version": "1.5.0",
            "_model_name": "HTMLModel",
            "_view_count": null,
            "_view_module": "@jupyter-widgets/controls",
            "_view_module_version": "1.5.0",
            "_view_name": "HTMLView",
            "description": "",
            "description_tooltip": null,
            "layout": "IPY_MODEL_52500c703596430b8528fb127958ed3d",
            "placeholder": "​",
            "style": "IPY_MODEL_2b2f529f09304adb8da79f8e52aefcce",
            "value": " 556k/556k [00:00&lt;00:00, 31.3MB/s]"
          }
        },
        "3ad15fcbe56f450b95adb9361665fd37": {
          "model_module": "@jupyter-widgets/base",
          "model_name": "LayoutModel",
          "model_module_version": "1.2.0",
          "state": {
            "_model_module": "@jupyter-widgets/base",
            "_model_module_version": "1.2.0",
            "_model_name": "LayoutModel",
            "_view_count": null,
            "_view_module": "@jupyter-widgets/base",
            "_view_module_version": "1.2.0",
            "_view_name": "LayoutView",
            "align_content": null,
            "align_items": null,
            "align_self": null,
            "border": null,
            "bottom": null,
            "display": null,
            "flex": null,
            "flex_flow": null,
            "grid_area": null,
            "grid_auto_columns": null,
            "grid_auto_flow": null,
            "grid_auto_rows": null,
            "grid_column": null,
            "grid_gap": null,
            "grid_row": null,
            "grid_template_areas": null,
            "grid_template_columns": null,
            "grid_template_rows": null,
            "height": null,
            "justify_content": null,
            "justify_items": null,
            "left": null,
            "margin": null,
            "max_height": null,
            "max_width": null,
            "min_height": null,
            "min_width": null,
            "object_fit": null,
            "object_position": null,
            "order": null,
            "overflow": null,
            "overflow_x": null,
            "overflow_y": null,
            "padding": null,
            "right": null,
            "top": null,
            "visibility": null,
            "width": null
          }
        },
        "8cabdb80424a4e06812a1b5cbdd522d5": {
          "model_module": "@jupyter-widgets/base",
          "model_name": "LayoutModel",
          "model_module_version": "1.2.0",
          "state": {
            "_model_module": "@jupyter-widgets/base",
            "_model_module_version": "1.2.0",
            "_model_name": "LayoutModel",
            "_view_count": null,
            "_view_module": "@jupyter-widgets/base",
            "_view_module_version": "1.2.0",
            "_view_name": "LayoutView",
            "align_content": null,
            "align_items": null,
            "align_self": null,
            "border": null,
            "bottom": null,
            "display": null,
            "flex": null,
            "flex_flow": null,
            "grid_area": null,
            "grid_auto_columns": null,
            "grid_auto_flow": null,
            "grid_auto_rows": null,
            "grid_column": null,
            "grid_gap": null,
            "grid_row": null,
            "grid_template_areas": null,
            "grid_template_columns": null,
            "grid_template_rows": null,
            "height": null,
            "justify_content": null,
            "justify_items": null,
            "left": null,
            "margin": null,
            "max_height": null,
            "max_width": null,
            "min_height": null,
            "min_width": null,
            "object_fit": null,
            "object_position": null,
            "order": null,
            "overflow": null,
            "overflow_x": null,
            "overflow_y": null,
            "padding": null,
            "right": null,
            "top": null,
            "visibility": null,
            "width": null
          }
        },
        "990a2a967e244b86bba514acaffe694a": {
          "model_module": "@jupyter-widgets/controls",
          "model_name": "DescriptionStyleModel",
          "model_module_version": "1.5.0",
          "state": {
            "_model_module": "@jupyter-widgets/controls",
            "_model_module_version": "1.5.0",
            "_model_name": "DescriptionStyleModel",
            "_view_count": null,
            "_view_module": "@jupyter-widgets/base",
            "_view_module_version": "1.2.0",
            "_view_name": "StyleView",
            "description_width": ""
          }
        },
        "cf5e0a3ef3054b3ea3d8a7d8e6e37e5c": {
          "model_module": "@jupyter-widgets/base",
          "model_name": "LayoutModel",
          "model_module_version": "1.2.0",
          "state": {
            "_model_module": "@jupyter-widgets/base",
            "_model_module_version": "1.2.0",
            "_model_name": "LayoutModel",
            "_view_count": null,
            "_view_module": "@jupyter-widgets/base",
            "_view_module_version": "1.2.0",
            "_view_name": "LayoutView",
            "align_content": null,
            "align_items": null,
            "align_self": null,
            "border": null,
            "bottom": null,
            "display": null,
            "flex": null,
            "flex_flow": null,
            "grid_area": null,
            "grid_auto_columns": null,
            "grid_auto_flow": null,
            "grid_auto_rows": null,
            "grid_column": null,
            "grid_gap": null,
            "grid_row": null,
            "grid_template_areas": null,
            "grid_template_columns": null,
            "grid_template_rows": null,
            "height": null,
            "justify_content": null,
            "justify_items": null,
            "left": null,
            "margin": null,
            "max_height": null,
            "max_width": null,
            "min_height": null,
            "min_width": null,
            "object_fit": null,
            "object_position": null,
            "order": null,
            "overflow": null,
            "overflow_x": null,
            "overflow_y": null,
            "padding": null,
            "right": null,
            "top": null,
            "visibility": null,
            "width": null
          }
        },
        "dfb5c8c6b1c34d3e849b0d7c3d8ce187": {
          "model_module": "@jupyter-widgets/controls",
          "model_name": "ProgressStyleModel",
          "model_module_version": "1.5.0",
          "state": {
            "_model_module": "@jupyter-widgets/controls",
            "_model_module_version": "1.5.0",
            "_model_name": "ProgressStyleModel",
            "_view_count": null,
            "_view_module": "@jupyter-widgets/base",
            "_view_module_version": "1.2.0",
            "_view_name": "StyleView",
            "bar_color": null,
            "description_width": ""
          }
        },
        "52500c703596430b8528fb127958ed3d": {
          "model_module": "@jupyter-widgets/base",
          "model_name": "LayoutModel",
          "model_module_version": "1.2.0",
          "state": {
            "_model_module": "@jupyter-widgets/base",
            "_model_module_version": "1.2.0",
            "_model_name": "LayoutModel",
            "_view_count": null,
            "_view_module": "@jupyter-widgets/base",
            "_view_module_version": "1.2.0",
            "_view_name": "LayoutView",
            "align_content": null,
            "align_items": null,
            "align_self": null,
            "border": null,
            "bottom": null,
            "display": null,
            "flex": null,
            "flex_flow": null,
            "grid_area": null,
            "grid_auto_columns": null,
            "grid_auto_flow": null,
            "grid_auto_rows": null,
            "grid_column": null,
            "grid_gap": null,
            "grid_row": null,
            "grid_template_areas": null,
            "grid_template_columns": null,
            "grid_template_rows": null,
            "height": null,
            "justify_content": null,
            "justify_items": null,
            "left": null,
            "margin": null,
            "max_height": null,
            "max_width": null,
            "min_height": null,
            "min_width": null,
            "object_fit": null,
            "object_position": null,
            "order": null,
            "overflow": null,
            "overflow_x": null,
            "overflow_y": null,
            "padding": null,
            "right": null,
            "top": null,
            "visibility": null,
            "width": null
          }
        },
        "2b2f529f09304adb8da79f8e52aefcce": {
          "model_module": "@jupyter-widgets/controls",
          "model_name": "DescriptionStyleModel",
          "model_module_version": "1.5.0",
          "state": {
            "_model_module": "@jupyter-widgets/controls",
            "_model_module_version": "1.5.0",
            "_model_name": "DescriptionStyleModel",
            "_view_count": null,
            "_view_module": "@jupyter-widgets/base",
            "_view_module_version": "1.2.0",
            "_view_name": "StyleView",
            "description_width": ""
          }
        },
        "9c9e16f4de1644d1ad75b9b968d890bf": {
          "model_module": "@jupyter-widgets/controls",
          "model_name": "HBoxModel",
          "model_module_version": "1.5.0",
          "state": {
            "_dom_classes": [],
            "_model_module": "@jupyter-widgets/controls",
            "_model_module_version": "1.5.0",
            "_model_name": "HBoxModel",
            "_view_count": null,
            "_view_module": "@jupyter-widgets/controls",
            "_view_module_version": "1.5.0",
            "_view_name": "HBoxView",
            "box_style": "",
            "children": [
              "IPY_MODEL_766cd3add896403d904f35680665436d",
              "IPY_MODEL_db1e264f5b0c4d97a3524852ce23754d",
              "IPY_MODEL_ffb6e9068a914479a5f781d1e41ba23f"
            ],
            "layout": "IPY_MODEL_244f59b4196a43fd94352f0ecc070340"
          }
        },
        "766cd3add896403d904f35680665436d": {
          "model_module": "@jupyter-widgets/controls",
          "model_name": "HTMLModel",
          "model_module_version": "1.5.0",
          "state": {
            "_dom_classes": [],
            "_model_module": "@jupyter-widgets/controls",
            "_model_module_version": "1.5.0",
            "_model_name": "HTMLModel",
            "_view_count": null,
            "_view_module": "@jupyter-widgets/controls",
            "_view_module_version": "1.5.0",
            "_view_name": "HTMLView",
            "description": "",
            "description_tooltip": null,
            "layout": "IPY_MODEL_c4111c83d97b427fa4945e4445bb0d1d",
            "placeholder": "​",
            "style": "IPY_MODEL_af386561aa764042889d12c9500a69b3",
            "value": "Downloading (…)cial_tokens_map.json: 100%"
          }
        },
        "db1e264f5b0c4d97a3524852ce23754d": {
          "model_module": "@jupyter-widgets/controls",
          "model_name": "FloatProgressModel",
          "model_module_version": "1.5.0",
          "state": {
            "_dom_classes": [],
            "_model_module": "@jupyter-widgets/controls",
            "_model_module_version": "1.5.0",
            "_model_name": "FloatProgressModel",
            "_view_count": null,
            "_view_module": "@jupyter-widgets/controls",
            "_view_module_version": "1.5.0",
            "_view_name": "ProgressView",
            "bar_style": "success",
            "description": "",
            "description_tooltip": null,
            "layout": "IPY_MODEL_9d47fd229b55445c981ce84773e17e0f",
            "max": 129,
            "min": 0,
            "orientation": "horizontal",
            "style": "IPY_MODEL_afe6735b49b047a4bb25223c6e509564",
            "value": 129
          }
        },
        "ffb6e9068a914479a5f781d1e41ba23f": {
          "model_module": "@jupyter-widgets/controls",
          "model_name": "HTMLModel",
          "model_module_version": "1.5.0",
          "state": {
            "_dom_classes": [],
            "_model_module": "@jupyter-widgets/controls",
            "_model_module_version": "1.5.0",
            "_model_name": "HTMLModel",
            "_view_count": null,
            "_view_module": "@jupyter-widgets/controls",
            "_view_module_version": "1.5.0",
            "_view_name": "HTMLView",
            "description": "",
            "description_tooltip": null,
            "layout": "IPY_MODEL_1f0f3989c7284d42b6d10fe99d46ac60",
            "placeholder": "​",
            "style": "IPY_MODEL_5b692017a628422ea8a8e63ff1d5e843",
            "value": " 129/129 [00:00&lt;00:00, 7.03kB/s]"
          }
        },
        "244f59b4196a43fd94352f0ecc070340": {
          "model_module": "@jupyter-widgets/base",
          "model_name": "LayoutModel",
          "model_module_version": "1.2.0",
          "state": {
            "_model_module": "@jupyter-widgets/base",
            "_model_module_version": "1.2.0",
            "_model_name": "LayoutModel",
            "_view_count": null,
            "_view_module": "@jupyter-widgets/base",
            "_view_module_version": "1.2.0",
            "_view_name": "LayoutView",
            "align_content": null,
            "align_items": null,
            "align_self": null,
            "border": null,
            "bottom": null,
            "display": null,
            "flex": null,
            "flex_flow": null,
            "grid_area": null,
            "grid_auto_columns": null,
            "grid_auto_flow": null,
            "grid_auto_rows": null,
            "grid_column": null,
            "grid_gap": null,
            "grid_row": null,
            "grid_template_areas": null,
            "grid_template_columns": null,
            "grid_template_rows": null,
            "height": null,
            "justify_content": null,
            "justify_items": null,
            "left": null,
            "margin": null,
            "max_height": null,
            "max_width": null,
            "min_height": null,
            "min_width": null,
            "object_fit": null,
            "object_position": null,
            "order": null,
            "overflow": null,
            "overflow_x": null,
            "overflow_y": null,
            "padding": null,
            "right": null,
            "top": null,
            "visibility": null,
            "width": null
          }
        },
        "c4111c83d97b427fa4945e4445bb0d1d": {
          "model_module": "@jupyter-widgets/base",
          "model_name": "LayoutModel",
          "model_module_version": "1.2.0",
          "state": {
            "_model_module": "@jupyter-widgets/base",
            "_model_module_version": "1.2.0",
            "_model_name": "LayoutModel",
            "_view_count": null,
            "_view_module": "@jupyter-widgets/base",
            "_view_module_version": "1.2.0",
            "_view_name": "LayoutView",
            "align_content": null,
            "align_items": null,
            "align_self": null,
            "border": null,
            "bottom": null,
            "display": null,
            "flex": null,
            "flex_flow": null,
            "grid_area": null,
            "grid_auto_columns": null,
            "grid_auto_flow": null,
            "grid_auto_rows": null,
            "grid_column": null,
            "grid_gap": null,
            "grid_row": null,
            "grid_template_areas": null,
            "grid_template_columns": null,
            "grid_template_rows": null,
            "height": null,
            "justify_content": null,
            "justify_items": null,
            "left": null,
            "margin": null,
            "max_height": null,
            "max_width": null,
            "min_height": null,
            "min_width": null,
            "object_fit": null,
            "object_position": null,
            "order": null,
            "overflow": null,
            "overflow_x": null,
            "overflow_y": null,
            "padding": null,
            "right": null,
            "top": null,
            "visibility": null,
            "width": null
          }
        },
        "af386561aa764042889d12c9500a69b3": {
          "model_module": "@jupyter-widgets/controls",
          "model_name": "DescriptionStyleModel",
          "model_module_version": "1.5.0",
          "state": {
            "_model_module": "@jupyter-widgets/controls",
            "_model_module_version": "1.5.0",
            "_model_name": "DescriptionStyleModel",
            "_view_count": null,
            "_view_module": "@jupyter-widgets/base",
            "_view_module_version": "1.2.0",
            "_view_name": "StyleView",
            "description_width": ""
          }
        },
        "9d47fd229b55445c981ce84773e17e0f": {
          "model_module": "@jupyter-widgets/base",
          "model_name": "LayoutModel",
          "model_module_version": "1.2.0",
          "state": {
            "_model_module": "@jupyter-widgets/base",
            "_model_module_version": "1.2.0",
            "_model_name": "LayoutModel",
            "_view_count": null,
            "_view_module": "@jupyter-widgets/base",
            "_view_module_version": "1.2.0",
            "_view_name": "LayoutView",
            "align_content": null,
            "align_items": null,
            "align_self": null,
            "border": null,
            "bottom": null,
            "display": null,
            "flex": null,
            "flex_flow": null,
            "grid_area": null,
            "grid_auto_columns": null,
            "grid_auto_flow": null,
            "grid_auto_rows": null,
            "grid_column": null,
            "grid_gap": null,
            "grid_row": null,
            "grid_template_areas": null,
            "grid_template_columns": null,
            "grid_template_rows": null,
            "height": null,
            "justify_content": null,
            "justify_items": null,
            "left": null,
            "margin": null,
            "max_height": null,
            "max_width": null,
            "min_height": null,
            "min_width": null,
            "object_fit": null,
            "object_position": null,
            "order": null,
            "overflow": null,
            "overflow_x": null,
            "overflow_y": null,
            "padding": null,
            "right": null,
            "top": null,
            "visibility": null,
            "width": null
          }
        },
        "afe6735b49b047a4bb25223c6e509564": {
          "model_module": "@jupyter-widgets/controls",
          "model_name": "ProgressStyleModel",
          "model_module_version": "1.5.0",
          "state": {
            "_model_module": "@jupyter-widgets/controls",
            "_model_module_version": "1.5.0",
            "_model_name": "ProgressStyleModel",
            "_view_count": null,
            "_view_module": "@jupyter-widgets/base",
            "_view_module_version": "1.2.0",
            "_view_name": "StyleView",
            "bar_color": null,
            "description_width": ""
          }
        },
        "1f0f3989c7284d42b6d10fe99d46ac60": {
          "model_module": "@jupyter-widgets/base",
          "model_name": "LayoutModel",
          "model_module_version": "1.2.0",
          "state": {
            "_model_module": "@jupyter-widgets/base",
            "_model_module_version": "1.2.0",
            "_model_name": "LayoutModel",
            "_view_count": null,
            "_view_module": "@jupyter-widgets/base",
            "_view_module_version": "1.2.0",
            "_view_name": "LayoutView",
            "align_content": null,
            "align_items": null,
            "align_self": null,
            "border": null,
            "bottom": null,
            "display": null,
            "flex": null,
            "flex_flow": null,
            "grid_area": null,
            "grid_auto_columns": null,
            "grid_auto_flow": null,
            "grid_auto_rows": null,
            "grid_column": null,
            "grid_gap": null,
            "grid_row": null,
            "grid_template_areas": null,
            "grid_template_columns": null,
            "grid_template_rows": null,
            "height": null,
            "justify_content": null,
            "justify_items": null,
            "left": null,
            "margin": null,
            "max_height": null,
            "max_width": null,
            "min_height": null,
            "min_width": null,
            "object_fit": null,
            "object_position": null,
            "order": null,
            "overflow": null,
            "overflow_x": null,
            "overflow_y": null,
            "padding": null,
            "right": null,
            "top": null,
            "visibility": null,
            "width": null
          }
        },
        "5b692017a628422ea8a8e63ff1d5e843": {
          "model_module": "@jupyter-widgets/controls",
          "model_name": "DescriptionStyleModel",
          "model_module_version": "1.5.0",
          "state": {
            "_model_module": "@jupyter-widgets/controls",
            "_model_module_version": "1.5.0",
            "_model_name": "DescriptionStyleModel",
            "_view_count": null,
            "_view_module": "@jupyter-widgets/base",
            "_view_module_version": "1.2.0",
            "_view_name": "StyleView",
            "description_width": ""
          }
        },
        "615709d3de78437d871cf25d09ca4035": {
          "model_module": "@jupyter-widgets/controls",
          "model_name": "HBoxModel",
          "model_module_version": "1.5.0",
          "state": {
            "_dom_classes": [],
            "_model_module": "@jupyter-widgets/controls",
            "_model_module_version": "1.5.0",
            "_model_name": "HBoxModel",
            "_view_count": null,
            "_view_module": "@jupyter-widgets/controls",
            "_view_module_version": "1.5.0",
            "_view_name": "HBoxView",
            "box_style": "",
            "children": [
              "IPY_MODEL_72f8cd1d417b4dddb19dab5e7a78ff77",
              "IPY_MODEL_e79e336347fe420b9767284fbc60020d",
              "IPY_MODEL_6d36ab822401404fb25e785071244711"
            ],
            "layout": "IPY_MODEL_a29a7c187fb94423a038cd8694d3c22c"
          }
        },
        "72f8cd1d417b4dddb19dab5e7a78ff77": {
          "model_module": "@jupyter-widgets/controls",
          "model_name": "HTMLModel",
          "model_module_version": "1.5.0",
          "state": {
            "_dom_classes": [],
            "_model_module": "@jupyter-widgets/controls",
            "_model_module_version": "1.5.0",
            "_model_name": "HTMLModel",
            "_view_count": null,
            "_view_module": "@jupyter-widgets/controls",
            "_view_module_version": "1.5.0",
            "_view_name": "HTMLView",
            "description": "",
            "description_tooltip": null,
            "layout": "IPY_MODEL_570b8bcea9c5490b95790f6e3104cc54",
            "placeholder": "​",
            "style": "IPY_MODEL_57f48d83e27e41d4bfe67211ad7b464b",
            "value": "Downloading pytorch_model.bin: 100%"
          }
        },
        "e79e336347fe420b9767284fbc60020d": {
          "model_module": "@jupyter-widgets/controls",
          "model_name": "FloatProgressModel",
          "model_module_version": "1.5.0",
          "state": {
            "_dom_classes": [],
            "_model_module": "@jupyter-widgets/controls",
            "_model_module_version": "1.5.0",
            "_model_name": "FloatProgressModel",
            "_view_count": null,
            "_view_module": "@jupyter-widgets/controls",
            "_view_module_version": "1.5.0",
            "_view_name": "ProgressView",
            "bar_style": "success",
            "description": "",
            "description_tooltip": null,
            "layout": "IPY_MODEL_533d361fdfb14f9b8f335f0280934eab",
            "max": 654201076,
            "min": 0,
            "orientation": "horizontal",
            "style": "IPY_MODEL_0219cb540c734987a1f4805229c9efe4",
            "value": 654201076
          }
        },
        "6d36ab822401404fb25e785071244711": {
          "model_module": "@jupyter-widgets/controls",
          "model_name": "HTMLModel",
          "model_module_version": "1.5.0",
          "state": {
            "_dom_classes": [],
            "_model_module": "@jupyter-widgets/controls",
            "_model_module_version": "1.5.0",
            "_model_name": "HTMLModel",
            "_view_count": null,
            "_view_module": "@jupyter-widgets/controls",
            "_view_module_version": "1.5.0",
            "_view_name": "HTMLView",
            "description": "",
            "description_tooltip": null,
            "layout": "IPY_MODEL_39c54e92f2e34b8897316482e4b7991b",
            "placeholder": "​",
            "style": "IPY_MODEL_3804505a9f1a4eb5b2da212eb5278df0",
            "value": " 654M/654M [00:14&lt;00:00, 55.7MB/s]"
          }
        },
        "a29a7c187fb94423a038cd8694d3c22c": {
          "model_module": "@jupyter-widgets/base",
          "model_name": "LayoutModel",
          "model_module_version": "1.2.0",
          "state": {
            "_model_module": "@jupyter-widgets/base",
            "_model_module_version": "1.2.0",
            "_model_name": "LayoutModel",
            "_view_count": null,
            "_view_module": "@jupyter-widgets/base",
            "_view_module_version": "1.2.0",
            "_view_name": "LayoutView",
            "align_content": null,
            "align_items": null,
            "align_self": null,
            "border": null,
            "bottom": null,
            "display": null,
            "flex": null,
            "flex_flow": null,
            "grid_area": null,
            "grid_auto_columns": null,
            "grid_auto_flow": null,
            "grid_auto_rows": null,
            "grid_column": null,
            "grid_gap": null,
            "grid_row": null,
            "grid_template_areas": null,
            "grid_template_columns": null,
            "grid_template_rows": null,
            "height": null,
            "justify_content": null,
            "justify_items": null,
            "left": null,
            "margin": null,
            "max_height": null,
            "max_width": null,
            "min_height": null,
            "min_width": null,
            "object_fit": null,
            "object_position": null,
            "order": null,
            "overflow": null,
            "overflow_x": null,
            "overflow_y": null,
            "padding": null,
            "right": null,
            "top": null,
            "visibility": null,
            "width": null
          }
        },
        "570b8bcea9c5490b95790f6e3104cc54": {
          "model_module": "@jupyter-widgets/base",
          "model_name": "LayoutModel",
          "model_module_version": "1.2.0",
          "state": {
            "_model_module": "@jupyter-widgets/base",
            "_model_module_version": "1.2.0",
            "_model_name": "LayoutModel",
            "_view_count": null,
            "_view_module": "@jupyter-widgets/base",
            "_view_module_version": "1.2.0",
            "_view_name": "LayoutView",
            "align_content": null,
            "align_items": null,
            "align_self": null,
            "border": null,
            "bottom": null,
            "display": null,
            "flex": null,
            "flex_flow": null,
            "grid_area": null,
            "grid_auto_columns": null,
            "grid_auto_flow": null,
            "grid_auto_rows": null,
            "grid_column": null,
            "grid_gap": null,
            "grid_row": null,
            "grid_template_areas": null,
            "grid_template_columns": null,
            "grid_template_rows": null,
            "height": null,
            "justify_content": null,
            "justify_items": null,
            "left": null,
            "margin": null,
            "max_height": null,
            "max_width": null,
            "min_height": null,
            "min_width": null,
            "object_fit": null,
            "object_position": null,
            "order": null,
            "overflow": null,
            "overflow_x": null,
            "overflow_y": null,
            "padding": null,
            "right": null,
            "top": null,
            "visibility": null,
            "width": null
          }
        },
        "57f48d83e27e41d4bfe67211ad7b464b": {
          "model_module": "@jupyter-widgets/controls",
          "model_name": "DescriptionStyleModel",
          "model_module_version": "1.5.0",
          "state": {
            "_model_module": "@jupyter-widgets/controls",
            "_model_module_version": "1.5.0",
            "_model_name": "DescriptionStyleModel",
            "_view_count": null,
            "_view_module": "@jupyter-widgets/base",
            "_view_module_version": "1.2.0",
            "_view_name": "StyleView",
            "description_width": ""
          }
        },
        "533d361fdfb14f9b8f335f0280934eab": {
          "model_module": "@jupyter-widgets/base",
          "model_name": "LayoutModel",
          "model_module_version": "1.2.0",
          "state": {
            "_model_module": "@jupyter-widgets/base",
            "_model_module_version": "1.2.0",
            "_model_name": "LayoutModel",
            "_view_count": null,
            "_view_module": "@jupyter-widgets/base",
            "_view_module_version": "1.2.0",
            "_view_name": "LayoutView",
            "align_content": null,
            "align_items": null,
            "align_self": null,
            "border": null,
            "bottom": null,
            "display": null,
            "flex": null,
            "flex_flow": null,
            "grid_area": null,
            "grid_auto_columns": null,
            "grid_auto_flow": null,
            "grid_auto_rows": null,
            "grid_column": null,
            "grid_gap": null,
            "grid_row": null,
            "grid_template_areas": null,
            "grid_template_columns": null,
            "grid_template_rows": null,
            "height": null,
            "justify_content": null,
            "justify_items": null,
            "left": null,
            "margin": null,
            "max_height": null,
            "max_width": null,
            "min_height": null,
            "min_width": null,
            "object_fit": null,
            "object_position": null,
            "order": null,
            "overflow": null,
            "overflow_x": null,
            "overflow_y": null,
            "padding": null,
            "right": null,
            "top": null,
            "visibility": null,
            "width": null
          }
        },
        "0219cb540c734987a1f4805229c9efe4": {
          "model_module": "@jupyter-widgets/controls",
          "model_name": "ProgressStyleModel",
          "model_module_version": "1.5.0",
          "state": {
            "_model_module": "@jupyter-widgets/controls",
            "_model_module_version": "1.5.0",
            "_model_name": "ProgressStyleModel",
            "_view_count": null,
            "_view_module": "@jupyter-widgets/base",
            "_view_module_version": "1.2.0",
            "_view_name": "StyleView",
            "bar_color": null,
            "description_width": ""
          }
        },
        "39c54e92f2e34b8897316482e4b7991b": {
          "model_module": "@jupyter-widgets/base",
          "model_name": "LayoutModel",
          "model_module_version": "1.2.0",
          "state": {
            "_model_module": "@jupyter-widgets/base",
            "_model_module_version": "1.2.0",
            "_model_name": "LayoutModel",
            "_view_count": null,
            "_view_module": "@jupyter-widgets/base",
            "_view_module_version": "1.2.0",
            "_view_name": "LayoutView",
            "align_content": null,
            "align_items": null,
            "align_self": null,
            "border": null,
            "bottom": null,
            "display": null,
            "flex": null,
            "flex_flow": null,
            "grid_area": null,
            "grid_auto_columns": null,
            "grid_auto_flow": null,
            "grid_auto_rows": null,
            "grid_column": null,
            "grid_gap": null,
            "grid_row": null,
            "grid_template_areas": null,
            "grid_template_columns": null,
            "grid_template_rows": null,
            "height": null,
            "justify_content": null,
            "justify_items": null,
            "left": null,
            "margin": null,
            "max_height": null,
            "max_width": null,
            "min_height": null,
            "min_width": null,
            "object_fit": null,
            "object_position": null,
            "order": null,
            "overflow": null,
            "overflow_x": null,
            "overflow_y": null,
            "padding": null,
            "right": null,
            "top": null,
            "visibility": null,
            "width": null
          }
        },
        "3804505a9f1a4eb5b2da212eb5278df0": {
          "model_module": "@jupyter-widgets/controls",
          "model_name": "DescriptionStyleModel",
          "model_module_version": "1.5.0",
          "state": {
            "_model_module": "@jupyter-widgets/controls",
            "_model_module_version": "1.5.0",
            "_model_name": "DescriptionStyleModel",
            "_view_count": null,
            "_view_module": "@jupyter-widgets/base",
            "_view_module_version": "1.2.0",
            "_view_name": "StyleView",
            "description_width": ""
          }
        }
      }
    }
  },
  "cells": [
    {
      "cell_type": "markdown",
      "metadata": {
        "id": "view-in-github",
        "colab_type": "text"
      },
      "source": [
        "<a href=\"https://colab.research.google.com/github/szdziedzic/intent-classification-for-polish-language/blob/main/colab_experiments/herbert.ipynb\" target=\"_parent\"><img src=\"https://colab.research.google.com/assets/colab-badge.svg\" alt=\"Open In Colab\"/></a>"
      ]
    },
    {
      "cell_type": "code",
      "source": [
        "!pip install datasets"
      ],
      "metadata": {
        "colab": {
          "base_uri": "https://localhost:8080/"
        },
        "id": "-b686QGsYf8j",
        "outputId": "2d4c688b-d613-4639-af29-0dfb755b6666"
      },
      "execution_count": 1,
      "outputs": [
        {
          "output_type": "stream",
          "name": "stdout",
          "text": [
            "Looking in indexes: https://pypi.org/simple, https://us-python.pkg.dev/colab-wheels/public/simple/\n",
            "Collecting datasets\n",
            "  Downloading datasets-2.13.0-py3-none-any.whl (485 kB)\n",
            "\u001b[2K     \u001b[90m━━━━━━━━━━━━━━━━━━━━━━━━━━━━━━━━━━━━━━\u001b[0m \u001b[32m485.6/485.6 kB\u001b[0m \u001b[31m29.7 MB/s\u001b[0m eta \u001b[36m0:00:00\u001b[0m\n",
            "\u001b[?25hRequirement already satisfied: numpy>=1.17 in /usr/local/lib/python3.10/dist-packages (from datasets) (1.22.4)\n",
            "Requirement already satisfied: pyarrow>=8.0.0 in /usr/local/lib/python3.10/dist-packages (from datasets) (9.0.0)\n",
            "Collecting dill<0.3.7,>=0.3.0 (from datasets)\n",
            "  Downloading dill-0.3.6-py3-none-any.whl (110 kB)\n",
            "\u001b[2K     \u001b[90m━━━━━━━━━━━━━━━━━━━━━━━━━━━━━━━━━━━━━━\u001b[0m \u001b[32m110.5/110.5 kB\u001b[0m \u001b[31m15.8 MB/s\u001b[0m eta \u001b[36m0:00:00\u001b[0m\n",
            "\u001b[?25hRequirement already satisfied: pandas in /usr/local/lib/python3.10/dist-packages (from datasets) (1.5.3)\n",
            "Requirement already satisfied: requests>=2.19.0 in /usr/local/lib/python3.10/dist-packages (from datasets) (2.27.1)\n",
            "Requirement already satisfied: tqdm>=4.62.1 in /usr/local/lib/python3.10/dist-packages (from datasets) (4.65.0)\n",
            "Collecting xxhash (from datasets)\n",
            "  Downloading xxhash-3.2.0-cp310-cp310-manylinux_2_17_x86_64.manylinux2014_x86_64.whl (212 kB)\n",
            "\u001b[2K     \u001b[90m━━━━━━━━━━━━━━━━━━━━━━━━━━━━━━━━━━━━━━\u001b[0m \u001b[32m212.5/212.5 kB\u001b[0m \u001b[31m27.3 MB/s\u001b[0m eta \u001b[36m0:00:00\u001b[0m\n",
            "\u001b[?25hCollecting multiprocess (from datasets)\n",
            "  Downloading multiprocess-0.70.14-py310-none-any.whl (134 kB)\n",
            "\u001b[2K     \u001b[90m━━━━━━━━━━━━━━━━━━━━━━━━━━━━━━━━━━━━━━\u001b[0m \u001b[32m134.3/134.3 kB\u001b[0m \u001b[31m18.1 MB/s\u001b[0m eta \u001b[36m0:00:00\u001b[0m\n",
            "\u001b[?25hRequirement already satisfied: fsspec[http]>=2021.11.1 in /usr/local/lib/python3.10/dist-packages (from datasets) (2023.4.0)\n",
            "Collecting aiohttp (from datasets)\n",
            "  Downloading aiohttp-3.8.4-cp310-cp310-manylinux_2_17_x86_64.manylinux2014_x86_64.whl (1.0 MB)\n",
            "\u001b[2K     \u001b[90m━━━━━━━━━━━━━━━━━━━━━━━━━━━━━━━━━━━━━━━━\u001b[0m \u001b[32m1.0/1.0 MB\u001b[0m \u001b[31m67.5 MB/s\u001b[0m eta \u001b[36m0:00:00\u001b[0m\n",
            "\u001b[?25hCollecting huggingface-hub<1.0.0,>=0.11.0 (from datasets)\n",
            "  Downloading huggingface_hub-0.15.1-py3-none-any.whl (236 kB)\n",
            "\u001b[2K     \u001b[90m━━━━━━━━━━━━━━━━━━━━━━━━━━━━━━━━━━━━━━\u001b[0m \u001b[32m236.8/236.8 kB\u001b[0m \u001b[31m27.8 MB/s\u001b[0m eta \u001b[36m0:00:00\u001b[0m\n",
            "\u001b[?25hRequirement already satisfied: packaging in /usr/local/lib/python3.10/dist-packages (from datasets) (23.1)\n",
            "Requirement already satisfied: pyyaml>=5.1 in /usr/local/lib/python3.10/dist-packages (from datasets) (6.0)\n",
            "Requirement already satisfied: attrs>=17.3.0 in /usr/local/lib/python3.10/dist-packages (from aiohttp->datasets) (23.1.0)\n",
            "Requirement already satisfied: charset-normalizer<4.0,>=2.0 in /usr/local/lib/python3.10/dist-packages (from aiohttp->datasets) (2.0.12)\n",
            "Collecting multidict<7.0,>=4.5 (from aiohttp->datasets)\n",
            "  Downloading multidict-6.0.4-cp310-cp310-manylinux_2_17_x86_64.manylinux2014_x86_64.whl (114 kB)\n",
            "\u001b[2K     \u001b[90m━━━━━━━━━━━━━━━━━━━━━━━━━━━━━━━━━━━━━━\u001b[0m \u001b[32m114.5/114.5 kB\u001b[0m \u001b[31m15.5 MB/s\u001b[0m eta \u001b[36m0:00:00\u001b[0m\n",
            "\u001b[?25hCollecting async-timeout<5.0,>=4.0.0a3 (from aiohttp->datasets)\n",
            "  Downloading async_timeout-4.0.2-py3-none-any.whl (5.8 kB)\n",
            "Collecting yarl<2.0,>=1.0 (from aiohttp->datasets)\n",
            "  Downloading yarl-1.9.2-cp310-cp310-manylinux_2_17_x86_64.manylinux2014_x86_64.whl (268 kB)\n",
            "\u001b[2K     \u001b[90m━━━━━━━━━━━━━━━━━━━━━━━━━━━━━━━━━━━━━━\u001b[0m \u001b[32m268.8/268.8 kB\u001b[0m \u001b[31m32.0 MB/s\u001b[0m eta \u001b[36m0:00:00\u001b[0m\n",
            "\u001b[?25hCollecting frozenlist>=1.1.1 (from aiohttp->datasets)\n",
            "  Downloading frozenlist-1.3.3-cp310-cp310-manylinux_2_5_x86_64.manylinux1_x86_64.manylinux_2_17_x86_64.manylinux2014_x86_64.whl (149 kB)\n",
            "\u001b[2K     \u001b[90m━━━━━━━━━━━━━━━━━━━━━━━━━━━━━━━━━━━━━━\u001b[0m \u001b[32m149.6/149.6 kB\u001b[0m \u001b[31m18.9 MB/s\u001b[0m eta \u001b[36m0:00:00\u001b[0m\n",
            "\u001b[?25hCollecting aiosignal>=1.1.2 (from aiohttp->datasets)\n",
            "  Downloading aiosignal-1.3.1-py3-none-any.whl (7.6 kB)\n",
            "Requirement already satisfied: filelock in /usr/local/lib/python3.10/dist-packages (from huggingface-hub<1.0.0,>=0.11.0->datasets) (3.12.0)\n",
            "Requirement already satisfied: typing-extensions>=3.7.4.3 in /usr/local/lib/python3.10/dist-packages (from huggingface-hub<1.0.0,>=0.11.0->datasets) (4.5.0)\n",
            "Requirement already satisfied: urllib3<1.27,>=1.21.1 in /usr/local/lib/python3.10/dist-packages (from requests>=2.19.0->datasets) (1.26.15)\n",
            "Requirement already satisfied: certifi>=2017.4.17 in /usr/local/lib/python3.10/dist-packages (from requests>=2.19.0->datasets) (2022.12.7)\n",
            "Requirement already satisfied: idna<4,>=2.5 in /usr/local/lib/python3.10/dist-packages (from requests>=2.19.0->datasets) (3.4)\n",
            "Requirement already satisfied: python-dateutil>=2.8.1 in /usr/local/lib/python3.10/dist-packages (from pandas->datasets) (2.8.2)\n",
            "Requirement already satisfied: pytz>=2020.1 in /usr/local/lib/python3.10/dist-packages (from pandas->datasets) (2022.7.1)\n",
            "Requirement already satisfied: six>=1.5 in /usr/local/lib/python3.10/dist-packages (from python-dateutil>=2.8.1->pandas->datasets) (1.16.0)\n",
            "Installing collected packages: xxhash, multidict, frozenlist, dill, async-timeout, yarl, multiprocess, huggingface-hub, aiosignal, aiohttp, datasets\n",
            "Successfully installed aiohttp-3.8.4 aiosignal-1.3.1 async-timeout-4.0.2 datasets-2.13.0 dill-0.3.6 frozenlist-1.3.3 huggingface-hub-0.15.1 multidict-6.0.4 multiprocess-0.70.14 xxhash-3.2.0 yarl-1.9.2\n"
          ]
        }
      ]
    },
    {
      "cell_type": "code",
      "source": [
        "!pip install transformers"
      ],
      "metadata": {
        "colab": {
          "base_uri": "https://localhost:8080/"
        },
        "id": "ttnWbJtSaH9c",
        "outputId": "33b5f63a-ace3-4e76-d739-e95341853095"
      },
      "execution_count": 2,
      "outputs": [
        {
          "output_type": "stream",
          "name": "stdout",
          "text": [
            "Looking in indexes: https://pypi.org/simple, https://us-python.pkg.dev/colab-wheels/public/simple/\n",
            "Collecting transformers\n",
            "  Downloading transformers-4.30.2-py3-none-any.whl (7.2 MB)\n",
            "\u001b[2K     \u001b[90m━━━━━━━━━━━━━━━━━━━━━━━━━━━━━━━━━━━━━━━━\u001b[0m \u001b[32m7.2/7.2 MB\u001b[0m \u001b[31m94.0 MB/s\u001b[0m eta \u001b[36m0:00:00\u001b[0m\n",
            "\u001b[?25hRequirement already satisfied: filelock in /usr/local/lib/python3.10/dist-packages (from transformers) (3.12.0)\n",
            "Requirement already satisfied: huggingface-hub<1.0,>=0.14.1 in /usr/local/lib/python3.10/dist-packages (from transformers) (0.15.1)\n",
            "Requirement already satisfied: numpy>=1.17 in /usr/local/lib/python3.10/dist-packages (from transformers) (1.22.4)\n",
            "Requirement already satisfied: packaging>=20.0 in /usr/local/lib/python3.10/dist-packages (from transformers) (23.1)\n",
            "Requirement already satisfied: pyyaml>=5.1 in /usr/local/lib/python3.10/dist-packages (from transformers) (6.0)\n",
            "Requirement already satisfied: regex!=2019.12.17 in /usr/local/lib/python3.10/dist-packages (from transformers) (2022.10.31)\n",
            "Requirement already satisfied: requests in /usr/local/lib/python3.10/dist-packages (from transformers) (2.27.1)\n",
            "Collecting tokenizers!=0.11.3,<0.14,>=0.11.1 (from transformers)\n",
            "  Downloading tokenizers-0.13.3-cp310-cp310-manylinux_2_17_x86_64.manylinux2014_x86_64.whl (7.8 MB)\n",
            "\u001b[2K     \u001b[90m━━━━━━━━━━━━━━━━━━━━━━━━━━━━━━━━━━━━━━━━\u001b[0m \u001b[32m7.8/7.8 MB\u001b[0m \u001b[31m104.5 MB/s\u001b[0m eta \u001b[36m0:00:00\u001b[0m\n",
            "\u001b[?25hCollecting safetensors>=0.3.1 (from transformers)\n",
            "  Downloading safetensors-0.3.1-cp310-cp310-manylinux_2_17_x86_64.manylinux2014_x86_64.whl (1.3 MB)\n",
            "\u001b[2K     \u001b[90m━━━━━━━━━━━━━━━━━━━━━━━━━━━━━━━━━━━━━━━━\u001b[0m \u001b[32m1.3/1.3 MB\u001b[0m \u001b[31m83.8 MB/s\u001b[0m eta \u001b[36m0:00:00\u001b[0m\n",
            "\u001b[?25hRequirement already satisfied: tqdm>=4.27 in /usr/local/lib/python3.10/dist-packages (from transformers) (4.65.0)\n",
            "Requirement already satisfied: fsspec in /usr/local/lib/python3.10/dist-packages (from huggingface-hub<1.0,>=0.14.1->transformers) (2023.4.0)\n",
            "Requirement already satisfied: typing-extensions>=3.7.4.3 in /usr/local/lib/python3.10/dist-packages (from huggingface-hub<1.0,>=0.14.1->transformers) (4.5.0)\n",
            "Requirement already satisfied: urllib3<1.27,>=1.21.1 in /usr/local/lib/python3.10/dist-packages (from requests->transformers) (1.26.15)\n",
            "Requirement already satisfied: certifi>=2017.4.17 in /usr/local/lib/python3.10/dist-packages (from requests->transformers) (2022.12.7)\n",
            "Requirement already satisfied: charset-normalizer~=2.0.0 in /usr/local/lib/python3.10/dist-packages (from requests->transformers) (2.0.12)\n",
            "Requirement already satisfied: idna<4,>=2.5 in /usr/local/lib/python3.10/dist-packages (from requests->transformers) (3.4)\n",
            "Installing collected packages: tokenizers, safetensors, transformers\n",
            "Successfully installed safetensors-0.3.1 tokenizers-0.13.3 transformers-4.30.2\n"
          ]
        }
      ]
    },
    {
      "cell_type": "code",
      "source": [
        "!pip install sacremoses"
      ],
      "metadata": {
        "colab": {
          "base_uri": "https://localhost:8080/"
        },
        "id": "OrKWyc1LaiiN",
        "outputId": "490a3de6-1a45-42c2-ed2c-3079746aa734"
      },
      "execution_count": 3,
      "outputs": [
        {
          "output_type": "stream",
          "name": "stdout",
          "text": [
            "Looking in indexes: https://pypi.org/simple, https://us-python.pkg.dev/colab-wheels/public/simple/\n",
            "Collecting sacremoses\n",
            "  Downloading sacremoses-0.0.53.tar.gz (880 kB)\n",
            "\u001b[2K     \u001b[90m━━━━━━━━━━━━━━━━━━━━━━━━━━━━━━━━━━━━━━\u001b[0m \u001b[32m880.6/880.6 kB\u001b[0m \u001b[31m31.2 MB/s\u001b[0m eta \u001b[36m0:00:00\u001b[0m\n",
            "\u001b[?25h  Preparing metadata (setup.py) ... \u001b[?25l\u001b[?25hdone\n",
            "Requirement already satisfied: regex in /usr/local/lib/python3.10/dist-packages (from sacremoses) (2022.10.31)\n",
            "Requirement already satisfied: six in /usr/local/lib/python3.10/dist-packages (from sacremoses) (1.16.0)\n",
            "Requirement already satisfied: click in /usr/local/lib/python3.10/dist-packages (from sacremoses) (8.1.3)\n",
            "Requirement already satisfied: joblib in /usr/local/lib/python3.10/dist-packages (from sacremoses) (1.2.0)\n",
            "Requirement already satisfied: tqdm in /usr/local/lib/python3.10/dist-packages (from sacremoses) (4.65.0)\n",
            "Building wheels for collected packages: sacremoses\n",
            "  Building wheel for sacremoses (setup.py) ... \u001b[?25l\u001b[?25hdone\n",
            "  Created wheel for sacremoses: filename=sacremoses-0.0.53-py3-none-any.whl size=895241 sha256=e96ffe01819124f0d515f8015c4b0ce923b3bb08e4be376441ad1150edb6058f\n",
            "  Stored in directory: /root/.cache/pip/wheels/00/24/97/a2ea5324f36bc626e1ea0267f33db6aa80d157ee977e9e42fb\n",
            "Successfully built sacremoses\n",
            "Installing collected packages: sacremoses\n",
            "Successfully installed sacremoses-0.0.53\n"
          ]
        }
      ]
    },
    {
      "cell_type": "code",
      "source": [
        "from datasets import load_dataset\n",
        "\n",
        "train_dataset = load_dataset(\"AmazonScience/massive\", \"pl-PL\", split='train')\n",
        "print(train_dataset[0])"
      ],
      "metadata": {
        "colab": {
          "base_uri": "https://localhost:8080/"
        },
        "id": "J9-kjdd9YtbT",
        "outputId": "a924f562-9460-4792-c0ea-fda3a450f383"
      },
      "execution_count": 55,
      "outputs": [
        {
          "output_type": "stream",
          "name": "stderr",
          "text": [
            "WARNING:datasets.builder:Found cached dataset massive (/root/.cache/huggingface/datasets/AmazonScience___massive/pl-PL/1.0.0/71d360eb7d7a18565ff8c10609cebf714fce3cc390e173ba5b02ffd48543cdc1)\n"
          ]
        },
        {
          "output_type": "stream",
          "name": "stdout",
          "text": [
            "{'id': '1', 'locale': 'pl-PL', 'partition': 'train', 'scenario': 16, 'intent': 48, 'utt': 'obudź mnie o dziewiątej rano w piątek', 'annot_utt': 'obudź mnie o [time : dziewiątej rano] w [date : piątek]', 'worker_id': '9', 'slot_method': {'slot': ['time', 'date'], 'method': ['translation', 'translation']}, 'judgments': {'worker_id': ['21', '11', '5'], 'intent_score': [1, 1, 1], 'slots_score': [1, 1, 1], 'grammar_score': [4, 4, 4], 'spelling_score': [2, 2, 2], 'language_identification': ['target', 'target', 'target']}}\n"
          ]
        }
      ]
    },
    {
      "cell_type": "code",
      "source": [
        "val_dataset = load_dataset(\"AmazonScience/massive\", \"pl-PL\", split='validation')\n",
        "print(val_dataset[0])"
      ],
      "metadata": {
        "colab": {
          "base_uri": "https://localhost:8080/"
        },
        "id": "ufC6dm_UZrvb",
        "outputId": "e64f90db-ff33-493d-d5c6-b950efecf669"
      },
      "execution_count": 5,
      "outputs": [
        {
          "output_type": "stream",
          "name": "stderr",
          "text": [
            "WARNING:datasets.builder:Found cached dataset massive (/root/.cache/huggingface/datasets/AmazonScience___massive/pl-PL/1.0.0/71d360eb7d7a18565ff8c10609cebf714fce3cc390e173ba5b02ffd48543cdc1)\n"
          ]
        },
        {
          "output_type": "stream",
          "name": "stdout",
          "text": [
            "{'id': '11', 'locale': 'pl-PL', 'partition': 'dev', 'scenario': 8, 'intent': 40, 'utt': 'wyłącz światła proszę', 'annot_utt': 'wyłącz światła proszę', 'worker_id': '6', 'slot_method': {'slot': [], 'method': []}, 'judgments': {'worker_id': ['2', '5'], 'intent_score': [1, 1], 'slots_score': [1, 1], 'grammar_score': [4, 4], 'spelling_score': [2, 2], 'language_identification': ['target', 'target']}}\n"
          ]
        }
      ]
    },
    {
      "cell_type": "code",
      "source": [
        "test_dataset = load_dataset(\"AmazonScience/massive\", \"pl-PL\", split='test')\n",
        "print(test_dataset[0])"
      ],
      "metadata": {
        "colab": {
          "base_uri": "https://localhost:8080/"
        },
        "id": "Xt9KLZSwZznu",
        "outputId": "d04f4efc-d4ba-47d7-bcc7-be41d22f0d6a"
      },
      "execution_count": 6,
      "outputs": [
        {
          "output_type": "stream",
          "name": "stderr",
          "text": [
            "WARNING:datasets.builder:Found cached dataset massive (/root/.cache/huggingface/datasets/AmazonScience___massive/pl-PL/1.0.0/71d360eb7d7a18565ff8c10609cebf714fce3cc390e173ba5b02ffd48543cdc1)\n"
          ]
        },
        {
          "output_type": "stream",
          "name": "stdout",
          "text": [
            "{'id': '0', 'locale': 'pl-PL', 'partition': 'test', 'scenario': 16, 'intent': 48, 'utt': 'obudź mnie o piątej rano w tym tygodniu', 'annot_utt': 'obudź mnie o [time : piątej rano] [date : w tym tygodniu]', 'worker_id': '14', 'slot_method': {'slot': ['time', 'date'], 'method': ['translation', 'translation']}, 'judgments': {'worker_id': ['5', '21', '11'], 'intent_score': [1, 1, 1], 'slots_score': [1, 1, 1], 'grammar_score': [4, 4, 4], 'spelling_score': [2, 2, 2], 'language_identification': ['target', 'target', 'target']}}\n"
          ]
        }
      ]
    },
    {
      "cell_type": "code",
      "execution_count": 7,
      "metadata": {
        "colab": {
          "base_uri": "https://localhost:8080/",
          "height": 280,
          "referenced_widgets": [
            "42af3d9ac0ed41ad9068f6a266d10c4c",
            "04238e258ff043a9b818604d36916f7b",
            "9f027eeb894f4f24a86b113df69c08a6",
            "e5fe5cbbf3b5494bb87cebe9f234af08",
            "8df537866710418fa26dc61df35f97ea",
            "3fbfd8a20e594808a244c42e850ca6ad",
            "60d0a05d247143619bd5868659447a13",
            "33b83d75344d4ae4bdc7f2e431befc6b",
            "8e43a969111e4084a61c988c75af00bf",
            "b24fc2478ee949aa9a18b0f827b95bf9",
            "40fef97bd50e4b6babf324eccb2934b4",
            "1683422f5b9544038ae1481928713692",
            "7ede8d76b2d944af978db01fab7d694c",
            "903b1e3dbbd2492da7c1aa30e424baa8",
            "26d89f40a4374d8d899c3b89bf097bf8",
            "df4c1ce7e29a42d0ab630fce7871dabe",
            "58202beeaac842ab88c52960f44d37b5",
            "5488e67ecee845569b256ad644a2dbbe",
            "14ac0c3f79b04d43b73b2135150c559e",
            "898fb6fb7ebc4e2b891db65bc4b84d41",
            "020c2db451314f52972601a9fc52d114",
            "ac90b412c4554424ab8c33d5759dfdae",
            "adf9b38896d14a919196f793b81da559",
            "adcf3e1230c44659939f4660166f2c0c",
            "f570348c95804f1588a06f72bd07ebd5",
            "e6df99dda7c74a05be2fddcc6ffb96f1",
            "aa83252dc2804e15bbfe7ad8801355c4",
            "84e71699a58e4d408ff07898d919f736",
            "59cb5cd07a99426fb4ce77768a403a9c",
            "87a5601141594a78be66ce5e842115e7",
            "7cc013fedf424689829f12bfa10397ad",
            "933e7bc72b3242acb781c5d5a73af21c",
            "ede907e583ba4292a45ceeebcd3098bf",
            "9a1e595c6bba4b85bf2891168c22c477",
            "b2f2132f1e9e4ae58f9c0668946b205c",
            "e181ee0c23da4e5ba5bd34133cc0b84b",
            "38adb9eab72f4dd0beb4d2a8e1467759",
            "3ad15fcbe56f450b95adb9361665fd37",
            "8cabdb80424a4e06812a1b5cbdd522d5",
            "990a2a967e244b86bba514acaffe694a",
            "cf5e0a3ef3054b3ea3d8a7d8e6e37e5c",
            "dfb5c8c6b1c34d3e849b0d7c3d8ce187",
            "52500c703596430b8528fb127958ed3d",
            "2b2f529f09304adb8da79f8e52aefcce",
            "9c9e16f4de1644d1ad75b9b968d890bf",
            "766cd3add896403d904f35680665436d",
            "db1e264f5b0c4d97a3524852ce23754d",
            "ffb6e9068a914479a5f781d1e41ba23f",
            "244f59b4196a43fd94352f0ecc070340",
            "c4111c83d97b427fa4945e4445bb0d1d",
            "af386561aa764042889d12c9500a69b3",
            "9d47fd229b55445c981ce84773e17e0f",
            "afe6735b49b047a4bb25223c6e509564",
            "1f0f3989c7284d42b6d10fe99d46ac60",
            "5b692017a628422ea8a8e63ff1d5e843",
            "615709d3de78437d871cf25d09ca4035",
            "72f8cd1d417b4dddb19dab5e7a78ff77",
            "e79e336347fe420b9767284fbc60020d",
            "6d36ab822401404fb25e785071244711",
            "a29a7c187fb94423a038cd8694d3c22c",
            "570b8bcea9c5490b95790f6e3104cc54",
            "57f48d83e27e41d4bfe67211ad7b464b",
            "533d361fdfb14f9b8f335f0280934eab",
            "0219cb540c734987a1f4805229c9efe4",
            "39c54e92f2e34b8897316482e4b7991b",
            "3804505a9f1a4eb5b2da212eb5278df0"
          ]
        },
        "id": "e40GjC3aWZpk",
        "outputId": "686f3f74-0cd1-4ddd-b54f-020feba0dcba"
      },
      "outputs": [
        {
          "output_type": "display_data",
          "data": {
            "text/plain": [
              "Downloading (…)okenizer_config.json:   0%|          | 0.00/229 [00:00<?, ?B/s]"
            ],
            "application/vnd.jupyter.widget-view+json": {
              "version_major": 2,
              "version_minor": 0,
              "model_id": "42af3d9ac0ed41ad9068f6a266d10c4c"
            }
          },
          "metadata": {}
        },
        {
          "output_type": "display_data",
          "data": {
            "text/plain": [
              "Downloading (…)lve/main/config.json:   0%|          | 0.00/472 [00:00<?, ?B/s]"
            ],
            "application/vnd.jupyter.widget-view+json": {
              "version_major": 2,
              "version_minor": 0,
              "model_id": "1683422f5b9544038ae1481928713692"
            }
          },
          "metadata": {}
        },
        {
          "output_type": "display_data",
          "data": {
            "text/plain": [
              "Downloading (…)olve/main/vocab.json:   0%|          | 0.00/907k [00:00<?, ?B/s]"
            ],
            "application/vnd.jupyter.widget-view+json": {
              "version_major": 2,
              "version_minor": 0,
              "model_id": "adf9b38896d14a919196f793b81da559"
            }
          },
          "metadata": {}
        },
        {
          "output_type": "display_data",
          "data": {
            "text/plain": [
              "Downloading (…)olve/main/merges.txt:   0%|          | 0.00/556k [00:00<?, ?B/s]"
            ],
            "application/vnd.jupyter.widget-view+json": {
              "version_major": 2,
              "version_minor": 0,
              "model_id": "9a1e595c6bba4b85bf2891168c22c477"
            }
          },
          "metadata": {}
        },
        {
          "output_type": "display_data",
          "data": {
            "text/plain": [
              "Downloading (…)cial_tokens_map.json:   0%|          | 0.00/129 [00:00<?, ?B/s]"
            ],
            "application/vnd.jupyter.widget-view+json": {
              "version_major": 2,
              "version_minor": 0,
              "model_id": "9c9e16f4de1644d1ad75b9b968d890bf"
            }
          },
          "metadata": {}
        },
        {
          "output_type": "display_data",
          "data": {
            "text/plain": [
              "Downloading pytorch_model.bin:   0%|          | 0.00/654M [00:00<?, ?B/s]"
            ],
            "application/vnd.jupyter.widget-view+json": {
              "version_major": 2,
              "version_minor": 0,
              "model_id": "615709d3de78437d871cf25d09ca4035"
            }
          },
          "metadata": {}
        },
        {
          "output_type": "stream",
          "name": "stderr",
          "text": [
            "Some weights of the model checkpoint at allegro/herbert-base-cased were not used when initializing BertModel: ['cls.sso.sso_relationship.bias', 'cls.predictions.transform.dense.bias', 'cls.predictions.transform.dense.weight', 'cls.predictions.transform.LayerNorm.weight', 'cls.predictions.decoder.weight', 'cls.predictions.bias', 'cls.predictions.decoder.bias', 'cls.sso.sso_relationship.weight', 'cls.predictions.transform.LayerNorm.bias']\n",
            "- This IS expected if you are initializing BertModel from the checkpoint of a model trained on another task or with another architecture (e.g. initializing a BertForSequenceClassification model from a BertForPreTraining model).\n",
            "- This IS NOT expected if you are initializing BertModel from the checkpoint of a model that you expect to be exactly identical (initializing a BertForSequenceClassification model from a BertForSequenceClassification model).\n"
          ]
        }
      ],
      "source": [
        "from transformers import AutoTokenizer, AutoModel\n",
        "\n",
        "model_names = {\n",
        "    \"herbert-klej-cased-v1\": {\n",
        "        \"tokenizer\": \"allegro/herbert-klej-cased-tokenizer-v1\",\n",
        "        \"model\": \"allegro/herbert-klej-cased-v1\",\n",
        "    },\n",
        "    \"herbert-base-cased\": {\n",
        "        \"tokenizer\": \"allegro/herbert-base-cased\",\n",
        "        \"model\": \"allegro/herbert-base-cased\",\n",
        "    },\n",
        "    \"herbert-large-cased\": {\n",
        "        \"tokenizer\": \"allegro/herbert-large-cased\",\n",
        "        \"model\": \"allegro/herbert-large-cased\",\n",
        "    },\n",
        "}\n",
        "\n",
        "tokenizer = AutoTokenizer.from_pretrained(model_names[\"herbert-base-cased\"][\"tokenizer\"])\n",
        "model = AutoModel.from_pretrained(model_names[\"herbert-base-cased\"][\"model\"])"
      ]
    },
    {
      "cell_type": "code",
      "source": [
        "output = model(\n",
        "    **tokenizer.batch_encode_plus(\n",
        "        [\n",
        "            (\n",
        "                \"A potem szedł środkiem drogi w kurzawie, bo zamiatał nogami, ślepy dziad prowadzony przez tłustego kundla na sznurku.\",\n",
        "                \"A potem leciał od lasu chłopak z butelką, ale ten ujrzawszy księdza przy drodze okrążył go z dala i biegł na przełaj pól do karczmy.\"\n",
        "            )\n",
        "        ],\n",
        "        padding=\"longest\",\n",
        "        add_special_tokens=True,\n",
        "        return_tensors=\"pt\",\n",
        "    )\n",
        ")"
      ],
      "metadata": {
        "id": "qdKTbTsYWkeO"
      },
      "execution_count": 8,
      "outputs": []
    },
    {
      "cell_type": "code",
      "source": [
        "output"
      ],
      "metadata": {
        "colab": {
          "base_uri": "https://localhost:8080/"
        },
        "id": "NMp-oKM_a2OH",
        "outputId": "f14b4d1f-2493-48e8-bf27-7bec6cc98adc"
      },
      "execution_count": 9,
      "outputs": [
        {
          "output_type": "execute_result",
          "data": {
            "text/plain": [
              "BaseModelOutputWithPoolingAndCrossAttentions(last_hidden_state=tensor([[[-0.0156, -0.0107,  0.0548,  ..., -0.2931,  0.0463, -0.4071],\n",
              "         [-0.1879, -0.2544, -0.1516,  ..., -0.2208,  0.2126,  0.2200],\n",
              "         [-0.1578, -0.0876, -0.4259,  ...,  0.0314,  0.6145, -0.2184],\n",
              "         ...,\n",
              "         [ 0.0454, -0.2671, -0.1461,  ...,  0.3076,  0.8337,  0.3293],\n",
              "         [ 0.0229,  0.1212,  0.0126,  ..., -0.4731,  0.1688,  0.3738],\n",
              "         [-0.1684, -0.0869, -0.4155,  ...,  0.0268,  0.6186, -0.2000]]],\n",
              "       grad_fn=<NativeLayerNormBackward0>), pooler_output=tensor([[ 2.3978e-01,  7.7380e-02, -1.0388e-01,  9.9938e-01, -4.3555e-02,\n",
              "          1.6402e-01,  9.9964e-01, -9.9971e-01, -9.9978e-01,  6.9485e-01,\n",
              "          9.9686e-01,  8.6258e-02,  9.9989e-01, -7.4082e-01,  4.8495e-02,\n",
              "          6.2282e-02, -9.9989e-01,  2.9818e-03,  3.0078e-02,  9.9358e-01,\n",
              "          9.9906e-01, -9.3512e-01, -2.7758e-02, -1.6144e-01,  1.2141e-01,\n",
              "         -9.3916e-01, -8.6540e-01, -9.4444e-01, -3.4983e-02, -9.9463e-01,\n",
              "         -9.9907e-01,  5.8153e-02, -9.8206e-01,  9.9952e-01,  9.3814e-03,\n",
              "         -5.5937e-02,  9.9946e-01,  9.8992e-01, -1.4117e-01,  9.9983e-01,\n",
              "         -5.1420e-02,  2.0259e-01, -1.7737e-02,  1.6458e-01,  1.1397e-01,\n",
              "          1.1570e-03, -9.9987e-01,  6.1024e-02, -6.2177e-02, -9.9941e-01,\n",
              "          9.9989e-01, -9.9925e-01,  3.8437e-02,  6.8421e-02, -4.9726e-02,\n",
              "          1.2288e-01, -9.9973e-01, -1.9355e-02, -4.2136e-01,  2.7375e-02,\n",
              "         -1.4853e-02,  1.2233e-01,  9.8817e-01, -8.7261e-02,  9.9940e-01,\n",
              "         -9.1118e-02, -2.6530e-01,  7.0470e-02,  6.4726e-02, -6.3115e-02,\n",
              "          1.7003e-01,  9.8828e-01, -2.7719e-02,  2.4278e-03,  9.1014e-02,\n",
              "          5.1973e-01, -2.3139e-02,  2.1531e-01, -9.9946e-01, -8.1778e-02,\n",
              "         -9.2420e-01, -9.9944e-01,  9.7388e-04, -9.5329e-03, -1.1817e-01,\n",
              "         -6.3965e-01, -4.1537e-01,  9.9986e-01,  1.0122e-02,  9.9963e-01,\n",
              "          9.8990e-01,  4.5038e-02, -9.8899e-01,  9.8372e-01,  7.4767e-02,\n",
              "          2.8990e-02, -5.8159e-02, -9.9916e-01,  2.0022e-01,  8.5799e-01,\n",
              "          9.9748e-01, -5.9671e-03,  1.3369e-01,  3.0986e-03,  1.7382e-01,\n",
              "          1.7309e-01, -9.6101e-02, -1.7838e-02,  7.1373e-01,  5.8840e-02,\n",
              "         -1.8409e-01, -1.5084e-01,  1.2772e-01, -9.5972e-02, -9.9979e-01,\n",
              "         -2.0621e-01,  9.9987e-01,  6.7639e-02,  9.9104e-01, -1.5814e-01,\n",
              "         -9.9984e-01, -3.4081e-03, -9.9209e-01, -5.1723e-02, -4.5930e-02,\n",
              "         -2.9552e-02, -9.9988e-01,  9.9977e-01, -1.2093e-01, -9.9979e-01,\n",
              "         -6.7770e-02,  6.7267e-01, -9.8586e-01,  1.0734e-02,  9.9703e-01,\n",
              "          1.4573e-01,  9.9992e-01, -2.4065e-02, -1.3954e-02,  1.9687e-01,\n",
              "         -1.1069e-01,  1.5697e-02,  1.6023e-01,  6.1896e-03, -9.8710e-01,\n",
              "          9.9982e-01,  9.9976e-01, -1.3880e-01,  2.3667e-02, -1.8372e-01,\n",
              "          2.0237e-02,  9.9634e-01,  5.0658e-01, -1.1848e-01,  9.9936e-01,\n",
              "         -9.0738e-02, -3.9725e-02, -8.7162e-02,  1.8936e-02, -8.4696e-01,\n",
              "         -2.3159e-02, -8.7709e-02,  1.5139e-01, -9.9993e-01,  9.6210e-01,\n",
              "          1.3568e-01,  9.6035e-02,  9.4746e-01, -9.1259e-01,  2.5808e-01,\n",
              "         -9.9988e-01,  2.4818e-02, -4.3872e-02, -1.2635e-01, -9.8120e-02,\n",
              "         -8.0262e-03,  4.8842e-02, -2.7959e-01, -1.7810e-02,  1.9145e-01,\n",
              "         -9.9773e-01,  9.9265e-01,  9.9942e-01, -7.8396e-02,  9.9783e-01,\n",
              "         -5.2547e-02, -3.3204e-02,  9.9895e-01,  5.2497e-01,  4.8107e-02,\n",
              "         -9.9982e-01, -1.4864e-02,  2.3514e-01, -8.2981e-02,  4.3230e-02,\n",
              "         -1.5025e-01, -1.0205e-01, -1.5019e-01, -9.6384e-01,  8.4644e-01,\n",
              "          9.9981e-01,  1.0073e-01, -9.9993e-01,  8.9909e-02,  9.8600e-01,\n",
              "         -4.0373e-01, -9.9909e-01, -8.1056e-02,  9.9997e-01,  6.6062e-02,\n",
              "         -8.4558e-02,  3.5266e-02,  8.2326e-02,  1.5057e-01,  8.9158e-01,\n",
              "          3.3780e-02, -6.7783e-02,  9.9493e-01,  9.5691e-02,  6.4235e-02,\n",
              "         -9.9861e-01,  1.0853e-01,  8.0601e-02,  8.4593e-02, -4.8924e-01,\n",
              "          9.9910e-01,  9.9998e-01,  2.1217e-01,  1.6970e-01, -9.9934e-01,\n",
              "          5.3515e-01, -1.2941e-01, -1.1719e-01, -9.9938e-01, -9.9969e-01,\n",
              "         -9.9841e-01,  7.6115e-01, -1.2767e-02, -9.9927e-01,  1.8892e-01,\n",
              "          9.9965e-01, -8.5944e-01, -1.9095e-01, -9.9960e-01, -1.5648e-01,\n",
              "         -9.9990e-01, -8.4004e-01, -5.8825e-01, -6.1045e-03,  9.9977e-01,\n",
              "         -9.9994e-01,  8.1467e-02,  4.6604e-01, -8.4476e-02, -7.7642e-02,\n",
              "         -1.3695e-01, -1.2455e-01,  6.7057e-01, -9.9979e-01, -1.6774e-01,\n",
              "          1.6822e-01,  9.9988e-01,  1.0275e-01, -2.1068e-01, -1.2755e-01,\n",
              "          1.7543e-01, -9.9498e-01,  9.9609e-01, -9.9989e-01, -1.0302e-01,\n",
              "          9.9855e-01,  2.1838e-03, -8.9687e-02,  1.2471e-01, -1.3304e-01,\n",
              "          6.1033e-02,  2.4844e-01,  9.7634e-01,  3.6846e-02, -1.9613e-01,\n",
              "         -1.0360e-01,  9.8914e-01, -1.5990e-01, -1.9178e-02, -1.9335e-02,\n",
              "         -9.9867e-01,  1.2026e-01, -6.3385e-03, -9.9993e-01,  4.3823e-01,\n",
              "          4.4887e-02,  1.0564e-01,  5.1488e-02,  2.8379e-01, -9.9936e-01,\n",
              "         -1.3121e-01, -9.9092e-01, -1.1262e-01, -9.6130e-01, -1.7481e-02,\n",
              "          1.2298e-01, -9.9961e-01, -1.8613e-01,  1.2738e-01, -4.8185e-02,\n",
              "         -3.3633e-02, -9.9947e-01,  9.9365e-01,  9.6203e-02, -2.5674e-01,\n",
              "          9.9985e-01,  7.1682e-01,  5.8536e-02,  1.5351e-01, -9.9972e-01,\n",
              "          1.3809e-02, -9.9989e-01, -8.8433e-02,  5.6554e-02,  9.9995e-01,\n",
              "         -5.3779e-02,  9.7505e-01,  9.6145e-01,  9.9978e-01,  1.2150e-02,\n",
              "          2.9792e-02,  8.6131e-02, -7.1717e-02,  2.5010e-01,  9.9993e-01,\n",
              "         -1.0441e-01, -9.9980e-01,  9.7991e-01, -2.5287e-02,  6.2401e-03,\n",
              "          9.9977e-01,  1.1347e-01, -2.3837e-03, -8.4335e-01, -9.9778e-01,\n",
              "          9.9982e-01, -2.4128e-02,  1.0195e-01, -9.9029e-01,  9.9967e-01,\n",
              "          2.1240e-01,  1.7435e-01,  1.2000e-02, -9.9951e-01, -4.3928e-01,\n",
              "         -9.9550e-01, -1.9982e-01,  7.4136e-01, -9.9982e-01, -2.8498e-02,\n",
              "         -1.1059e-01, -1.2505e-01,  9.0617e-02,  9.4571e-01, -9.9944e-01,\n",
              "         -9.8294e-01,  6.6987e-03, -9.9976e-01, -9.9922e-01,  7.9477e-02,\n",
              "         -8.5761e-02,  1.1243e-01, -1.9152e-03,  2.3840e-02, -1.1428e-01,\n",
              "          6.0871e-02, -1.5395e-03,  1.2091e-01,  1.9184e-01,  9.9855e-01,\n",
              "          2.0693e-02, -2.2165e-01,  2.1784e-01, -9.6042e-01, -9.9993e-01,\n",
              "          9.9117e-01,  9.3838e-01, -1.3406e-01, -2.6299e-02,  9.9976e-01,\n",
              "         -8.2520e-01,  5.7995e-01, -9.9967e-01,  9.9988e-01, -9.6567e-02,\n",
              "         -3.4751e-02, -8.9529e-01,  9.9817e-01, -9.7104e-01, -1.3798e-01,\n",
              "          1.2979e-01,  2.7440e-01, -5.9288e-01,  7.0967e-01,  9.7115e-01,\n",
              "         -9.9985e-01,  6.0652e-02, -5.4245e-02,  9.9988e-01, -9.9565e-01,\n",
              "         -8.4812e-02,  9.9764e-01, -4.9785e-02, -9.9926e-01, -1.7795e-01,\n",
              "          4.2028e-02,  1.2780e-01,  8.0268e-02, -9.9983e-01, -1.8742e-01,\n",
              "         -7.2751e-03, -6.2670e-01,  3.1290e-01,  9.5027e-01, -9.9983e-01,\n",
              "          1.0244e-01, -9.9949e-01,  9.9984e-01,  9.9988e-01,  2.2179e-01,\n",
              "          1.4108e-01,  9.9808e-01, -8.6995e-02, -9.5501e-01,  2.7719e-01,\n",
              "          1.9933e-01,  3.7333e-01, -9.9976e-01,  9.9979e-01, -9.9950e-01,\n",
              "         -9.9885e-01, -2.7048e-02,  9.1732e-01, -1.0373e-01,  9.9990e-01,\n",
              "          1.6387e-01,  1.3649e-01,  2.3553e-01, -4.6832e-02,  8.0169e-02,\n",
              "          9.1040e-02,  6.4808e-02, -1.3561e-01,  9.9948e-01, -9.9994e-01,\n",
              "         -9.9671e-01,  9.6844e-01,  9.2713e-02,  9.8987e-01,  1.2612e-02,\n",
              "         -9.6869e-01, -7.2334e-01,  4.1353e-02, -9.9953e-01, -1.3159e-01,\n",
              "          6.5393e-02, -9.9988e-01, -2.6878e-01,  9.9853e-01, -8.1197e-01,\n",
              "         -9.9791e-01, -1.4111e-01,  8.3244e-02,  8.5637e-01,  9.1575e-02,\n",
              "         -8.6219e-02, -7.9916e-02,  9.9242e-01, -1.6774e-01,  7.1359e-01,\n",
              "         -9.9935e-01,  3.2724e-02, -1.7769e-01,  9.4552e-02, -4.3241e-01,\n",
              "          9.9998e-01,  1.1929e-01,  8.6486e-01,  6.0049e-01, -9.9592e-01,\n",
              "          9.9943e-01, -8.5506e-01, -9.6578e-02, -2.5907e-02,  1.3319e-01,\n",
              "          1.1876e-01, -6.0252e-03, -1.7297e-01,  2.9759e-01, -1.8382e-01,\n",
              "         -9.9948e-01, -9.9983e-01, -9.9980e-01,  9.2207e-01,  2.8243e-01,\n",
              "         -8.3849e-01, -1.9567e-01,  9.9664e-01,  9.5742e-02, -7.5306e-02,\n",
              "         -9.9928e-01, -9.9749e-01, -9.9567e-01,  4.0861e-02,  9.8915e-01,\n",
              "          5.2961e-02, -9.7555e-01,  9.6394e-03, -1.6841e-01,  8.1529e-02,\n",
              "          1.0649e-01,  7.4023e-02,  5.7358e-02,  9.9971e-01,  9.1633e-02,\n",
              "          9.9973e-01, -7.4080e-02, -9.1541e-01,  9.9976e-01,  1.9529e-01,\n",
              "          1.0472e-01, -9.0663e-02,  1.2544e-01,  1.7827e-01,  5.9379e-02,\n",
              "         -5.4646e-02, -9.9985e-01,  9.9741e-01, -1.5687e-01, -9.9228e-01,\n",
              "          9.8246e-01,  9.9983e-01, -5.3826e-02,  1.1734e-01,  9.7910e-01,\n",
              "          5.4051e-02,  9.9260e-01, -4.6753e-02, -9.9953e-01,  9.9980e-01,\n",
              "         -8.2311e-01, -9.9990e-01,  2.3358e-01, -8.2778e-01,  8.3942e-03,\n",
              "         -1.3433e-01,  7.5217e-01,  8.7649e-02, -6.7434e-02,  4.9053e-02,\n",
              "          8.7837e-02,  9.8300e-01,  3.8020e-02, -9.9973e-01,  4.7917e-02,\n",
              "          1.9108e-01,  9.9895e-01, -7.7515e-01,  5.2215e-02, -1.6309e-01,\n",
              "          6.7090e-01, -1.2136e-01, -6.6499e-03, -5.6501e-02, -6.4613e-02,\n",
              "          1.2091e-01, -2.8476e-02, -9.9862e-01, -5.4190e-02,  8.1365e-02,\n",
              "         -8.6443e-02,  9.2292e-01, -9.9953e-01, -9.9888e-01,  1.0840e-01,\n",
              "         -5.3465e-02, -5.5699e-02,  1.5517e-01, -1.0883e-03, -2.7572e-02,\n",
              "          9.7948e-01, -9.8530e-01, -5.7464e-01,  8.2396e-02, -8.5943e-01,\n",
              "         -7.8437e-02, -9.8986e-02,  9.9988e-01,  2.3544e-01,  7.6275e-02,\n",
              "         -9.7660e-01,  1.2935e-01, -9.9607e-01, -9.9486e-01, -9.9988e-01,\n",
              "         -9.3859e-01,  1.4152e-01, -5.1266e-02,  1.2733e-01, -1.5655e-01,\n",
              "         -9.9751e-01,  2.3104e-02,  9.9997e-01,  1.5084e-01, -9.9947e-01,\n",
              "         -1.1275e-01, -7.6583e-01, -2.7950e-02,  5.6937e-02, -9.9993e-01,\n",
              "         -9.2339e-02,  9.7825e-01, -1.5493e-01,  6.1996e-02, -1.9314e-02,\n",
              "          2.8060e-01,  4.2670e-02,  9.9980e-01, -9.9938e-01,  9.9967e-01,\n",
              "          9.9730e-01, -8.6917e-01, -9.9714e-01,  3.2098e-02,  9.7341e-02,\n",
              "         -3.0081e-01, -9.9958e-01, -9.9631e-01, -1.0934e-01, -7.2208e-02,\n",
              "          9.3956e-01,  9.9922e-01, -2.8522e-02, -2.4045e-02,  7.8636e-03,\n",
              "         -2.0993e-01,  1.6603e-01, -9.9953e-01, -9.9901e-01,  8.1622e-01,\n",
              "         -1.9561e-01,  9.0986e-02,  9.9988e-01,  1.4224e-01,  2.4926e-02,\n",
              "         -1.9239e-02,  1.1867e-01,  3.8320e-02,  9.9975e-01, -9.9769e-01,\n",
              "         -9.9989e-01,  9.9248e-01,  9.9737e-01, -4.0484e-02,  9.9931e-01,\n",
              "         -9.7092e-01, -9.9608e-01, -2.0219e-01,  9.8773e-01, -8.0676e-01,\n",
              "         -2.1413e-01, -9.9975e-01, -1.7474e-02, -8.7520e-01,  9.9984e-01,\n",
              "         -9.7893e-01, -4.5593e-03,  9.9983e-01,  9.4505e-01,  9.9991e-01,\n",
              "          5.4493e-01, -7.3763e-02,  2.0081e-01, -9.9989e-01,  1.3886e-01,\n",
              "         -5.6095e-01,  9.9983e-01,  2.8707e-01,  9.5939e-01, -5.6039e-04,\n",
              "          9.2667e-01,  9.9907e-01,  9.9994e-01,  9.9915e-01, -9.9973e-01,\n",
              "          1.9318e-01,  4.8685e-03,  2.1341e-01,  1.0973e-01,  8.6419e-02,\n",
              "          1.2397e-01, -9.0261e-01,  2.1690e-02,  4.7669e-02, -9.9996e-01,\n",
              "         -1.1019e-01,  9.9894e-01, -2.2234e-01, -9.0612e-01,  8.1833e-02,\n",
              "         -9.9910e-01, -9.9634e-01,  5.5382e-03, -4.8527e-02,  4.4682e-02,\n",
              "          2.3752e-03,  1.0823e-01, -2.2271e-01, -9.9876e-01, -9.9961e-01,\n",
              "         -9.9992e-01,  1.0910e-01,  2.7751e-01,  9.9976e-01,  9.8732e-01,\n",
              "          2.8930e-04, -3.5506e-04,  9.9914e-01,  9.9990e-01, -6.5657e-01,\n",
              "          1.2706e-01,  5.5134e-02,  9.9988e-01, -3.0163e-01, -2.5254e-01,\n",
              "         -9.9980e-01, -9.9951e-01,  8.6824e-02, -1.1400e-02, -8.9851e-02,\n",
              "         -3.2682e-01, -6.3419e-02,  9.4209e-01, -8.2886e-02, -1.3490e-01,\n",
              "          9.9984e-01, -9.4117e-03, -1.5780e-01, -4.4499e-02,  9.9970e-01,\n",
              "          3.1439e-02,  4.4576e-02, -5.5358e-02,  9.8009e-01, -1.0950e-02,\n",
              "          1.0718e-01, -9.9954e-01, -7.7036e-02,  5.0580e-01, -2.5305e-02,\n",
              "          1.7546e-01, -4.5442e-02,  3.4387e-02,  1.2372e-01,  1.0695e-01,\n",
              "          2.3440e-01,  6.0075e-01,  3.4668e-02,  8.1989e-01,  3.7472e-02,\n",
              "         -9.9750e-01, -1.3303e-02,  6.2826e-02]], grad_fn=<TanhBackward0>), hidden_states=None, past_key_values=None, attentions=None, cross_attentions=None)"
            ]
          },
          "metadata": {},
          "execution_count": 9
        }
      ]
    },
    {
      "cell_type": "code",
      "source": [
        "import torch\n",
        "import torch.nn as nn"
      ],
      "metadata": {
        "id": "yEF4PBeib5RP"
      },
      "execution_count": 10,
      "outputs": []
    },
    {
      "cell_type": "code",
      "source": [
        "MASSIVE_INTENTS = ['datetime_query', 'iot_hue_lightchange', 'transport_ticket', 'takeaway_query', 'qa_stock',\n",
        "            'general_greet', 'recommendation_events', 'music_dislikeness', 'iot_wemo_off', 'cooking_recipe',\n",
        "            'qa_currency', 'transport_traffic', 'general_quirky', 'weather_query', 'audio_volume_up',\n",
        "            'email_addcontact', 'takeaway_order', 'email_querycontact', 'iot_hue_lightup',\n",
        "            'recommendation_locations', 'play_audiobook', 'lists_createoradd', 'news_query',\n",
        "            'alarm_query', 'iot_wemo_on', 'general_joke', 'qa_definition', 'social_query',\n",
        "            'music_settings', 'audio_volume_other', 'calendar_remove', 'iot_hue_lightdim',\n",
        "            'calendar_query', 'email_sendemail', 'iot_cleaning', 'audio_volume_down',\n",
        "            'play_radio', 'cooking_query', 'datetime_convert', 'qa_maths', 'iot_hue_lightoff',\n",
        "            'iot_hue_lighton', 'transport_query', 'music_likeness', 'email_query', 'play_music',\n",
        "            'audio_volume_mute', 'social_post', 'alarm_set', 'qa_factoid', 'calendar_set',\n",
        "            'play_game', 'alarm_remove', 'lists_remove', 'transport_taxi', 'recommendation_movies',\n",
        "            'iot_coffee', 'music_query', 'play_podcasts', 'lists_query']"
      ],
      "metadata": {
        "id": "xfUOKUCChrni"
      },
      "execution_count": 11,
      "outputs": []
    },
    {
      "cell_type": "code",
      "source": [
        "linear_layer = nn.Linear(model.config.hidden_size, len(MASSIVE_INTENTS))"
      ],
      "metadata": {
        "id": "FjIapHIWiAte"
      },
      "execution_count": 12,
      "outputs": []
    },
    {
      "cell_type": "code",
      "source": [
        "logits = linear_layer(output.pooler_output)"
      ],
      "metadata": {
        "id": "k_KPcWu4iGkp"
      },
      "execution_count": 13,
      "outputs": []
    },
    {
      "cell_type": "code",
      "source": [
        "logits"
      ],
      "metadata": {
        "colab": {
          "base_uri": "https://localhost:8080/"
        },
        "id": "S10703RBiRdv",
        "outputId": "140fc65d-38e9-4a57-8b0c-af06cc72d024"
      },
      "execution_count": 14,
      "outputs": [
        {
          "output_type": "execute_result",
          "data": {
            "text/plain": [
              "tensor([[ 0.2139,  0.5687, -0.5456,  0.0432, -0.4006,  0.0620,  0.1333, -0.0575,\n",
              "          0.5194, -0.0792,  0.6794,  0.1729,  0.1662, -0.4371, -0.1340, -0.2299,\n",
              "          0.5505, -0.4824,  0.0124,  0.8338,  0.2838,  0.4190,  0.3075,  0.1293,\n",
              "         -0.3565,  0.1452, -0.5870, -0.2914, -0.8165, -0.0420,  0.5777,  0.2592,\n",
              "          0.2858, -0.1924,  0.6005, -0.1472,  0.9581,  0.1958,  0.6944, -0.1494,\n",
              "         -0.0097,  0.1752, -0.2053,  0.5870, -0.8055,  0.3106, -0.4703,  0.7061,\n",
              "         -0.1790,  0.1375,  0.3922, -0.4006, -0.3386, -0.1184, -0.6119,  0.2734,\n",
              "          0.1850, -0.3758,  0.0851,  0.0999]], grad_fn=<AddmmBackward0>)"
            ]
          },
          "metadata": {},
          "execution_count": 14
        }
      ]
    },
    {
      "cell_type": "code",
      "source": [
        "probabilities = torch.softmax(logits, dim=-1)"
      ],
      "metadata": {
        "id": "x-UZJRNwiV4C"
      },
      "execution_count": 15,
      "outputs": []
    },
    {
      "cell_type": "code",
      "source": [
        "probabilities"
      ],
      "metadata": {
        "colab": {
          "base_uri": "https://localhost:8080/"
        },
        "id": "RGMdknlciWsp",
        "outputId": "a9a9ff96-972e-4e11-bf2a-e25a3a9b10b0"
      },
      "execution_count": 16,
      "outputs": [
        {
          "output_type": "execute_result",
          "data": {
            "text/plain": [
              "tensor([[0.0180, 0.0257, 0.0084, 0.0152, 0.0097, 0.0155, 0.0166, 0.0137, 0.0244,\n",
              "         0.0134, 0.0287, 0.0173, 0.0172, 0.0094, 0.0127, 0.0115, 0.0252, 0.0090,\n",
              "         0.0147, 0.0334, 0.0193, 0.0221, 0.0198, 0.0165, 0.0102, 0.0168, 0.0081,\n",
              "         0.0109, 0.0064, 0.0139, 0.0259, 0.0188, 0.0193, 0.0120, 0.0265, 0.0125,\n",
              "         0.0379, 0.0177, 0.0291, 0.0125, 0.0144, 0.0173, 0.0118, 0.0261, 0.0065,\n",
              "         0.0198, 0.0091, 0.0294, 0.0121, 0.0167, 0.0215, 0.0097, 0.0104, 0.0129,\n",
              "         0.0079, 0.0191, 0.0175, 0.0100, 0.0158, 0.0161]],\n",
              "       grad_fn=<SoftmaxBackward0>)"
            ]
          },
          "metadata": {},
          "execution_count": 16
        }
      ]
    },
    {
      "cell_type": "code",
      "source": [
        "predicted_intent_index = torch.argmax(probabilities, dim=-1)"
      ],
      "metadata": {
        "id": "XK94nLacigL1"
      },
      "execution_count": 17,
      "outputs": []
    },
    {
      "cell_type": "code",
      "source": [
        "predicted_intent_index"
      ],
      "metadata": {
        "colab": {
          "base_uri": "https://localhost:8080/"
        },
        "id": "EXQAZG8Iii1r",
        "outputId": "8be6314b-a852-4215-a4fc-ae44b3bf20c5"
      },
      "execution_count": 18,
      "outputs": [
        {
          "output_type": "execute_result",
          "data": {
            "text/plain": [
              "tensor([36])"
            ]
          },
          "metadata": {},
          "execution_count": 18
        }
      ]
    },
    {
      "cell_type": "code",
      "source": [
        "predicted_intent = MASSIVE_INTENTS[predicted_intent_index]"
      ],
      "metadata": {
        "id": "QD-7wpSniuXj"
      },
      "execution_count": 19,
      "outputs": []
    },
    {
      "cell_type": "code",
      "source": [
        "predicted_intent"
      ],
      "metadata": {
        "colab": {
          "base_uri": "https://localhost:8080/",
          "height": 35
        },
        "id": "RUBuF0u7i7sm",
        "outputId": "cce29d66-b15d-4bc2-9c6c-d42087474cb8"
      },
      "execution_count": 20,
      "outputs": [
        {
          "output_type": "execute_result",
          "data": {
            "text/plain": [
              "'play_radio'"
            ],
            "application/vnd.google.colaboratory.intrinsic+json": {
              "type": "string"
            }
          },
          "metadata": {},
          "execution_count": 20
        }
      ]
    },
    {
      "cell_type": "code",
      "source": [
        "output.pooler_output.shape"
      ],
      "metadata": {
        "colab": {
          "base_uri": "https://localhost:8080/"
        },
        "id": "RIdk_zTFjfJ_",
        "outputId": "efae53b2-2079-4c05-e459-91aebf6477c2"
      },
      "execution_count": 21,
      "outputs": [
        {
          "output_type": "execute_result",
          "data": {
            "text/plain": [
              "torch.Size([1, 768])"
            ]
          },
          "metadata": {},
          "execution_count": 21
        }
      ]
    },
    {
      "cell_type": "code",
      "source": [
        "from torch.utils.data import Dataset, DataLoader, Subset\n",
        "\n",
        "class MassiveDataset(Dataset):\n",
        "    def __init__(self, dataset):\n",
        "        self.dataset = dataset\n",
        "\n",
        "    def __len__(self):\n",
        "        return len(self.dataset)\n",
        "\n",
        "    def __getitem__(self, index):\n",
        "        example = self.dataset[index]\n",
        "        return example[\"utt\"], example[\"intent\"]\n",
        "\n",
        "train_dataloader = DataLoader(Subset(MassiveDataset(train_dataset), range(100)), batch_size=32, shuffle=True)\n",
        "val_dataloader = DataLoader(Subset(MassiveDataset(val_dataset), range(50)), batch_size=32, shuffle=True)\n",
        "test_dataloader = DataLoader(Subset(MassiveDataset(test_dataset), range(50)), batch_size=32, shuffle=True)"
      ],
      "metadata": {
        "id": "k8VcUceVkVfw"
      },
      "execution_count": 56,
      "outputs": []
    },
    {
      "cell_type": "code",
      "source": [
        "import torch.nn.functional as F\n",
        "\n",
        "class MASSIVEIntentClassifier(nn.Module):\n",
        "  def __init__(self):\n",
        "        super().__init__()\n",
        "        self.linear = nn.Linear(model.config.hidden_size, len(MASSIVE_INTENTS))\n",
        "\n",
        "  def forward(self, x):\n",
        "      x = self.linear(x)\n",
        "      return F.softmax(x)"
      ],
      "metadata": {
        "id": "wfF_S9WIlGhz"
      },
      "execution_count": 49,
      "outputs": []
    },
    {
      "cell_type": "code",
      "source": [
        "MASSIVEIntentClassifier()(output.pooler_output)"
      ],
      "metadata": {
        "colab": {
          "base_uri": "https://localhost:8080/"
        },
        "id": "GUIx2OUnmOm9",
        "outputId": "590edc5d-27f4-4980-bedc-2e8f712c2cbb"
      },
      "execution_count": 24,
      "outputs": [
        {
          "output_type": "stream",
          "name": "stderr",
          "text": [
            "<ipython-input-23-46b871e21d0e>:10: UserWarning: Implicit dimension choice for softmax has been deprecated. Change the call to include dim=X as an argument.\n",
            "  prob = F.softmax(x)\n"
          ]
        },
        {
          "output_type": "execute_result",
          "data": {
            "text/plain": [
              "tensor([37])"
            ]
          },
          "metadata": {},
          "execution_count": 24
        }
      ]
    },
    {
      "cell_type": "code",
      "source": [
        "from sklearn.metrics import accuracy_score"
      ],
      "metadata": {
        "id": "2v-3t4z2pu0P"
      },
      "execution_count": 25,
      "outputs": []
    },
    {
      "cell_type": "code",
      "source": [
        "next(iter(train_dataloader))"
      ],
      "metadata": {
        "colab": {
          "base_uri": "https://localhost:8080/"
        },
        "id": "0NFyPJgCqmJ-",
        "outputId": "4ef32cd3-5605-4604-d7be-395063308192"
      },
      "execution_count": 57,
      "outputs": [
        {
          "output_type": "execute_result",
          "data": {
            "text/plain": [
              "[('jakie są najnowsze wiadomości tvn',\n",
              "  'co nowego w wiadomościach tvn',\n",
              "  'piosenka którą grasz jest niesamowita',\n",
              "  'co dzisiaj dzieje się w piłce nożnej',\n",
              "  'co to za album z którego pochodzi ta muzyka',\n",
              "  'odtwórz daft punk',\n",
              "  'czas spać olly',\n",
              "  'proszę zagraj moją ulubioną muzykę',\n",
              "  'wystartują moją playlistę jazz',\n",
              "  'odtwórz moją playlistę gatunku jazz',\n",
              "  'pokaż mi godzinę w moskwie',\n",
              "  'pauza przez dziesięć sekund',\n",
              "  'nastaw alarm na za dwie godziny od teraz',\n",
              "  'znajdź tajskie jedzenie na wynos w pobliżu rynku',\n",
              "  'przyciemnij światła w kuchni olly',\n",
              "  'wymień mi najwyżej oceniane opcje chińskiego jedzenia z dostawą',\n",
              "  'odkurz dom olly',\n",
              "  'przetasuj tę playlistę',\n",
              "  'włącz robota sprzątającego',\n",
              "  'olly zatrzymaj na dziesięć sekund',\n",
              "  'olly rozśmiesz mnie',\n",
              "  'wyłącz światło w łazience',\n",
              "  'hej włącz robot sprzątający',\n",
              "  'czy mogę zamówić obiad na wynos z bombardino',\n",
              "  'olly przyciemnij światła w korytarzu',\n",
              "  'jaka jest pogoda na ten tydzień',\n",
              "  'odkurz dom',\n",
              "  'nastaw alarm na ósmą w każdy dzień powszedni',\n",
              "  'jak długo mam czekać na dostawę',\n",
              "  'ja lubię to',\n",
              "  'proszę podkręć światła do maksimum',\n",
              "  'zatrzymaj alarm o siódmej rano'),\n",
              " tensor([22, 22, 43, 22, 57, 45, 40, 45, 45, 45,  0, 46, 48,  3, 31,  3, 34, 28,\n",
              "         34, 46, 25, 40, 34, 16, 31, 13, 34, 48,  3, 43, 18, 52])]"
            ]
          },
          "metadata": {},
          "execution_count": 57
        }
      ]
    },
    {
      "cell_type": "code",
      "source": [
        "from tqdm import tqdm\n",
        "\n",
        "number_of_epochs = 50\n",
        "\n",
        "intent_clf = MASSIVEIntentClassifier()\n",
        "intent_clf = intent_clf.cuda()\n",
        "loss_fn = nn.CrossEntropyLoss()\n",
        "\n",
        "opt = torch.optim.Adam(\n",
        "  intent_clf.parameters(),\n",
        "  lr=3e-4,\n",
        ")\n",
        "epoch_progress = tqdm(list(range(number_of_epochs)))\n",
        "\n",
        "history = []\n",
        "for i in epoch_progress:\n",
        "    train_loss = 0\n",
        "    y_train_predicted = []\n",
        "    y_train_true = []\n",
        "    intent_clf.train()\n",
        "    for iteration, (X_train, y_train) in enumerate(train_dataloader):\n",
        "        y_train = y_train.cuda()\n",
        "        opt.zero_grad()\n",
        "        output = model(\n",
        "            **tokenizer.batch_encode_plus(\n",
        "                X_train,\n",
        "                padding=\"longest\",\n",
        "                add_special_tokens=True,\n",
        "                return_tensors=\"pt\",\n",
        "            )\n",
        "        )\n",
        "        pooler_output = output.pooler_output\n",
        "        pooler_output = pooler_output.cuda()\n",
        "        y_pred = intent_clf(pooler_output)\n",
        "        loss = loss_fn(y_pred, y_train)\n",
        "        loss.backward()\n",
        "        opt.step()\n",
        "        train_loss += loss.item()\n",
        "        y_train_predicted.extend(torch.argmax(y_pred, dim=-1).cpu().numpy())\n",
        "        y_train_true.extend(y_train.cpu().numpy())\n",
        "\n",
        "\n",
        "    val_loss = 0\n",
        "    y_predicted = []\n",
        "    y_true = []\n",
        "\n",
        "    intent_clf.eval()\n",
        "    with torch.no_grad():\n",
        "        for iteration, (X_val, y_val) in enumerate(val_dataloader):\n",
        "            y_val = y_val.cuda()\n",
        "            output = model(\n",
        "                **tokenizer.batch_encode_plus(\n",
        "                    X_val,\n",
        "                    padding=\"longest\",\n",
        "                    add_special_tokens=True,\n",
        "                    return_tensors=\"pt\",\n",
        "                )\n",
        "            )\n",
        "            pooler_output = output.pooler_output\n",
        "            pooler_output = pooler_output.cuda()\n",
        "            y_pred = intent_clf(pooler_output)\n",
        "            loss = loss_fn(y_pred, y_val)\n",
        "            val_loss += loss.item()\n",
        "            y_true.extend(y_val.cpu().numpy())\n",
        "            y_predicted.extend(torch.argmax(y_pred, dim=-1).cpu().numpy())\n",
        "    train_acc = accuracy_score(y_train_true, y_train_predicted)\n",
        "    val_acc = accuracy_score(y_true, y_predicted)\n",
        "    epoch_progress.set_description(f'#Epoch: {i}, train loss: {train_loss:.2f}, train_acc: {train_acc:.2f}, val loss: {val_loss:.2f}, val_acc: {val_acc:.2f}')\n",
        "    history.append({\"e\": i, \"train_acc\": train_acc, \"val_acc\": val_acc})"
      ],
      "metadata": {
        "colab": {
          "base_uri": "https://localhost:8080/",
          "height": 1000
        },
        "id": "j5w0cUkKmlTw",
        "outputId": "d3a6ef30-25b7-490a-f7e2-9cbfab861e39"
      },
      "execution_count": 59,
      "outputs": [
        {
          "output_type": "stream",
          "name": "stderr",
          "text": [
            "\r  0%|          | 0/50 [00:00<?, ?it/s]<ipython-input-49-eb3975bb5354>:10: UserWarning: Implicit dimension choice for softmax has been deprecated. Change the call to include dim=X as an argument.\n",
            "  return F.softmax(x)\n",
            "#Epoch: 0, train loss: 16.37, train_acc: 0.04, val loss: 8.18, val_acc: 0.04:   2%|▏         | 1/50 [00:18<15:07, 18.52s/it]<ipython-input-49-eb3975bb5354>:10: UserWarning: Implicit dimension choice for softmax has been deprecated. Change the call to include dim=X as an argument.\n",
            "  return F.softmax(x)\n",
            "#Epoch: 1, train loss: 16.34, train_acc: 0.05, val loss: 8.17, val_acc: 0.04:   4%|▍         | 2/50 [00:31<12:22, 15.47s/it]<ipython-input-49-eb3975bb5354>:10: UserWarning: Implicit dimension choice for softmax has been deprecated. Change the call to include dim=X as an argument.\n",
            "  return F.softmax(x)\n",
            "#Epoch: 2, train loss: 16.30, train_acc: 0.05, val loss: 8.16, val_acc: 0.04:   6%|▌         | 3/50 [00:46<11:42, 14.95s/it]<ipython-input-49-eb3975bb5354>:10: UserWarning: Implicit dimension choice for softmax has been deprecated. Change the call to include dim=X as an argument.\n",
            "  return F.softmax(x)\n",
            "#Epoch: 3, train loss: 16.26, train_acc: 0.05, val loss: 8.15, val_acc: 0.04:   8%|▊         | 4/50 [01:00<11:09, 14.56s/it]<ipython-input-49-eb3975bb5354>:10: UserWarning: Implicit dimension choice for softmax has been deprecated. Change the call to include dim=X as an argument.\n",
            "  return F.softmax(x)\n",
            "#Epoch: 4, train loss: 16.21, train_acc: 0.10, val loss: 8.15, val_acc: 0.08:  10%|█         | 5/50 [01:13<10:36, 14.15s/it]<ipython-input-49-eb3975bb5354>:10: UserWarning: Implicit dimension choice for softmax has been deprecated. Change the call to include dim=X as an argument.\n",
            "  return F.softmax(x)\n",
            "#Epoch: 5, train loss: 16.17, train_acc: 0.12, val loss: 8.13, val_acc: 0.06:  12%|█▏        | 6/50 [01:27<10:14, 13.97s/it]<ipython-input-49-eb3975bb5354>:10: UserWarning: Implicit dimension choice for softmax has been deprecated. Change the call to include dim=X as an argument.\n",
            "  return F.softmax(x)\n",
            "#Epoch: 6, train loss: 16.13, train_acc: 0.10, val loss: 8.13, val_acc: 0.06:  14%|█▍        | 7/50 [01:41<10:02, 14.02s/it]<ipython-input-49-eb3975bb5354>:10: UserWarning: Implicit dimension choice for softmax has been deprecated. Change the call to include dim=X as an argument.\n",
            "  return F.softmax(x)\n",
            "#Epoch: 7, train loss: 16.11, train_acc: 0.10, val loss: 8.12, val_acc: 0.06:  16%|█▌        | 8/50 [01:55<09:48, 14.02s/it]<ipython-input-49-eb3975bb5354>:10: UserWarning: Implicit dimension choice for softmax has been deprecated. Change the call to include dim=X as an argument.\n",
            "  return F.softmax(x)\n",
            "#Epoch: 8, train loss: 16.11, train_acc: 0.10, val loss: 8.10, val_acc: 0.06:  18%|█▊        | 9/50 [02:08<09:29, 13.88s/it]<ipython-input-49-eb3975bb5354>:10: UserWarning: Implicit dimension choice for softmax has been deprecated. Change the call to include dim=X as an argument.\n",
            "  return F.softmax(x)\n",
            "#Epoch: 9, train loss: 16.14, train_acc: 0.10, val loss: 8.07, val_acc: 0.06:  20%|██        | 10/50 [02:23<09:24, 14.11s/it]<ipython-input-49-eb3975bb5354>:10: UserWarning: Implicit dimension choice for softmax has been deprecated. Change the call to include dim=X as an argument.\n",
            "  return F.softmax(x)\n",
            "#Epoch: 10, train loss: 16.11, train_acc: 0.10, val loss: 8.06, val_acc: 0.06:  22%|██▏       | 11/50 [02:51<11:50, 18.23s/it]<ipython-input-49-eb3975bb5354>:10: UserWarning: Implicit dimension choice for softmax has been deprecated. Change the call to include dim=X as an argument.\n",
            "  return F.softmax(x)\n",
            "#Epoch: 11, train loss: 16.07, train_acc: 0.10, val loss: 8.06, val_acc: 0.10:  24%|██▍       | 12/50 [03:20<13:44, 21.69s/it]<ipython-input-49-eb3975bb5354>:10: UserWarning: Implicit dimension choice for softmax has been deprecated. Change the call to include dim=X as an argument.\n",
            "  return F.softmax(x)\n",
            "#Epoch: 12, train loss: 16.07, train_acc: 0.10, val loss: 8.04, val_acc: 0.14:  26%|██▌       | 13/50 [03:49<14:42, 23.84s/it]<ipython-input-49-eb3975bb5354>:10: UserWarning: Implicit dimension choice for softmax has been deprecated. Change the call to include dim=X as an argument.\n",
            "  return F.softmax(x)\n",
            "#Epoch: 13, train loss: 16.10, train_acc: 0.13, val loss: 8.06, val_acc: 0.18:  28%|██▊       | 14/50 [04:03<12:28, 20.79s/it]<ipython-input-49-eb3975bb5354>:10: UserWarning: Implicit dimension choice for softmax has been deprecated. Change the call to include dim=X as an argument.\n",
            "  return F.softmax(x)\n",
            "#Epoch: 14, train loss: 16.04, train_acc: 0.19, val loss: 8.04, val_acc: 0.20:  30%|███       | 15/50 [04:17<10:59, 18.84s/it]<ipython-input-49-eb3975bb5354>:10: UserWarning: Implicit dimension choice for softmax has been deprecated. Change the call to include dim=X as an argument.\n",
            "  return F.softmax(x)\n",
            "#Epoch: 15, train loss: 16.03, train_acc: 0.23, val loss: 8.02, val_acc: 0.20:  32%|███▏      | 16/50 [04:35<10:27, 18.45s/it]<ipython-input-49-eb3975bb5354>:10: UserWarning: Implicit dimension choice for softmax has been deprecated. Change the call to include dim=X as an argument.\n",
            "  return F.softmax(x)\n",
            "#Epoch: 16, train loss: 16.04, train_acc: 0.21, val loss: 8.04, val_acc: 0.22:  34%|███▍      | 17/50 [04:59<11:08, 20.25s/it]<ipython-input-49-eb3975bb5354>:10: UserWarning: Implicit dimension choice for softmax has been deprecated. Change the call to include dim=X as an argument.\n",
            "  return F.softmax(x)\n",
            "#Epoch: 17, train loss: 16.02, train_acc: 0.18, val loss: 8.02, val_acc: 0.22:  36%|███▌      | 18/50 [05:14<09:59, 18.75s/it]<ipython-input-49-eb3975bb5354>:10: UserWarning: Implicit dimension choice for softmax has been deprecated. Change the call to include dim=X as an argument.\n",
            "  return F.softmax(x)\n",
            "#Epoch: 18, train loss: 15.98, train_acc: 0.18, val loss: 8.00, val_acc: 0.22:  38%|███▊      | 19/50 [05:28<08:51, 17.16s/it]<ipython-input-49-eb3975bb5354>:10: UserWarning: Implicit dimension choice for softmax has been deprecated. Change the call to include dim=X as an argument.\n",
            "  return F.softmax(x)\n",
            "#Epoch: 19, train loss: 15.97, train_acc: 0.19, val loss: 8.00, val_acc: 0.22:  40%|████      | 20/50 [05:42<08:06, 16.20s/it]<ipython-input-49-eb3975bb5354>:10: UserWarning: Implicit dimension choice for softmax has been deprecated. Change the call to include dim=X as an argument.\n",
            "  return F.softmax(x)\n",
            "#Epoch: 20, train loss: 16.06, train_acc: 0.20, val loss: 7.97, val_acc: 0.22:  42%|████▏     | 21/50 [05:55<07:25, 15.36s/it]<ipython-input-49-eb3975bb5354>:10: UserWarning: Implicit dimension choice for softmax has been deprecated. Change the call to include dim=X as an argument.\n",
            "  return F.softmax(x)\n",
            "#Epoch: 21, train loss: 15.92, train_acc: 0.16, val loss: 7.98, val_acc: 0.22:  44%|████▍     | 22/50 [06:12<07:24, 15.88s/it]<ipython-input-49-eb3975bb5354>:10: UserWarning: Implicit dimension choice for softmax has been deprecated. Change the call to include dim=X as an argument.\n",
            "  return F.softmax(x)\n",
            "#Epoch: 22, train loss: 15.98, train_acc: 0.13, val loss: 7.96, val_acc: 0.22:  46%|████▌     | 23/50 [06:27<06:58, 15.49s/it]<ipython-input-49-eb3975bb5354>:10: UserWarning: Implicit dimension choice for softmax has been deprecated. Change the call to include dim=X as an argument.\n",
            "  return F.softmax(x)\n",
            "#Epoch: 23, train loss: 15.91, train_acc: 0.13, val loss: 7.97, val_acc: 0.22:  48%|████▊     | 24/50 [06:41<06:29, 14.96s/it]<ipython-input-49-eb3975bb5354>:10: UserWarning: Implicit dimension choice for softmax has been deprecated. Change the call to include dim=X as an argument.\n",
            "  return F.softmax(x)\n",
            "#Epoch: 24, train loss: 15.84, train_acc: 0.14, val loss: 7.93, val_acc: 0.22:  50%|█████     | 25/50 [06:55<06:06, 14.67s/it]<ipython-input-49-eb3975bb5354>:10: UserWarning: Implicit dimension choice for softmax has been deprecated. Change the call to include dim=X as an argument.\n",
            "  return F.softmax(x)\n",
            "#Epoch: 25, train loss: 15.97, train_acc: 0.14, val loss: 7.93, val_acc: 0.22:  52%|█████▏    | 26/50 [07:08<05:46, 14.45s/it]<ipython-input-49-eb3975bb5354>:10: UserWarning: Implicit dimension choice for softmax has been deprecated. Change the call to include dim=X as an argument.\n",
            "  return F.softmax(x)\n",
            "#Epoch: 26, train loss: 15.94, train_acc: 0.15, val loss: 7.92, val_acc: 0.22:  54%|█████▍    | 27/50 [07:22<05:26, 14.20s/it]<ipython-input-49-eb3975bb5354>:10: UserWarning: Implicit dimension choice for softmax has been deprecated. Change the call to include dim=X as an argument.\n",
            "  return F.softmax(x)\n",
            "#Epoch: 27, train loss: 15.93, train_acc: 0.18, val loss: 7.94, val_acc: 0.22:  56%|█████▌    | 28/50 [07:36<05:10, 14.12s/it]<ipython-input-49-eb3975bb5354>:10: UserWarning: Implicit dimension choice for softmax has been deprecated. Change the call to include dim=X as an argument.\n",
            "  return F.softmax(x)\n",
            "#Epoch: 28, train loss: 15.95, train_acc: 0.19, val loss: 7.95, val_acc: 0.22:  58%|█████▊    | 29/50 [07:49<04:52, 13.93s/it]<ipython-input-49-eb3975bb5354>:10: UserWarning: Implicit dimension choice for softmax has been deprecated. Change the call to include dim=X as an argument.\n",
            "  return F.softmax(x)\n",
            "#Epoch: 29, train loss: 15.87, train_acc: 0.19, val loss: 7.92, val_acc: 0.22:  60%|██████    | 30/50 [08:03<04:36, 13.80s/it]<ipython-input-49-eb3975bb5354>:10: UserWarning: Implicit dimension choice for softmax has been deprecated. Change the call to include dim=X as an argument.\n",
            "  return F.softmax(x)\n",
            "#Epoch: 30, train loss: 15.88, train_acc: 0.22, val loss: 7.96, val_acc: 0.22:  62%|██████▏   | 31/50 [08:17<04:23, 13.85s/it]<ipython-input-49-eb3975bb5354>:10: UserWarning: Implicit dimension choice for softmax has been deprecated. Change the call to include dim=X as an argument.\n",
            "  return F.softmax(x)\n",
            "#Epoch: 31, train loss: 15.91, train_acc: 0.26, val loss: 7.95, val_acc: 0.20:  64%|██████▍   | 32/50 [08:31<04:07, 13.78s/it]<ipython-input-49-eb3975bb5354>:10: UserWarning: Implicit dimension choice for softmax has been deprecated. Change the call to include dim=X as an argument.\n",
            "  return F.softmax(x)\n",
            "#Epoch: 32, train loss: 15.87, train_acc: 0.27, val loss: 7.98, val_acc: 0.18:  66%|██████▌   | 33/50 [08:44<03:52, 13.71s/it]<ipython-input-49-eb3975bb5354>:10: UserWarning: Implicit dimension choice for softmax has been deprecated. Change the call to include dim=X as an argument.\n",
            "  return F.softmax(x)\n",
            "#Epoch: 32, train loss: 15.87, train_acc: 0.27, val loss: 7.98, val_acc: 0.18:  66%|██████▌   | 33/50 [08:51<04:33, 16.09s/it]\n"
          ]
        },
        {
          "output_type": "error",
          "ename": "KeyboardInterrupt",
          "evalue": "ignored",
          "traceback": [
            "\u001b[0;31m---------------------------------------------------------------------------\u001b[0m",
            "\u001b[0;31mKeyboardInterrupt\u001b[0m                         Traceback (most recent call last)",
            "\u001b[0;32m<ipython-input-59-78bc0f29478b>\u001b[0m in \u001b[0;36m<cell line: 16>\u001b[0;34m()\u001b[0m\n\u001b[1;32m     34\u001b[0m         \u001b[0my_pred\u001b[0m \u001b[0;34m=\u001b[0m \u001b[0mintent_clf\u001b[0m\u001b[0;34m(\u001b[0m\u001b[0mpooler_output\u001b[0m\u001b[0;34m)\u001b[0m\u001b[0;34m\u001b[0m\u001b[0;34m\u001b[0m\u001b[0m\n\u001b[1;32m     35\u001b[0m         \u001b[0mloss\u001b[0m \u001b[0;34m=\u001b[0m \u001b[0mloss_fn\u001b[0m\u001b[0;34m(\u001b[0m\u001b[0my_pred\u001b[0m\u001b[0;34m,\u001b[0m \u001b[0my_train\u001b[0m\u001b[0;34m)\u001b[0m\u001b[0;34m\u001b[0m\u001b[0;34m\u001b[0m\u001b[0m\n\u001b[0;32m---> 36\u001b[0;31m         \u001b[0mloss\u001b[0m\u001b[0;34m.\u001b[0m\u001b[0mbackward\u001b[0m\u001b[0;34m(\u001b[0m\u001b[0;34m)\u001b[0m\u001b[0;34m\u001b[0m\u001b[0;34m\u001b[0m\u001b[0m\n\u001b[0m\u001b[1;32m     37\u001b[0m         \u001b[0mopt\u001b[0m\u001b[0;34m.\u001b[0m\u001b[0mstep\u001b[0m\u001b[0;34m(\u001b[0m\u001b[0;34m)\u001b[0m\u001b[0;34m\u001b[0m\u001b[0;34m\u001b[0m\u001b[0m\n\u001b[1;32m     38\u001b[0m         \u001b[0mtrain_loss\u001b[0m \u001b[0;34m+=\u001b[0m \u001b[0mloss\u001b[0m\u001b[0;34m.\u001b[0m\u001b[0mitem\u001b[0m\u001b[0;34m(\u001b[0m\u001b[0;34m)\u001b[0m\u001b[0;34m\u001b[0m\u001b[0;34m\u001b[0m\u001b[0m\n",
            "\u001b[0;32m/usr/local/lib/python3.10/dist-packages/torch/_tensor.py\u001b[0m in \u001b[0;36mbackward\u001b[0;34m(self, gradient, retain_graph, create_graph, inputs)\u001b[0m\n\u001b[1;32m    485\u001b[0m                 \u001b[0minputs\u001b[0m\u001b[0;34m=\u001b[0m\u001b[0minputs\u001b[0m\u001b[0;34m,\u001b[0m\u001b[0;34m\u001b[0m\u001b[0;34m\u001b[0m\u001b[0m\n\u001b[1;32m    486\u001b[0m             )\n\u001b[0;32m--> 487\u001b[0;31m         torch.autograd.backward(\n\u001b[0m\u001b[1;32m    488\u001b[0m             \u001b[0mself\u001b[0m\u001b[0;34m,\u001b[0m \u001b[0mgradient\u001b[0m\u001b[0;34m,\u001b[0m \u001b[0mretain_graph\u001b[0m\u001b[0;34m,\u001b[0m \u001b[0mcreate_graph\u001b[0m\u001b[0;34m,\u001b[0m \u001b[0minputs\u001b[0m\u001b[0;34m=\u001b[0m\u001b[0minputs\u001b[0m\u001b[0;34m\u001b[0m\u001b[0;34m\u001b[0m\u001b[0m\n\u001b[1;32m    489\u001b[0m         )\n",
            "\u001b[0;32m/usr/local/lib/python3.10/dist-packages/torch/autograd/__init__.py\u001b[0m in \u001b[0;36mbackward\u001b[0;34m(tensors, grad_tensors, retain_graph, create_graph, grad_variables, inputs)\u001b[0m\n\u001b[1;32m    198\u001b[0m     \u001b[0;31m# some Python versions print out the first line of a multi-line function\u001b[0m\u001b[0;34m\u001b[0m\u001b[0;34m\u001b[0m\u001b[0m\n\u001b[1;32m    199\u001b[0m     \u001b[0;31m# calls in the traceback and some print out the last line\u001b[0m\u001b[0;34m\u001b[0m\u001b[0;34m\u001b[0m\u001b[0m\n\u001b[0;32m--> 200\u001b[0;31m     Variable._execution_engine.run_backward(  # Calls into the C++ engine to run the backward pass\n\u001b[0m\u001b[1;32m    201\u001b[0m         \u001b[0mtensors\u001b[0m\u001b[0;34m,\u001b[0m \u001b[0mgrad_tensors_\u001b[0m\u001b[0;34m,\u001b[0m \u001b[0mretain_graph\u001b[0m\u001b[0;34m,\u001b[0m \u001b[0mcreate_graph\u001b[0m\u001b[0;34m,\u001b[0m \u001b[0minputs\u001b[0m\u001b[0;34m,\u001b[0m\u001b[0;34m\u001b[0m\u001b[0;34m\u001b[0m\u001b[0m\n\u001b[1;32m    202\u001b[0m         allow_unreachable=True, accumulate_grad=True)  # Calls into the C++ engine to run the backward pass\n",
            "\u001b[0;31mKeyboardInterrupt\u001b[0m: "
          ]
        }
      ]
    }
  ]
}