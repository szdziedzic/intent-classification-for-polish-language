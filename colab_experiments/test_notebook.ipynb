{
 "cells": [
  {
   "cell_type": "code",
   "execution_count": 6,
   "metadata": {},
   "outputs": [],
   "source": [
    "import sys\n",
    "import os\n",
    "sys.path.append('..')"
   ]
  },
  {
   "cell_type": "code",
   "execution_count": 4,
   "metadata": {},
   "outputs": [],
   "source": [
    "from herbert import HerbertExperiment"
   ]
  },
  {
   "cell_type": "code",
   "execution_count": 2,
   "metadata": {},
   "outputs": [
    {
     "name": "stderr",
     "output_type": "stream",
     "text": [
      "c:\\Users\\szdzi\\miniconda3\\envs\\mldd23\\lib\\site-packages\\neptune\\common\\warnings.py:62: NeptuneDeprecationWarning: You're importing the Neptune client library via the deprecated `neptune.new` module, which will be removed in a future release. Import directly from `neptune` instead.\n",
      "  warnings.warn(\n"
     ]
    }
   ],
   "source": [
    "import neptune.new as neptune"
   ]
  },
  {
   "cell_type": "code",
   "execution_count": 7,
   "metadata": {},
   "outputs": [
    {
     "name": "stdout",
     "output_type": "stream",
     "text": [
      "https://app.neptune.ai/szdziedzic/few-shot-bhml-interval/e/FEW-11\n"
     ]
    }
   ],
   "source": [
    "neptune_run = None\n",
    "if os.environ[\"NEPTUNE_API_TOKEN\"] and os.environ[\"NEPTUNE_PROJECT\"]:\n",
    "    neptune_run = neptune.init_run(\n",
    "        project=os.environ[\"NEPTUNE_PROJECT\"],\n",
    "        api_token=os.environ[\"NEPTUNE_API_TOKEN\"],\n",
    "    )"
   ]
  },
  {
   "cell_type": "code",
   "execution_count": 5,
   "metadata": {},
   "outputs": [
    {
     "name": "stderr",
     "output_type": "stream",
     "text": [
      "c:\\Users\\szdzi\\miniconda3\\envs\\mldd23\\lib\\site-packages\\neptune\\common\\warnings.py:62: NeptuneWarning: To avoid unintended consumption of logging hours during interactive sessions, the following monitoring options are disabled unless set to 'True' when initializing the run: 'capture_stdout', 'capture_stderr', and 'capture_hardware_metrics'.\n",
      "  warnings.warn(\n"
     ]
    },
    {
     "name": "stdout",
     "output_type": "stream",
     "text": [
      "https://app.neptune.ai/szdziedzic/intent-classification-in-polish/e/INTENT-2\n"
     ]
    },
    {
     "name": "stderr",
     "output_type": "stream",
     "text": [
      "Found cached dataset massive (C:/Users/szdzi/.cache/huggingface/datasets/AmazonScience___massive/pl-PL/1.0.0/71d360eb7d7a18565ff8c10609cebf714fce3cc390e173ba5b02ffd48543cdc1)\n",
      "Found cached dataset massive (C:/Users/szdzi/.cache/huggingface/datasets/AmazonScience___massive/pl-PL/1.0.0/71d360eb7d7a18565ff8c10609cebf714fce3cc390e173ba5b02ffd48543cdc1)\n",
      "Found cached dataset massive (C:/Users/szdzi/.cache/huggingface/datasets/AmazonScience___massive/pl-PL/1.0.0/71d360eb7d7a18565ff8c10609cebf714fce3cc390e173ba5b02ffd48543cdc1)\n",
      "Some weights of the model checkpoint at allegro/herbert-base-cased were not used when initializing BertModel: ['cls.sso.sso_relationship.weight', 'cls.predictions.transform.dense.bias', 'cls.sso.sso_relationship.bias', 'cls.predictions.transform.LayerNorm.weight', 'cls.predictions.bias', 'cls.predictions.decoder.weight', 'cls.predictions.transform.dense.weight', 'cls.predictions.decoder.bias', 'cls.predictions.transform.LayerNorm.bias']\n",
      "- This IS expected if you are initializing BertModel from the checkpoint of a model trained on another task or with another architecture (e.g. initializing a BertForSequenceClassification model from a BertForPreTraining model).\n",
      "- This IS NOT expected if you are initializing BertModel from the checkpoint of a model that you expect to be exactly identical (initializing a BertForSequenceClassification model from a BertForSequenceClassification model).\n"
     ]
    },
    {
     "name": "stdout",
     "output_type": "stream",
     "text": [
      "Running experiment \"Herbert experiment\".\n"
     ]
    },
    {
     "name": "stderr",
     "output_type": "stream",
     "text": [
      "  0%|          | 0/5 [00:00<?, ?it/s]c:\\university\\spring-23\\intent-classification-for-polish-language\\colab_experiments\\..\\herbert.py:51: UserWarning: Implicit dimension choice for softmax has been deprecated. Change the call to include dim=X as an argument.\n",
      "  return F.softmax(x)\n",
      "#Epoch: 0, train loss: 16.37, train_acc: 0.01, val loss: 8.18, val_acc: 0.00:  20%|██        | 1/5 [00:12<00:49, 12.33s/it]c:\\university\\spring-23\\intent-classification-for-polish-language\\colab_experiments\\..\\herbert.py:51: UserWarning: Implicit dimension choice for softmax has been deprecated. Change the call to include dim=X as an argument.\n",
      "  return F.softmax(x)\n",
      "#Epoch: 1, train loss: 16.33, train_acc: 0.04, val loss: 8.17, val_acc: 0.00:  40%|████      | 2/5 [00:27<00:41, 13.84s/it]c:\\university\\spring-23\\intent-classification-for-polish-language\\colab_experiments\\..\\herbert.py:51: UserWarning: Implicit dimension choice for softmax has been deprecated. Change the call to include dim=X as an argument.\n",
      "  return F.softmax(x)\n",
      "#Epoch: 2, train loss: 16.29, train_acc: 0.06, val loss: 8.15, val_acc: 0.02:  60%|██████    | 3/5 [00:42<00:28, 14.44s/it]c:\\university\\spring-23\\intent-classification-for-polish-language\\colab_experiments\\..\\herbert.py:51: UserWarning: Implicit dimension choice for softmax has been deprecated. Change the call to include dim=X as an argument.\n",
      "  return F.softmax(x)\n",
      "#Epoch: 3, train loss: 16.26, train_acc: 0.10, val loss: 8.15, val_acc: 0.06:  80%|████████  | 4/5 [01:04<00:17, 17.61s/it]c:\\university\\spring-23\\intent-classification-for-polish-language\\colab_experiments\\..\\herbert.py:51: UserWarning: Implicit dimension choice for softmax has been deprecated. Change the call to include dim=X as an argument.\n",
      "  return F.softmax(x)\n",
      "#Epoch: 4, train loss: 16.22, train_acc: 0.10, val loss: 8.14, val_acc: 0.06: 100%|██████████| 5/5 [01:21<00:00, 16.27s/it]\n"
     ]
    },
    {
     "name": "stdout",
     "output_type": "stream",
     "text": [
      "Experiment \"Herbert experiment\" finished training.\n",
      "Running experiment \"Herbert experiment\" testing.\n"
     ]
    },
    {
     "name": "stderr",
     "output_type": "stream",
     "text": [
      "c:\\university\\spring-23\\intent-classification-for-polish-language\\colab_experiments\\..\\herbert.py:51: UserWarning: Implicit dimension choice for softmax has been deprecated. Change the call to include dim=X as an argument.\n",
      "  return F.softmax(x)\n"
     ]
    },
    {
     "name": "stdout",
     "output_type": "stream",
     "text": [
      "Test loss: 8.13, test_acc: 0.08\n",
      "Experiment \"Herbert experiment\" finished.\n"
     ]
    }
   ],
   "source": [
    "from torch.optim import Adam\n",
    "from torch.nn import CrossEntropyLoss\n",
    "\n",
    "HerbertExperiment(\n",
    "    optimizer_class=Adam,\n",
    "    loss_class=CrossEntropyLoss,\n",
    "    num_epochs=5,\n",
    "    test_size=50,\n",
    "    val_size=50,\n",
    "    train_size=100,\n",
    "    neptune_run=neptune_run\n",
    ").run()"
   ]
  }
 ],
 "metadata": {
  "kernelspec": {
   "display_name": "mldd23",
   "language": "python",
   "name": "python3"
  },
  "language_info": {
   "codemirror_mode": {
    "name": "ipython",
    "version": 3
   },
   "file_extension": ".py",
   "mimetype": "text/x-python",
   "name": "python",
   "nbconvert_exporter": "python",
   "pygments_lexer": "ipython3",
   "version": "3.9.16"
  },
  "orig_nbformat": 4
 },
 "nbformat": 4,
 "nbformat_minor": 2
}
